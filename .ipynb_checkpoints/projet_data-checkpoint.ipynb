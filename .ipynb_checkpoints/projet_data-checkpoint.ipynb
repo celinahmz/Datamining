{
 "cells": [
  {
   "cell_type": "markdown",
   "id": "d9c7d353",
   "metadata": {},
   "source": [
    "Le dataset student_spending contient des informatios sur le \n",
    "age\tgender\tyear_in_school\tmajor\tmonthly_income\tfinancial_aid\ttuition\thousing\tfood\ttransportation\tbooks_supplies\tentertainment\tpersonal_care\ttechnology\thealth_wellness\tmiscellaneous\tpreferred_payment_method"
   ]
  },
  {
   "cell_type": "code",
   "execution_count": 2,
   "id": "6272d2b4",
   "metadata": {},
   "outputs": [
    {
     "data": {
      "text/html": [
       "<div>\n",
       "<style scoped>\n",
       "    .dataframe tbody tr th:only-of-type {\n",
       "        vertical-align: middle;\n",
       "    }\n",
       "\n",
       "    .dataframe tbody tr th {\n",
       "        vertical-align: top;\n",
       "    }\n",
       "\n",
       "    .dataframe thead th {\n",
       "        text-align: right;\n",
       "    }\n",
       "</style>\n",
       "<table border=\"1\" class=\"dataframe\">\n",
       "  <thead>\n",
       "    <tr style=\"text-align: right;\">\n",
       "      <th></th>\n",
       "      <th>Unnamed: 0</th>\n",
       "      <th>age</th>\n",
       "      <th>gender</th>\n",
       "      <th>year_in_school</th>\n",
       "      <th>major</th>\n",
       "      <th>monthly_income</th>\n",
       "      <th>financial_aid</th>\n",
       "      <th>tuition</th>\n",
       "      <th>housing</th>\n",
       "      <th>food</th>\n",
       "      <th>transportation</th>\n",
       "      <th>books_supplies</th>\n",
       "      <th>entertainment</th>\n",
       "      <th>personal_care</th>\n",
       "      <th>technology</th>\n",
       "      <th>health_wellness</th>\n",
       "      <th>miscellaneous</th>\n",
       "      <th>preferred_payment_method</th>\n",
       "    </tr>\n",
       "  </thead>\n",
       "  <tbody>\n",
       "    <tr>\n",
       "      <th>0</th>\n",
       "      <td>0</td>\n",
       "      <td>19</td>\n",
       "      <td>Non-binary</td>\n",
       "      <td>Freshman</td>\n",
       "      <td>Psychology</td>\n",
       "      <td>958</td>\n",
       "      <td>270</td>\n",
       "      <td>5939</td>\n",
       "      <td>709</td>\n",
       "      <td>296</td>\n",
       "      <td>123</td>\n",
       "      <td>188</td>\n",
       "      <td>41</td>\n",
       "      <td>78</td>\n",
       "      <td>134</td>\n",
       "      <td>127</td>\n",
       "      <td>72</td>\n",
       "      <td>Credit/Debit Card</td>\n",
       "    </tr>\n",
       "    <tr>\n",
       "      <th>1</th>\n",
       "      <td>1</td>\n",
       "      <td>24</td>\n",
       "      <td>Female</td>\n",
       "      <td>Junior</td>\n",
       "      <td>Economics</td>\n",
       "      <td>1006</td>\n",
       "      <td>875</td>\n",
       "      <td>4908</td>\n",
       "      <td>557</td>\n",
       "      <td>365</td>\n",
       "      <td>85</td>\n",
       "      <td>252</td>\n",
       "      <td>74</td>\n",
       "      <td>92</td>\n",
       "      <td>226</td>\n",
       "      <td>129</td>\n",
       "      <td>68</td>\n",
       "      <td>Credit/Debit Card</td>\n",
       "    </tr>\n",
       "    <tr>\n",
       "      <th>2</th>\n",
       "      <td>2</td>\n",
       "      <td>24</td>\n",
       "      <td>Non-binary</td>\n",
       "      <td>Junior</td>\n",
       "      <td>Economics</td>\n",
       "      <td>734</td>\n",
       "      <td>928</td>\n",
       "      <td>3051</td>\n",
       "      <td>666</td>\n",
       "      <td>220</td>\n",
       "      <td>137</td>\n",
       "      <td>99</td>\n",
       "      <td>130</td>\n",
       "      <td>23</td>\n",
       "      <td>239</td>\n",
       "      <td>112</td>\n",
       "      <td>133</td>\n",
       "      <td>Cash</td>\n",
       "    </tr>\n",
       "    <tr>\n",
       "      <th>3</th>\n",
       "      <td>3</td>\n",
       "      <td>23</td>\n",
       "      <td>Female</td>\n",
       "      <td>Senior</td>\n",
       "      <td>Computer Science</td>\n",
       "      <td>617</td>\n",
       "      <td>265</td>\n",
       "      <td>4935</td>\n",
       "      <td>652</td>\n",
       "      <td>289</td>\n",
       "      <td>114</td>\n",
       "      <td>223</td>\n",
       "      <td>99</td>\n",
       "      <td>30</td>\n",
       "      <td>163</td>\n",
       "      <td>105</td>\n",
       "      <td>55</td>\n",
       "      <td>Mobile Payment App</td>\n",
       "    </tr>\n",
       "    <tr>\n",
       "      <th>4</th>\n",
       "      <td>4</td>\n",
       "      <td>20</td>\n",
       "      <td>Female</td>\n",
       "      <td>Senior</td>\n",
       "      <td>Computer Science</td>\n",
       "      <td>810</td>\n",
       "      <td>522</td>\n",
       "      <td>3887</td>\n",
       "      <td>825</td>\n",
       "      <td>372</td>\n",
       "      <td>168</td>\n",
       "      <td>194</td>\n",
       "      <td>48</td>\n",
       "      <td>71</td>\n",
       "      <td>88</td>\n",
       "      <td>71</td>\n",
       "      <td>104</td>\n",
       "      <td>Credit/Debit Card</td>\n",
       "    </tr>\n",
       "  </tbody>\n",
       "</table>\n",
       "</div>"
      ],
      "text/plain": [
       "   Unnamed: 0  age      gender year_in_school             major  \\\n",
       "0           0   19  Non-binary       Freshman        Psychology   \n",
       "1           1   24      Female         Junior         Economics   \n",
       "2           2   24  Non-binary         Junior         Economics   \n",
       "3           3   23      Female         Senior  Computer Science   \n",
       "4           4   20      Female         Senior  Computer Science   \n",
       "\n",
       "   monthly_income  financial_aid  tuition  housing  food  transportation  \\\n",
       "0             958            270     5939      709   296             123   \n",
       "1            1006            875     4908      557   365              85   \n",
       "2             734            928     3051      666   220             137   \n",
       "3             617            265     4935      652   289             114   \n",
       "4             810            522     3887      825   372             168   \n",
       "\n",
       "   books_supplies  entertainment  personal_care  technology  health_wellness  \\\n",
       "0             188             41             78         134              127   \n",
       "1             252             74             92         226              129   \n",
       "2              99            130             23         239              112   \n",
       "3             223             99             30         163              105   \n",
       "4             194             48             71          88               71   \n",
       "\n",
       "   miscellaneous preferred_payment_method  \n",
       "0             72        Credit/Debit Card  \n",
       "1             68        Credit/Debit Card  \n",
       "2            133                     Cash  \n",
       "3             55       Mobile Payment App  \n",
       "4            104        Credit/Debit Card  "
      ]
     },
     "execution_count": 2,
     "metadata": {},
     "output_type": "execute_result"
    }
   ],
   "source": [
    "import pandas as pd \n",
    "\n",
    "df = pd.read_csv(\"student_spending.csv\")\n",
    "df.head()\n"
   ]
  },
  {
   "cell_type": "code",
   "execution_count": 38,
   "id": "c1899495",
   "metadata": {},
   "outputs": [
    {
     "name": "stdout",
     "output_type": "stream",
     "text": [
      "<class 'pandas.core.frame.DataFrame'>\n",
      "RangeIndex: 1000 entries, 0 to 999\n",
      "Data columns (total 22 columns):\n",
      " #   Column                    Non-Null Count  Dtype \n",
      "---  ------                    --------------  ----- \n",
      " 0   Unnamed: 0                1000 non-null   int64 \n",
      " 1   age                       1000 non-null   int64 \n",
      " 2   gender                    1000 non-null   object\n",
      " 3   year_in_school            1000 non-null   object\n",
      " 4   major                     1000 non-null   object\n",
      " 5   monthly_income            1000 non-null   int64 \n",
      " 6   financial_aid             1000 non-null   int64 \n",
      " 7   tuition                   1000 non-null   int64 \n",
      " 8   housing                   1000 non-null   int64 \n",
      " 9   food                      1000 non-null   int64 \n",
      " 10  transportation            1000 non-null   int64 \n",
      " 11  books_supplies            1000 non-null   int64 \n",
      " 12  entertainment             1000 non-null   int64 \n",
      " 13  personal_care             1000 non-null   int64 \n",
      " 14  technology                1000 non-null   int64 \n",
      " 15  health_wellness           1000 non-null   int64 \n",
      " 16  miscellaneous             1000 non-null   int64 \n",
      " 17  preferred_payment_method  1000 non-null   object\n",
      " 18  total                     1000 non-null   int64 \n",
      " 19  total_spend               1000 non-null   int64 \n",
      " 20  total_income              1000 non-null   int64 \n",
      " 21  money_saved               1000 non-null   int64 \n",
      "dtypes: int64(18), object(4)\n",
      "memory usage: 172.0+ KB\n"
     ]
    }
   ],
   "source": [
    "df.info()"
   ]
  },
  {
   "cell_type": "code",
   "execution_count": 4,
   "id": "cb2b6a05",
   "metadata": {},
   "outputs": [
    {
     "name": "stdout",
     "output_type": "stream",
     "text": [
      "Unnamed: 0                   int64\n",
      "age                          int64\n",
      "gender                      object\n",
      "year_in_school              object\n",
      "major                       object\n",
      "monthly_income               int64\n",
      "financial_aid                int64\n",
      "tuition                      int64\n",
      "housing                      int64\n",
      "food                         int64\n",
      "transportation               int64\n",
      "books_supplies               int64\n",
      "entertainment                int64\n",
      "personal_care                int64\n",
      "technology                   int64\n",
      "health_wellness              int64\n",
      "miscellaneous                int64\n",
      "preferred_payment_method    object\n",
      "dtype: object\n"
     ]
    }
   ],
   "source": [
    "print(df.dtypes)"
   ]
  },
  {
   "cell_type": "code",
   "execution_count": null,
   "id": "e2d54e51",
   "metadata": {},
   "outputs": [],
   "source": [
    "#changer type de colonnez year_in_school\n",
    "#supprimer les doublons"
   ]
  },
  {
   "cell_type": "code",
   "execution_count": 7,
   "id": "356eb16f",
   "metadata": {},
   "outputs": [
    {
     "data": {
      "text/plain": [
       "Unnamed: 0                  0\n",
       "age                         0\n",
       "gender                      0\n",
       "year_in_school              0\n",
       "major                       0\n",
       "monthly_income              0\n",
       "financial_aid               0\n",
       "tuition                     0\n",
       "housing                     0\n",
       "food                        0\n",
       "transportation              0\n",
       "books_supplies              0\n",
       "entertainment               0\n",
       "personal_care               0\n",
       "technology                  0\n",
       "health_wellness             0\n",
       "miscellaneous               0\n",
       "preferred_payment_method    0\n",
       "dtype: int64"
      ]
     },
     "execution_count": 7,
     "metadata": {},
     "output_type": "execute_result"
    }
   ],
   "source": [
    "df.isna().sum()\n",
    "\n",
    "# Le dataframe contient aucune valeur null "
   ]
  },
  {
   "cell_type": "code",
   "execution_count": 8,
   "id": "51a602e7",
   "metadata": {},
   "outputs": [
    {
     "data": {
      "text/html": [
       "<div>\n",
       "<style scoped>\n",
       "    .dataframe tbody tr th:only-of-type {\n",
       "        vertical-align: middle;\n",
       "    }\n",
       "\n",
       "    .dataframe tbody tr th {\n",
       "        vertical-align: top;\n",
       "    }\n",
       "\n",
       "    .dataframe thead th {\n",
       "        text-align: right;\n",
       "    }\n",
       "</style>\n",
       "<table border=\"1\" class=\"dataframe\">\n",
       "  <thead>\n",
       "    <tr style=\"text-align: right;\">\n",
       "      <th></th>\n",
       "      <th>Unnamed: 0</th>\n",
       "      <th>age</th>\n",
       "      <th>monthly_income</th>\n",
       "      <th>financial_aid</th>\n",
       "      <th>tuition</th>\n",
       "      <th>housing</th>\n",
       "      <th>food</th>\n",
       "      <th>transportation</th>\n",
       "      <th>books_supplies</th>\n",
       "      <th>entertainment</th>\n",
       "      <th>personal_care</th>\n",
       "      <th>technology</th>\n",
       "      <th>health_wellness</th>\n",
       "      <th>miscellaneous</th>\n",
       "    </tr>\n",
       "  </thead>\n",
       "  <tbody>\n",
       "    <tr>\n",
       "      <th>count</th>\n",
       "      <td>1000.000000</td>\n",
       "      <td>1000.000000</td>\n",
       "      <td>1000.000000</td>\n",
       "      <td>1000.000000</td>\n",
       "      <td>1000.000000</td>\n",
       "      <td>1000.00000</td>\n",
       "      <td>1000.000000</td>\n",
       "      <td>1000.00000</td>\n",
       "      <td>1000.000000</td>\n",
       "      <td>1000.000000</td>\n",
       "      <td>1000.000000</td>\n",
       "      <td>1000.000000</td>\n",
       "      <td>1000.000000</td>\n",
       "      <td>1000.000000</td>\n",
       "    </tr>\n",
       "    <tr>\n",
       "      <th>mean</th>\n",
       "      <td>499.500000</td>\n",
       "      <td>21.675000</td>\n",
       "      <td>1020.650000</td>\n",
       "      <td>504.771000</td>\n",
       "      <td>4520.395000</td>\n",
       "      <td>696.00600</td>\n",
       "      <td>252.642000</td>\n",
       "      <td>124.63700</td>\n",
       "      <td>174.761000</td>\n",
       "      <td>84.814000</td>\n",
       "      <td>60.699000</td>\n",
       "      <td>178.304000</td>\n",
       "      <td>114.310000</td>\n",
       "      <td>108.910000</td>\n",
       "    </tr>\n",
       "    <tr>\n",
       "      <th>std</th>\n",
       "      <td>288.819436</td>\n",
       "      <td>2.322664</td>\n",
       "      <td>293.841161</td>\n",
       "      <td>287.092575</td>\n",
       "      <td>860.657944</td>\n",
       "      <td>171.21862</td>\n",
       "      <td>86.949606</td>\n",
       "      <td>43.55799</td>\n",
       "      <td>72.404518</td>\n",
       "      <td>37.970451</td>\n",
       "      <td>22.898007</td>\n",
       "      <td>71.744441</td>\n",
       "      <td>49.591544</td>\n",
       "      <td>52.412221</td>\n",
       "    </tr>\n",
       "    <tr>\n",
       "      <th>min</th>\n",
       "      <td>0.000000</td>\n",
       "      <td>18.000000</td>\n",
       "      <td>501.000000</td>\n",
       "      <td>0.000000</td>\n",
       "      <td>3003.000000</td>\n",
       "      <td>401.00000</td>\n",
       "      <td>100.000000</td>\n",
       "      <td>50.00000</td>\n",
       "      <td>50.000000</td>\n",
       "      <td>20.000000</td>\n",
       "      <td>20.000000</td>\n",
       "      <td>50.000000</td>\n",
       "      <td>30.000000</td>\n",
       "      <td>20.000000</td>\n",
       "    </tr>\n",
       "    <tr>\n",
       "      <th>25%</th>\n",
       "      <td>249.750000</td>\n",
       "      <td>20.000000</td>\n",
       "      <td>770.750000</td>\n",
       "      <td>261.000000</td>\n",
       "      <td>3779.750000</td>\n",
       "      <td>538.75000</td>\n",
       "      <td>175.000000</td>\n",
       "      <td>88.00000</td>\n",
       "      <td>112.000000</td>\n",
       "      <td>54.000000</td>\n",
       "      <td>41.000000</td>\n",
       "      <td>114.000000</td>\n",
       "      <td>73.000000</td>\n",
       "      <td>63.750000</td>\n",
       "    </tr>\n",
       "    <tr>\n",
       "      <th>50%</th>\n",
       "      <td>499.500000</td>\n",
       "      <td>22.000000</td>\n",
       "      <td>1021.000000</td>\n",
       "      <td>513.000000</td>\n",
       "      <td>4547.500000</td>\n",
       "      <td>704.50000</td>\n",
       "      <td>255.000000</td>\n",
       "      <td>123.00000</td>\n",
       "      <td>175.000000</td>\n",
       "      <td>86.000000</td>\n",
       "      <td>62.000000</td>\n",
       "      <td>178.000000</td>\n",
       "      <td>115.000000</td>\n",
       "      <td>110.000000</td>\n",
       "    </tr>\n",
       "    <tr>\n",
       "      <th>75%</th>\n",
       "      <td>749.250000</td>\n",
       "      <td>24.000000</td>\n",
       "      <td>1288.250000</td>\n",
       "      <td>751.500000</td>\n",
       "      <td>5285.000000</td>\n",
       "      <td>837.25000</td>\n",
       "      <td>330.000000</td>\n",
       "      <td>162.25000</td>\n",
       "      <td>238.000000</td>\n",
       "      <td>116.000000</td>\n",
       "      <td>80.000000</td>\n",
       "      <td>241.000000</td>\n",
       "      <td>158.000000</td>\n",
       "      <td>153.000000</td>\n",
       "    </tr>\n",
       "    <tr>\n",
       "      <th>max</th>\n",
       "      <td>999.000000</td>\n",
       "      <td>25.000000</td>\n",
       "      <td>1500.000000</td>\n",
       "      <td>1000.000000</td>\n",
       "      <td>6000.000000</td>\n",
       "      <td>1000.00000</td>\n",
       "      <td>400.000000</td>\n",
       "      <td>200.00000</td>\n",
       "      <td>300.000000</td>\n",
       "      <td>150.000000</td>\n",
       "      <td>100.000000</td>\n",
       "      <td>300.000000</td>\n",
       "      <td>200.000000</td>\n",
       "      <td>200.000000</td>\n",
       "    </tr>\n",
       "  </tbody>\n",
       "</table>\n",
       "</div>"
      ],
      "text/plain": [
       "        Unnamed: 0          age  monthly_income  financial_aid      tuition  \\\n",
       "count  1000.000000  1000.000000     1000.000000    1000.000000  1000.000000   \n",
       "mean    499.500000    21.675000     1020.650000     504.771000  4520.395000   \n",
       "std     288.819436     2.322664      293.841161     287.092575   860.657944   \n",
       "min       0.000000    18.000000      501.000000       0.000000  3003.000000   \n",
       "25%     249.750000    20.000000      770.750000     261.000000  3779.750000   \n",
       "50%     499.500000    22.000000     1021.000000     513.000000  4547.500000   \n",
       "75%     749.250000    24.000000     1288.250000     751.500000  5285.000000   \n",
       "max     999.000000    25.000000     1500.000000    1000.000000  6000.000000   \n",
       "\n",
       "          housing         food  transportation  books_supplies  entertainment  \\\n",
       "count  1000.00000  1000.000000      1000.00000     1000.000000    1000.000000   \n",
       "mean    696.00600   252.642000       124.63700      174.761000      84.814000   \n",
       "std     171.21862    86.949606        43.55799       72.404518      37.970451   \n",
       "min     401.00000   100.000000        50.00000       50.000000      20.000000   \n",
       "25%     538.75000   175.000000        88.00000      112.000000      54.000000   \n",
       "50%     704.50000   255.000000       123.00000      175.000000      86.000000   \n",
       "75%     837.25000   330.000000       162.25000      238.000000     116.000000   \n",
       "max    1000.00000   400.000000       200.00000      300.000000     150.000000   \n",
       "\n",
       "       personal_care   technology  health_wellness  miscellaneous  \n",
       "count    1000.000000  1000.000000      1000.000000    1000.000000  \n",
       "mean       60.699000   178.304000       114.310000     108.910000  \n",
       "std        22.898007    71.744441        49.591544      52.412221  \n",
       "min        20.000000    50.000000        30.000000      20.000000  \n",
       "25%        41.000000   114.000000        73.000000      63.750000  \n",
       "50%        62.000000   178.000000       115.000000     110.000000  \n",
       "75%        80.000000   241.000000       158.000000     153.000000  \n",
       "max       100.000000   300.000000       200.000000     200.000000  "
      ]
     },
     "execution_count": 8,
     "metadata": {},
     "output_type": "execute_result"
    }
   ],
   "source": [
    "df.describe()\n",
    "#chercher ca veut dire quoi 25%....."
   ]
  },
  {
   "cell_type": "code",
   "execution_count": null,
   "id": "1ad81d52",
   "metadata": {},
   "outputs": [],
   "source": [
    "#dbscan trouver les valeurs abberantes "
   ]
  },
  {
   "cell_type": "markdown",
   "id": "d3ecc4b1",
   "metadata": {},
   "source": [
    "Les étudiants ont en moyenne 21 ans et demi (relativement jeunes).\n",
    "En moyenne, ils reçoivent 1000 dollars de revenu mensuel et 500 dollars supplémentaires d'aide financière.\n",
    "Leurs frais de scolarité leur coûteront en moyenne 4500 dollars, mais varient considérablement.\n",
    "Le loyer s'élève en moyenne à 700 dollars, mais varie également autour de 200 dollars. Le loyer le moins cher était de 401 dollars.\n",
    "Toutes les dépenses semblent avoir des distributions symétriques (la médiane est approximativement égale à la moyenne).\n",
    "De plus, les quantiles indiquent une distribution uniforme à travers toutes les dépenses."
   ]
  },
  {
   "cell_type": "markdown",
   "id": "bd1e4f62",
   "metadata": {},
   "source": [
    "Les plus gros dépensiers :\n",
    "Voici une liste des étudiants qui ont le plus dépensé :"
   ]
  },
  {
   "cell_type": "code",
   "execution_count": 9,
   "id": "7cda2f12",
   "metadata": {},
   "outputs": [
    {
     "data": {
      "text/html": [
       "<div>\n",
       "<style scoped>\n",
       "    .dataframe tbody tr th:only-of-type {\n",
       "        vertical-align: middle;\n",
       "    }\n",
       "\n",
       "    .dataframe tbody tr th {\n",
       "        vertical-align: top;\n",
       "    }\n",
       "\n",
       "    .dataframe thead th {\n",
       "        text-align: right;\n",
       "    }\n",
       "</style>\n",
       "<table border=\"1\" class=\"dataframe\">\n",
       "  <thead>\n",
       "    <tr style=\"text-align: right;\">\n",
       "      <th></th>\n",
       "      <th>Unnamed: 0</th>\n",
       "      <th>age</th>\n",
       "      <th>gender</th>\n",
       "      <th>year_in_school</th>\n",
       "      <th>major</th>\n",
       "      <th>monthly_income</th>\n",
       "      <th>financial_aid</th>\n",
       "      <th>tuition</th>\n",
       "      <th>housing</th>\n",
       "      <th>food</th>\n",
       "      <th>transportation</th>\n",
       "      <th>books_supplies</th>\n",
       "      <th>entertainment</th>\n",
       "      <th>personal_care</th>\n",
       "      <th>technology</th>\n",
       "      <th>health_wellness</th>\n",
       "      <th>miscellaneous</th>\n",
       "      <th>preferred_payment_method</th>\n",
       "      <th>total</th>\n",
       "    </tr>\n",
       "  </thead>\n",
       "  <tbody>\n",
       "    <tr>\n",
       "      <th>863</th>\n",
       "      <td>863</td>\n",
       "      <td>23</td>\n",
       "      <td>Male</td>\n",
       "      <td>Senior</td>\n",
       "      <td>Engineering</td>\n",
       "      <td>1413</td>\n",
       "      <td>80</td>\n",
       "      <td>5976</td>\n",
       "      <td>836</td>\n",
       "      <td>386</td>\n",
       "      <td>194</td>\n",
       "      <td>266</td>\n",
       "      <td>29</td>\n",
       "      <td>99</td>\n",
       "      <td>213</td>\n",
       "      <td>109</td>\n",
       "      <td>158</td>\n",
       "      <td>Cash</td>\n",
       "      <td>8266</td>\n",
       "    </tr>\n",
       "    <tr>\n",
       "      <th>359</th>\n",
       "      <td>359</td>\n",
       "      <td>21</td>\n",
       "      <td>Non-binary</td>\n",
       "      <td>Junior</td>\n",
       "      <td>Computer Science</td>\n",
       "      <td>918</td>\n",
       "      <td>831</td>\n",
       "      <td>5934</td>\n",
       "      <td>949</td>\n",
       "      <td>391</td>\n",
       "      <td>81</td>\n",
       "      <td>127</td>\n",
       "      <td>121</td>\n",
       "      <td>64</td>\n",
       "      <td>275</td>\n",
       "      <td>141</td>\n",
       "      <td>159</td>\n",
       "      <td>Credit/Debit Card</td>\n",
       "      <td>8242</td>\n",
       "    </tr>\n",
       "    <tr>\n",
       "      <th>582</th>\n",
       "      <td>582</td>\n",
       "      <td>21</td>\n",
       "      <td>Non-binary</td>\n",
       "      <td>Junior</td>\n",
       "      <td>Biology</td>\n",
       "      <td>1412</td>\n",
       "      <td>671</td>\n",
       "      <td>6000</td>\n",
       "      <td>917</td>\n",
       "      <td>295</td>\n",
       "      <td>191</td>\n",
       "      <td>103</td>\n",
       "      <td>22</td>\n",
       "      <td>85</td>\n",
       "      <td>297</td>\n",
       "      <td>62</td>\n",
       "      <td>140</td>\n",
       "      <td>Mobile Payment App</td>\n",
       "      <td>8112</td>\n",
       "    </tr>\n",
       "    <tr>\n",
       "      <th>475</th>\n",
       "      <td>475</td>\n",
       "      <td>24</td>\n",
       "      <td>Female</td>\n",
       "      <td>Freshman</td>\n",
       "      <td>Psychology</td>\n",
       "      <td>1331</td>\n",
       "      <td>681</td>\n",
       "      <td>5918</td>\n",
       "      <td>949</td>\n",
       "      <td>335</td>\n",
       "      <td>125</td>\n",
       "      <td>258</td>\n",
       "      <td>94</td>\n",
       "      <td>94</td>\n",
       "      <td>171</td>\n",
       "      <td>34</td>\n",
       "      <td>127</td>\n",
       "      <td>Mobile Payment App</td>\n",
       "      <td>8105</td>\n",
       "    </tr>\n",
       "    <tr>\n",
       "      <th>881</th>\n",
       "      <td>881</td>\n",
       "      <td>19</td>\n",
       "      <td>Male</td>\n",
       "      <td>Freshman</td>\n",
       "      <td>Engineering</td>\n",
       "      <td>505</td>\n",
       "      <td>293</td>\n",
       "      <td>5861</td>\n",
       "      <td>835</td>\n",
       "      <td>387</td>\n",
       "      <td>181</td>\n",
       "      <td>250</td>\n",
       "      <td>93</td>\n",
       "      <td>91</td>\n",
       "      <td>113</td>\n",
       "      <td>81</td>\n",
       "      <td>171</td>\n",
       "      <td>Cash</td>\n",
       "      <td>8063</td>\n",
       "    </tr>\n",
       "    <tr>\n",
       "      <th>65</th>\n",
       "      <td>65</td>\n",
       "      <td>19</td>\n",
       "      <td>Male</td>\n",
       "      <td>Freshman</td>\n",
       "      <td>Biology</td>\n",
       "      <td>1092</td>\n",
       "      <td>550</td>\n",
       "      <td>5841</td>\n",
       "      <td>916</td>\n",
       "      <td>150</td>\n",
       "      <td>143</td>\n",
       "      <td>257</td>\n",
       "      <td>90</td>\n",
       "      <td>29</td>\n",
       "      <td>262</td>\n",
       "      <td>192</td>\n",
       "      <td>177</td>\n",
       "      <td>Mobile Payment App</td>\n",
       "      <td>8057</td>\n",
       "    </tr>\n",
       "    <tr>\n",
       "      <th>170</th>\n",
       "      <td>170</td>\n",
       "      <td>21</td>\n",
       "      <td>Non-binary</td>\n",
       "      <td>Sophomore</td>\n",
       "      <td>Psychology</td>\n",
       "      <td>621</td>\n",
       "      <td>456</td>\n",
       "      <td>5893</td>\n",
       "      <td>960</td>\n",
       "      <td>199</td>\n",
       "      <td>124</td>\n",
       "      <td>278</td>\n",
       "      <td>115</td>\n",
       "      <td>48</td>\n",
       "      <td>193</td>\n",
       "      <td>178</td>\n",
       "      <td>68</td>\n",
       "      <td>Cash</td>\n",
       "      <td>8056</td>\n",
       "    </tr>\n",
       "    <tr>\n",
       "      <th>471</th>\n",
       "      <td>471</td>\n",
       "      <td>19</td>\n",
       "      <td>Male</td>\n",
       "      <td>Senior</td>\n",
       "      <td>Computer Science</td>\n",
       "      <td>627</td>\n",
       "      <td>995</td>\n",
       "      <td>5863</td>\n",
       "      <td>937</td>\n",
       "      <td>188</td>\n",
       "      <td>177</td>\n",
       "      <td>155</td>\n",
       "      <td>137</td>\n",
       "      <td>97</td>\n",
       "      <td>117</td>\n",
       "      <td>172</td>\n",
       "      <td>180</td>\n",
       "      <td>Cash</td>\n",
       "      <td>8023</td>\n",
       "    </tr>\n",
       "    <tr>\n",
       "      <th>569</th>\n",
       "      <td>569</td>\n",
       "      <td>21</td>\n",
       "      <td>Female</td>\n",
       "      <td>Senior</td>\n",
       "      <td>Engineering</td>\n",
       "      <td>940</td>\n",
       "      <td>973</td>\n",
       "      <td>5912</td>\n",
       "      <td>951</td>\n",
       "      <td>352</td>\n",
       "      <td>108</td>\n",
       "      <td>62</td>\n",
       "      <td>62</td>\n",
       "      <td>70</td>\n",
       "      <td>249</td>\n",
       "      <td>98</td>\n",
       "      <td>150</td>\n",
       "      <td>Credit/Debit Card</td>\n",
       "      <td>8014</td>\n",
       "    </tr>\n",
       "    <tr>\n",
       "      <th>723</th>\n",
       "      <td>723</td>\n",
       "      <td>21</td>\n",
       "      <td>Female</td>\n",
       "      <td>Junior</td>\n",
       "      <td>Biology</td>\n",
       "      <td>634</td>\n",
       "      <td>330</td>\n",
       "      <td>5961</td>\n",
       "      <td>774</td>\n",
       "      <td>334</td>\n",
       "      <td>193</td>\n",
       "      <td>105</td>\n",
       "      <td>83</td>\n",
       "      <td>46</td>\n",
       "      <td>166</td>\n",
       "      <td>200</td>\n",
       "      <td>150</td>\n",
       "      <td>Cash</td>\n",
       "      <td>8012</td>\n",
       "    </tr>\n",
       "  </tbody>\n",
       "</table>\n",
       "</div>"
      ],
      "text/plain": [
       "     Unnamed: 0  age      gender year_in_school             major  \\\n",
       "863         863   23        Male         Senior       Engineering   \n",
       "359         359   21  Non-binary         Junior  Computer Science   \n",
       "582         582   21  Non-binary         Junior           Biology   \n",
       "475         475   24      Female       Freshman        Psychology   \n",
       "881         881   19        Male       Freshman       Engineering   \n",
       "65           65   19        Male       Freshman           Biology   \n",
       "170         170   21  Non-binary      Sophomore        Psychology   \n",
       "471         471   19        Male         Senior  Computer Science   \n",
       "569         569   21      Female         Senior       Engineering   \n",
       "723         723   21      Female         Junior           Biology   \n",
       "\n",
       "     monthly_income  financial_aid  tuition  housing  food  transportation  \\\n",
       "863            1413             80     5976      836   386             194   \n",
       "359             918            831     5934      949   391              81   \n",
       "582            1412            671     6000      917   295             191   \n",
       "475            1331            681     5918      949   335             125   \n",
       "881             505            293     5861      835   387             181   \n",
       "65             1092            550     5841      916   150             143   \n",
       "170             621            456     5893      960   199             124   \n",
       "471             627            995     5863      937   188             177   \n",
       "569             940            973     5912      951   352             108   \n",
       "723             634            330     5961      774   334             193   \n",
       "\n",
       "     books_supplies  entertainment  personal_care  technology  \\\n",
       "863             266             29             99         213   \n",
       "359             127            121             64         275   \n",
       "582             103             22             85         297   \n",
       "475             258             94             94         171   \n",
       "881             250             93             91         113   \n",
       "65              257             90             29         262   \n",
       "170             278            115             48         193   \n",
       "471             155            137             97         117   \n",
       "569              62             62             70         249   \n",
       "723             105             83             46         166   \n",
       "\n",
       "     health_wellness  miscellaneous preferred_payment_method  total  \n",
       "863              109            158                     Cash   8266  \n",
       "359              141            159        Credit/Debit Card   8242  \n",
       "582               62            140       Mobile Payment App   8112  \n",
       "475               34            127       Mobile Payment App   8105  \n",
       "881               81            171                     Cash   8063  \n",
       "65               192            177       Mobile Payment App   8057  \n",
       "170              178             68                     Cash   8056  \n",
       "471              172            180                     Cash   8023  \n",
       "569               98            150        Credit/Debit Card   8014  \n",
       "723              200            150                     Cash   8012  "
      ]
     },
     "execution_count": 9,
     "metadata": {},
     "output_type": "execute_result"
    }
   ],
   "source": [
    "df[\"total\"] = df[[\"tuition\", \"housing\", \"food\", \"transportation\", \"books_supplies\", \"entertainment\", \"personal_care\", \"technology\",\"health_wellness\", \"miscellaneous\"]].sum(axis=1)\n",
    "\n",
    "df.sort_values(by=\"total\", ascending=False).head(10)"
   ]
  },
  {
   "cell_type": "markdown",
   "id": "3f74dcce",
   "metadata": {},
   "source": [
    "Il me semble qu'il n'y a pas de domaine d'études prédominant pour les gros dépensiers. De plus, les revenus varient fortement. Ce qu'ils ont en commun, ce sont leurs frais de scolarité, chacun étant dans les hauts 5 000 dollars. Regardons donc les dépenses normales."
   ]
  },
  {
   "cell_type": "code",
   "execution_count": 10,
   "id": "b24ed8bc",
   "metadata": {},
   "outputs": [
    {
     "data": {
      "text/html": [
       "<div>\n",
       "<style scoped>\n",
       "    .dataframe tbody tr th:only-of-type {\n",
       "        vertical-align: middle;\n",
       "    }\n",
       "\n",
       "    .dataframe tbody tr th {\n",
       "        vertical-align: top;\n",
       "    }\n",
       "\n",
       "    .dataframe thead th {\n",
       "        text-align: right;\n",
       "    }\n",
       "</style>\n",
       "<table border=\"1\" class=\"dataframe\">\n",
       "  <thead>\n",
       "    <tr style=\"text-align: right;\">\n",
       "      <th></th>\n",
       "      <th>Unnamed: 0</th>\n",
       "      <th>age</th>\n",
       "      <th>gender</th>\n",
       "      <th>year_in_school</th>\n",
       "      <th>major</th>\n",
       "      <th>monthly_income</th>\n",
       "      <th>financial_aid</th>\n",
       "      <th>tuition</th>\n",
       "      <th>housing</th>\n",
       "      <th>food</th>\n",
       "      <th>...</th>\n",
       "      <th>books_supplies</th>\n",
       "      <th>entertainment</th>\n",
       "      <th>personal_care</th>\n",
       "      <th>technology</th>\n",
       "      <th>health_wellness</th>\n",
       "      <th>miscellaneous</th>\n",
       "      <th>preferred_payment_method</th>\n",
       "      <th>total</th>\n",
       "      <th>total_spend</th>\n",
       "      <th>total_income</th>\n",
       "    </tr>\n",
       "  </thead>\n",
       "  <tbody>\n",
       "    <tr>\n",
       "      <th>726</th>\n",
       "      <td>726</td>\n",
       "      <td>18</td>\n",
       "      <td>Male</td>\n",
       "      <td>Senior</td>\n",
       "      <td>Computer Science</td>\n",
       "      <td>867</td>\n",
       "      <td>646</td>\n",
       "      <td>3014</td>\n",
       "      <td>944</td>\n",
       "      <td>320</td>\n",
       "      <td>...</td>\n",
       "      <td>232</td>\n",
       "      <td>96</td>\n",
       "      <td>73</td>\n",
       "      <td>298</td>\n",
       "      <td>142</td>\n",
       "      <td>183</td>\n",
       "      <td>Cash</td>\n",
       "      <td>5467</td>\n",
       "      <td>2453</td>\n",
       "      <td>1513</td>\n",
       "    </tr>\n",
       "    <tr>\n",
       "      <th>62</th>\n",
       "      <td>62</td>\n",
       "      <td>18</td>\n",
       "      <td>Female</td>\n",
       "      <td>Senior</td>\n",
       "      <td>Biology</td>\n",
       "      <td>733</td>\n",
       "      <td>838</td>\n",
       "      <td>5248</td>\n",
       "      <td>977</td>\n",
       "      <td>298</td>\n",
       "      <td>...</td>\n",
       "      <td>241</td>\n",
       "      <td>85</td>\n",
       "      <td>78</td>\n",
       "      <td>281</td>\n",
       "      <td>121</td>\n",
       "      <td>168</td>\n",
       "      <td>Cash</td>\n",
       "      <td>7661</td>\n",
       "      <td>2413</td>\n",
       "      <td>1571</td>\n",
       "    </tr>\n",
       "    <tr>\n",
       "      <th>930</th>\n",
       "      <td>930</td>\n",
       "      <td>23</td>\n",
       "      <td>Female</td>\n",
       "      <td>Senior</td>\n",
       "      <td>Economics</td>\n",
       "      <td>1123</td>\n",
       "      <td>490</td>\n",
       "      <td>5507</td>\n",
       "      <td>932</td>\n",
       "      <td>370</td>\n",
       "      <td>...</td>\n",
       "      <td>233</td>\n",
       "      <td>91</td>\n",
       "      <td>61</td>\n",
       "      <td>258</td>\n",
       "      <td>139</td>\n",
       "      <td>187</td>\n",
       "      <td>Mobile Payment App</td>\n",
       "      <td>7919</td>\n",
       "      <td>2412</td>\n",
       "      <td>1613</td>\n",
       "    </tr>\n",
       "    <tr>\n",
       "      <th>976</th>\n",
       "      <td>976</td>\n",
       "      <td>25</td>\n",
       "      <td>Male</td>\n",
       "      <td>Junior</td>\n",
       "      <td>Biology</td>\n",
       "      <td>1418</td>\n",
       "      <td>510</td>\n",
       "      <td>3832</td>\n",
       "      <td>976</td>\n",
       "      <td>370</td>\n",
       "      <td>...</td>\n",
       "      <td>218</td>\n",
       "      <td>89</td>\n",
       "      <td>89</td>\n",
       "      <td>283</td>\n",
       "      <td>185</td>\n",
       "      <td>60</td>\n",
       "      <td>Mobile Payment App</td>\n",
       "      <td>6219</td>\n",
       "      <td>2387</td>\n",
       "      <td>1928</td>\n",
       "    </tr>\n",
       "    <tr>\n",
       "      <th>846</th>\n",
       "      <td>846</td>\n",
       "      <td>21</td>\n",
       "      <td>Non-binary</td>\n",
       "      <td>Freshman</td>\n",
       "      <td>Biology</td>\n",
       "      <td>542</td>\n",
       "      <td>905</td>\n",
       "      <td>3434</td>\n",
       "      <td>987</td>\n",
       "      <td>297</td>\n",
       "      <td>...</td>\n",
       "      <td>189</td>\n",
       "      <td>150</td>\n",
       "      <td>26</td>\n",
       "      <td>286</td>\n",
       "      <td>185</td>\n",
       "      <td>86</td>\n",
       "      <td>Cash</td>\n",
       "      <td>5800</td>\n",
       "      <td>2366</td>\n",
       "      <td>1447</td>\n",
       "    </tr>\n",
       "    <tr>\n",
       "      <th>849</th>\n",
       "      <td>849</td>\n",
       "      <td>19</td>\n",
       "      <td>Female</td>\n",
       "      <td>Junior</td>\n",
       "      <td>Engineering</td>\n",
       "      <td>1022</td>\n",
       "      <td>227</td>\n",
       "      <td>4305</td>\n",
       "      <td>982</td>\n",
       "      <td>296</td>\n",
       "      <td>...</td>\n",
       "      <td>252</td>\n",
       "      <td>149</td>\n",
       "      <td>79</td>\n",
       "      <td>206</td>\n",
       "      <td>152</td>\n",
       "      <td>162</td>\n",
       "      <td>Cash</td>\n",
       "      <td>6656</td>\n",
       "      <td>2351</td>\n",
       "      <td>1249</td>\n",
       "    </tr>\n",
       "    <tr>\n",
       "      <th>888</th>\n",
       "      <td>888</td>\n",
       "      <td>25</td>\n",
       "      <td>Male</td>\n",
       "      <td>Freshman</td>\n",
       "      <td>Biology</td>\n",
       "      <td>1141</td>\n",
       "      <td>362</td>\n",
       "      <td>3197</td>\n",
       "      <td>926</td>\n",
       "      <td>397</td>\n",
       "      <td>...</td>\n",
       "      <td>150</td>\n",
       "      <td>122</td>\n",
       "      <td>69</td>\n",
       "      <td>258</td>\n",
       "      <td>173</td>\n",
       "      <td>120</td>\n",
       "      <td>Mobile Payment App</td>\n",
       "      <td>5533</td>\n",
       "      <td>2336</td>\n",
       "      <td>1503</td>\n",
       "    </tr>\n",
       "    <tr>\n",
       "      <th>113</th>\n",
       "      <td>113</td>\n",
       "      <td>21</td>\n",
       "      <td>Female</td>\n",
       "      <td>Freshman</td>\n",
       "      <td>Computer Science</td>\n",
       "      <td>702</td>\n",
       "      <td>273</td>\n",
       "      <td>4977</td>\n",
       "      <td>906</td>\n",
       "      <td>385</td>\n",
       "      <td>...</td>\n",
       "      <td>277</td>\n",
       "      <td>148</td>\n",
       "      <td>41</td>\n",
       "      <td>205</td>\n",
       "      <td>149</td>\n",
       "      <td>116</td>\n",
       "      <td>Cash</td>\n",
       "      <td>7310</td>\n",
       "      <td>2333</td>\n",
       "      <td>975</td>\n",
       "    </tr>\n",
       "    <tr>\n",
       "      <th>901</th>\n",
       "      <td>901</td>\n",
       "      <td>22</td>\n",
       "      <td>Male</td>\n",
       "      <td>Senior</td>\n",
       "      <td>Engineering</td>\n",
       "      <td>894</td>\n",
       "      <td>27</td>\n",
       "      <td>4496</td>\n",
       "      <td>718</td>\n",
       "      <td>373</td>\n",
       "      <td>...</td>\n",
       "      <td>254</td>\n",
       "      <td>139</td>\n",
       "      <td>82</td>\n",
       "      <td>286</td>\n",
       "      <td>134</td>\n",
       "      <td>198</td>\n",
       "      <td>Credit/Debit Card</td>\n",
       "      <td>6824</td>\n",
       "      <td>2328</td>\n",
       "      <td>921</td>\n",
       "    </tr>\n",
       "    <tr>\n",
       "      <th>774</th>\n",
       "      <td>774</td>\n",
       "      <td>25</td>\n",
       "      <td>Male</td>\n",
       "      <td>Sophomore</td>\n",
       "      <td>Engineering</td>\n",
       "      <td>1257</td>\n",
       "      <td>45</td>\n",
       "      <td>3653</td>\n",
       "      <td>809</td>\n",
       "      <td>373</td>\n",
       "      <td>...</td>\n",
       "      <td>246</td>\n",
       "      <td>78</td>\n",
       "      <td>36</td>\n",
       "      <td>275</td>\n",
       "      <td>158</td>\n",
       "      <td>197</td>\n",
       "      <td>Credit/Debit Card</td>\n",
       "      <td>5972</td>\n",
       "      <td>2319</td>\n",
       "      <td>1302</td>\n",
       "    </tr>\n",
       "  </tbody>\n",
       "</table>\n",
       "<p>10 rows × 21 columns</p>\n",
       "</div>"
      ],
      "text/plain": [
       "     Unnamed: 0  age      gender year_in_school             major  \\\n",
       "726         726   18        Male         Senior  Computer Science   \n",
       "62           62   18      Female         Senior           Biology   \n",
       "930         930   23      Female         Senior         Economics   \n",
       "976         976   25        Male         Junior           Biology   \n",
       "846         846   21  Non-binary       Freshman           Biology   \n",
       "849         849   19      Female         Junior       Engineering   \n",
       "888         888   25        Male       Freshman           Biology   \n",
       "113         113   21      Female       Freshman  Computer Science   \n",
       "901         901   22        Male         Senior       Engineering   \n",
       "774         774   25        Male      Sophomore       Engineering   \n",
       "\n",
       "     monthly_income  financial_aid  tuition  housing  food  ...  \\\n",
       "726             867            646     3014      944   320  ...   \n",
       "62              733            838     5248      977   298  ...   \n",
       "930            1123            490     5507      932   370  ...   \n",
       "976            1418            510     3832      976   370  ...   \n",
       "846             542            905     3434      987   297  ...   \n",
       "849            1022            227     4305      982   296  ...   \n",
       "888            1141            362     3197      926   397  ...   \n",
       "113             702            273     4977      906   385  ...   \n",
       "901             894             27     4496      718   373  ...   \n",
       "774            1257             45     3653      809   373  ...   \n",
       "\n",
       "     books_supplies  entertainment  personal_care  technology  \\\n",
       "726             232             96             73         298   \n",
       "62              241             85             78         281   \n",
       "930             233             91             61         258   \n",
       "976             218             89             89         283   \n",
       "846             189            150             26         286   \n",
       "849             252            149             79         206   \n",
       "888             150            122             69         258   \n",
       "113             277            148             41         205   \n",
       "901             254            139             82         286   \n",
       "774             246             78             36         275   \n",
       "\n",
       "     health_wellness  miscellaneous  preferred_payment_method total  \\\n",
       "726              142            183                      Cash  5467   \n",
       "62               121            168                      Cash  7661   \n",
       "930              139            187        Mobile Payment App  7919   \n",
       "976              185             60        Mobile Payment App  6219   \n",
       "846              185             86                      Cash  5800   \n",
       "849              152            162                      Cash  6656   \n",
       "888              173            120        Mobile Payment App  5533   \n",
       "113              149            116                      Cash  7310   \n",
       "901              134            198         Credit/Debit Card  6824   \n",
       "774              158            197         Credit/Debit Card  5972   \n",
       "\n",
       "     total_spend  total_income  \n",
       "726         2453          1513  \n",
       "62          2413          1571  \n",
       "930         2412          1613  \n",
       "976         2387          1928  \n",
       "846         2366          1447  \n",
       "849         2351          1249  \n",
       "888         2336          1503  \n",
       "113         2333           975  \n",
       "901         2328           921  \n",
       "774         2319          1302  \n",
       "\n",
       "[10 rows x 21 columns]"
      ]
     },
     "execution_count": 10,
     "metadata": {},
     "output_type": "execute_result"
    }
   ],
   "source": [
    "df[\"total_spend\"] = df[\"total\"] - df[\"tuition\"]\n",
    "df[\"total_income\"] = df[\"monthly_income\"] + df[\"financial_aid\"]\n",
    "\n",
    "df.sort_values(by=\"total_spend\", ascending=False).head(10)"
   ]
  },
  {
   "cell_type": "markdown",
   "id": "342a00d4",
   "metadata": {},
   "source": [
    "Une chose prédominante semble être le mode de paiement. Je me demande comment les valeurs de paiement sont distribuées dans l'ensemble des données :"
   ]
  },
  {
   "cell_type": "code",
   "execution_count": 11,
   "id": "dac5b05c",
   "metadata": {},
   "outputs": [
    {
     "data": {
      "text/plain": [
       "preferred_payment_method\n",
       "Mobile Payment App    350\n",
       "Credit/Debit Card     340\n",
       "Cash                  310\n",
       "Name: count, dtype: int64"
      ]
     },
     "execution_count": 11,
     "metadata": {},
     "output_type": "execute_result"
    }
   ],
   "source": [
    "df[\"preferred_payment_method\"].value_counts()"
   ]
  },
  {
   "cell_type": "markdown",
   "id": "46cf0df2",
   "metadata": {},
   "source": [
    "il semble que cela soit assez uniformément réparti, avec le mode de paiement le moins préféré étant l'argent liquide. Payer en espèces semble vous faire dépenser plus d'argent. Voyons donc qui perd le plus d'argent chaque mois en fonction des habitudes de dépenses."
   ]
  },
  {
   "cell_type": "code",
   "execution_count": 12,
   "id": "8d6f9ff1",
   "metadata": {},
   "outputs": [
    {
     "name": "stdout",
     "output_type": "stream",
     "text": [
      "preferred_payment_method\n",
      "Cash                 -276.380645\n",
      "Credit/Debit Card    -291.620588\n",
      "Mobile Payment App   -242.380000\n",
      "Name: money_saved, dtype: float64\n",
      "preferred_payment_method\n",
      "Cash                  477.635299\n",
      "Credit/Debit Card     480.101077\n",
      "Mobile Payment App    485.833766\n",
      "Name: money_saved, dtype: float64\n"
     ]
    }
   ],
   "source": [
    "df[\"money_saved\"] = df[\"total_income\"] - df[\"total_spend\"]\n",
    "\n",
    "print(df.groupby(\"preferred_payment_method\").money_saved.mean())\n",
    "\n",
    "print(df.groupby(\"preferred_payment_method\").money_saved.std())"
   ]
  },
  {
   "cell_type": "markdown",
   "id": "a7376f92",
   "metadata": {},
   "source": [
    "Il semble que les cartes de crédit ne soient pas bonnes pour votre gestion financière. Les étudiants avec des cartes de crédit dépensent en moyenne 50 dollars de plus par mois que ceux qui utilisent des applications de paiement mobile.\n",
    "\n",
    "Ensuite, nous voulons connaître la proportion d'étudiants qui ne perdent effectivement pas d'argent chaque mois."
   ]
  },
  {
   "cell_type": "code",
   "execution_count": 13,
   "id": "9957e16b",
   "metadata": {},
   "outputs": [
    {
     "name": "stdout",
     "output_type": "stream",
     "text": [
      "In total only 29.5% of students saved money\n"
     ]
    }
   ],
   "source": [
    "prop_m_saved = len(df.loc[df[\"money_saved\"] > 0, :]) / len(df)\n",
    "\n",
    "print(f\"In total only {prop_m_saved*100}% of students saved money\")"
   ]
  },
  {
   "cell_type": "markdown",
   "id": "b9142869",
   "metadata": {},
   "source": [
    "Maintenant, plongeons plus en profondeur dans les domaines d'études :"
   ]
  },
  {
   "cell_type": "code",
   "execution_count": 15,
   "id": "086d161e",
   "metadata": {},
   "outputs": [
    {
     "data": {
      "text/plain": [
       "major\n",
       "Biology             228\n",
       "Economics           204\n",
       "Computer Science    192\n",
       "Engineering         192\n",
       "Psychology          184\n",
       "Name: count, dtype: int64"
      ]
     },
     "execution_count": 15,
     "metadata": {},
     "output_type": "execute_result"
    }
   ],
   "source": [
    "df[\"major\"].value_counts()"
   ]
  },
  {
   "cell_type": "code",
   "execution_count": 16,
   "id": "714b4c1f",
   "metadata": {},
   "outputs": [
    {
     "data": {
      "text/plain": [
       "year_in_school\n",
       "Senior       254\n",
       "Freshman     253\n",
       "Junior       247\n",
       "Sophomore    246\n",
       "Name: count, dtype: int64"
      ]
     },
     "execution_count": 16,
     "metadata": {},
     "output_type": "execute_result"
    }
   ],
   "source": [
    "df[\"year_in_school\"].value_counts()"
   ]
  },
  {
   "cell_type": "markdown",
   "id": "1f59242a",
   "metadata": {},
   "source": [
    " La répartition semble suivre une distribution multinomiale avec toutes les probabilités égales. Cela peut ne pas être représentatif, car il y aura plus de premières années que de dernières années. Regardons maintenant la répartition des années d'études après le choix du domaine d'études."
   ]
  },
  {
   "cell_type": "code",
   "execution_count": 17,
   "id": "61b4366b",
   "metadata": {},
   "outputs": [
    {
     "data": {
      "text/plain": [
       "major             year_in_school\n",
       "Biology           Junior            61\n",
       "                  Freshman          57\n",
       "                  Sophomore         57\n",
       "                  Senior            53\n",
       "Computer Science  Freshman          53\n",
       "                  Senior            47\n",
       "                  Junior            46\n",
       "                  Sophomore         46\n",
       "Economics         Senior            56\n",
       "                  Sophomore         56\n",
       "                  Junior            48\n",
       "                  Freshman          44\n",
       "Engineering       Senior            57\n",
       "                  Junior            48\n",
       "                  Freshman          47\n",
       "                  Sophomore         40\n",
       "Psychology        Freshman          52\n",
       "                  Sophomore         47\n",
       "                  Junior            44\n",
       "                  Senior            41\n",
       "Name: count, dtype: int64"
      ]
     },
     "execution_count": 17,
     "metadata": {},
     "output_type": "execute_result"
    }
   ],
   "source": [
    "df.groupby(\"major\").year_in_school.value_counts()\n"
   ]
  },
  {
   "cell_type": "code",
   "execution_count": 23,
   "id": "7b3543b9",
   "metadata": {},
   "outputs": [
    {
     "data": {
      "application/vnd.plotly.v1+json": {
       "config": {
        "plotlyServerURL": "https://plot.ly"
       },
       "data": [
        {
         "branchvalues": "total",
         "customdata": [
          [
           57,
           57
          ],
          [
           53,
           53
          ],
          [
           44,
           44
          ],
          [
           47,
           47
          ],
          [
           52,
           52
          ],
          [
           61,
           61
          ],
          [
           46,
           46
          ],
          [
           48,
           48
          ],
          [
           48,
           48
          ],
          [
           44,
           44
          ],
          [
           53,
           53
          ],
          [
           47,
           47
          ],
          [
           56,
           56
          ],
          [
           57,
           57
          ],
          [
           41,
           41
          ],
          [
           57,
           57
          ],
          [
           46,
           46
          ],
          [
           56,
           56
          ],
          [
           40,
           40
          ],
          [
           47,
           47
          ],
          [
           57.14035087719298,
           57.14035087719298
          ],
          [
           48.177083333333336,
           48.177083333333336
          ],
          [
           51.529411764705884,
           51.529411764705884
          ],
          [
           48.760416666666664,
           48.760416666666664
          ],
          [
           46.358695652173914,
           46.358695652173914
          ]
         ],
         "domain": {
          "x": [
           0,
           1
          ],
          "y": [
           0,
           1
          ]
         },
         "hovertemplate": "labels=%{label}<br>nombre_sum=%{value}<br>parent=%{parent}<br>id=%{id}<br>nombre=%{color}<extra></extra>",
         "ids": [
          "Biology/Freshman",
          "Computer Science/Freshman",
          "Economics/Freshman",
          "Engineering/Freshman",
          "Psychology/Freshman",
          "Biology/Junior",
          "Computer Science/Junior",
          "Economics/Junior",
          "Engineering/Junior",
          "Psychology/Junior",
          "Biology/Senior",
          "Computer Science/Senior",
          "Economics/Senior",
          "Engineering/Senior",
          "Psychology/Senior",
          "Biology/Sophomore",
          "Computer Science/Sophomore",
          "Economics/Sophomore",
          "Engineering/Sophomore",
          "Psychology/Sophomore",
          "Biology",
          "Computer Science",
          "Economics",
          "Engineering",
          "Psychology"
         ],
         "labels": [
          "Freshman",
          "Freshman",
          "Freshman",
          "Freshman",
          "Freshman",
          "Junior",
          "Junior",
          "Junior",
          "Junior",
          "Junior",
          "Senior",
          "Senior",
          "Senior",
          "Senior",
          "Senior",
          "Sophomore",
          "Sophomore",
          "Sophomore",
          "Sophomore",
          "Sophomore",
          "Biology",
          "Computer Science",
          "Economics",
          "Engineering",
          "Psychology"
         ],
         "marker": {
          "coloraxis": "coloraxis",
          "colors": [
           57,
           53,
           44,
           47,
           52,
           61,
           46,
           48,
           48,
           44,
           53,
           47,
           56,
           57,
           41,
           57,
           46,
           56,
           40,
           47,
           57.14035087719298,
           48.177083333333336,
           51.529411764705884,
           48.760416666666664,
           46.358695652173914
          ]
         },
         "name": "",
         "parents": [
          "Biology",
          "Computer Science",
          "Economics",
          "Engineering",
          "Psychology",
          "Biology",
          "Computer Science",
          "Economics",
          "Engineering",
          "Psychology",
          "Biology",
          "Computer Science",
          "Economics",
          "Engineering",
          "Psychology",
          "Biology",
          "Computer Science",
          "Economics",
          "Engineering",
          "Psychology",
          "",
          "",
          "",
          "",
          ""
         ],
         "type": "sunburst",
         "values": [
          57,
          53,
          44,
          47,
          52,
          61,
          46,
          48,
          48,
          44,
          53,
          47,
          56,
          57,
          41,
          57,
          46,
          56,
          40,
          47,
          228,
          192,
          204,
          192,
          184
         ]
        }
       ],
       "layout": {
        "coloraxis": {
         "colorbar": {
          "title": {
           "text": "nombre"
          }
         },
         "colorscale": [
          [
           0,
           "#0d0887"
          ],
          [
           0.1111111111111111,
           "#46039f"
          ],
          [
           0.2222222222222222,
           "#7201a8"
          ],
          [
           0.3333333333333333,
           "#9c179e"
          ],
          [
           0.4444444444444444,
           "#bd3786"
          ],
          [
           0.5555555555555556,
           "#d8576b"
          ],
          [
           0.6666666666666666,
           "#ed7953"
          ],
          [
           0.7777777777777778,
           "#fb9f3a"
          ],
          [
           0.8888888888888888,
           "#fdca26"
          ],
          [
           1,
           "#f0f921"
          ]
         ]
        },
        "legend": {
         "tracegroupgap": 0
        },
        "margin": {
         "t": 60
        },
        "template": {
         "data": {
          "bar": [
           {
            "error_x": {
             "color": "#2a3f5f"
            },
            "error_y": {
             "color": "#2a3f5f"
            },
            "marker": {
             "line": {
              "color": "#E5ECF6",
              "width": 0.5
             },
             "pattern": {
              "fillmode": "overlay",
              "size": 10,
              "solidity": 0.2
             }
            },
            "type": "bar"
           }
          ],
          "barpolar": [
           {
            "marker": {
             "line": {
              "color": "#E5ECF6",
              "width": 0.5
             },
             "pattern": {
              "fillmode": "overlay",
              "size": 10,
              "solidity": 0.2
             }
            },
            "type": "barpolar"
           }
          ],
          "carpet": [
           {
            "aaxis": {
             "endlinecolor": "#2a3f5f",
             "gridcolor": "white",
             "linecolor": "white",
             "minorgridcolor": "white",
             "startlinecolor": "#2a3f5f"
            },
            "baxis": {
             "endlinecolor": "#2a3f5f",
             "gridcolor": "white",
             "linecolor": "white",
             "minorgridcolor": "white",
             "startlinecolor": "#2a3f5f"
            },
            "type": "carpet"
           }
          ],
          "choropleth": [
           {
            "colorbar": {
             "outlinewidth": 0,
             "ticks": ""
            },
            "type": "choropleth"
           }
          ],
          "contour": [
           {
            "colorbar": {
             "outlinewidth": 0,
             "ticks": ""
            },
            "colorscale": [
             [
              0,
              "#0d0887"
             ],
             [
              0.1111111111111111,
              "#46039f"
             ],
             [
              0.2222222222222222,
              "#7201a8"
             ],
             [
              0.3333333333333333,
              "#9c179e"
             ],
             [
              0.4444444444444444,
              "#bd3786"
             ],
             [
              0.5555555555555556,
              "#d8576b"
             ],
             [
              0.6666666666666666,
              "#ed7953"
             ],
             [
              0.7777777777777778,
              "#fb9f3a"
             ],
             [
              0.8888888888888888,
              "#fdca26"
             ],
             [
              1,
              "#f0f921"
             ]
            ],
            "type": "contour"
           }
          ],
          "contourcarpet": [
           {
            "colorbar": {
             "outlinewidth": 0,
             "ticks": ""
            },
            "type": "contourcarpet"
           }
          ],
          "heatmap": [
           {
            "colorbar": {
             "outlinewidth": 0,
             "ticks": ""
            },
            "colorscale": [
             [
              0,
              "#0d0887"
             ],
             [
              0.1111111111111111,
              "#46039f"
             ],
             [
              0.2222222222222222,
              "#7201a8"
             ],
             [
              0.3333333333333333,
              "#9c179e"
             ],
             [
              0.4444444444444444,
              "#bd3786"
             ],
             [
              0.5555555555555556,
              "#d8576b"
             ],
             [
              0.6666666666666666,
              "#ed7953"
             ],
             [
              0.7777777777777778,
              "#fb9f3a"
             ],
             [
              0.8888888888888888,
              "#fdca26"
             ],
             [
              1,
              "#f0f921"
             ]
            ],
            "type": "heatmap"
           }
          ],
          "heatmapgl": [
           {
            "colorbar": {
             "outlinewidth": 0,
             "ticks": ""
            },
            "colorscale": [
             [
              0,
              "#0d0887"
             ],
             [
              0.1111111111111111,
              "#46039f"
             ],
             [
              0.2222222222222222,
              "#7201a8"
             ],
             [
              0.3333333333333333,
              "#9c179e"
             ],
             [
              0.4444444444444444,
              "#bd3786"
             ],
             [
              0.5555555555555556,
              "#d8576b"
             ],
             [
              0.6666666666666666,
              "#ed7953"
             ],
             [
              0.7777777777777778,
              "#fb9f3a"
             ],
             [
              0.8888888888888888,
              "#fdca26"
             ],
             [
              1,
              "#f0f921"
             ]
            ],
            "type": "heatmapgl"
           }
          ],
          "histogram": [
           {
            "marker": {
             "pattern": {
              "fillmode": "overlay",
              "size": 10,
              "solidity": 0.2
             }
            },
            "type": "histogram"
           }
          ],
          "histogram2d": [
           {
            "colorbar": {
             "outlinewidth": 0,
             "ticks": ""
            },
            "colorscale": [
             [
              0,
              "#0d0887"
             ],
             [
              0.1111111111111111,
              "#46039f"
             ],
             [
              0.2222222222222222,
              "#7201a8"
             ],
             [
              0.3333333333333333,
              "#9c179e"
             ],
             [
              0.4444444444444444,
              "#bd3786"
             ],
             [
              0.5555555555555556,
              "#d8576b"
             ],
             [
              0.6666666666666666,
              "#ed7953"
             ],
             [
              0.7777777777777778,
              "#fb9f3a"
             ],
             [
              0.8888888888888888,
              "#fdca26"
             ],
             [
              1,
              "#f0f921"
             ]
            ],
            "type": "histogram2d"
           }
          ],
          "histogram2dcontour": [
           {
            "colorbar": {
             "outlinewidth": 0,
             "ticks": ""
            },
            "colorscale": [
             [
              0,
              "#0d0887"
             ],
             [
              0.1111111111111111,
              "#46039f"
             ],
             [
              0.2222222222222222,
              "#7201a8"
             ],
             [
              0.3333333333333333,
              "#9c179e"
             ],
             [
              0.4444444444444444,
              "#bd3786"
             ],
             [
              0.5555555555555556,
              "#d8576b"
             ],
             [
              0.6666666666666666,
              "#ed7953"
             ],
             [
              0.7777777777777778,
              "#fb9f3a"
             ],
             [
              0.8888888888888888,
              "#fdca26"
             ],
             [
              1,
              "#f0f921"
             ]
            ],
            "type": "histogram2dcontour"
           }
          ],
          "mesh3d": [
           {
            "colorbar": {
             "outlinewidth": 0,
             "ticks": ""
            },
            "type": "mesh3d"
           }
          ],
          "parcoords": [
           {
            "line": {
             "colorbar": {
              "outlinewidth": 0,
              "ticks": ""
             }
            },
            "type": "parcoords"
           }
          ],
          "pie": [
           {
            "automargin": true,
            "type": "pie"
           }
          ],
          "scatter": [
           {
            "fillpattern": {
             "fillmode": "overlay",
             "size": 10,
             "solidity": 0.2
            },
            "type": "scatter"
           }
          ],
          "scatter3d": [
           {
            "line": {
             "colorbar": {
              "outlinewidth": 0,
              "ticks": ""
             }
            },
            "marker": {
             "colorbar": {
              "outlinewidth": 0,
              "ticks": ""
             }
            },
            "type": "scatter3d"
           }
          ],
          "scattercarpet": [
           {
            "marker": {
             "colorbar": {
              "outlinewidth": 0,
              "ticks": ""
             }
            },
            "type": "scattercarpet"
           }
          ],
          "scattergeo": [
           {
            "marker": {
             "colorbar": {
              "outlinewidth": 0,
              "ticks": ""
             }
            },
            "type": "scattergeo"
           }
          ],
          "scattergl": [
           {
            "marker": {
             "colorbar": {
              "outlinewidth": 0,
              "ticks": ""
             }
            },
            "type": "scattergl"
           }
          ],
          "scattermapbox": [
           {
            "marker": {
             "colorbar": {
              "outlinewidth": 0,
              "ticks": ""
             }
            },
            "type": "scattermapbox"
           }
          ],
          "scatterpolar": [
           {
            "marker": {
             "colorbar": {
              "outlinewidth": 0,
              "ticks": ""
             }
            },
            "type": "scatterpolar"
           }
          ],
          "scatterpolargl": [
           {
            "marker": {
             "colorbar": {
              "outlinewidth": 0,
              "ticks": ""
             }
            },
            "type": "scatterpolargl"
           }
          ],
          "scatterternary": [
           {
            "marker": {
             "colorbar": {
              "outlinewidth": 0,
              "ticks": ""
             }
            },
            "type": "scatterternary"
           }
          ],
          "surface": [
           {
            "colorbar": {
             "outlinewidth": 0,
             "ticks": ""
            },
            "colorscale": [
             [
              0,
              "#0d0887"
             ],
             [
              0.1111111111111111,
              "#46039f"
             ],
             [
              0.2222222222222222,
              "#7201a8"
             ],
             [
              0.3333333333333333,
              "#9c179e"
             ],
             [
              0.4444444444444444,
              "#bd3786"
             ],
             [
              0.5555555555555556,
              "#d8576b"
             ],
             [
              0.6666666666666666,
              "#ed7953"
             ],
             [
              0.7777777777777778,
              "#fb9f3a"
             ],
             [
              0.8888888888888888,
              "#fdca26"
             ],
             [
              1,
              "#f0f921"
             ]
            ],
            "type": "surface"
           }
          ],
          "table": [
           {
            "cells": {
             "fill": {
              "color": "#EBF0F8"
             },
             "line": {
              "color": "white"
             }
            },
            "header": {
             "fill": {
              "color": "#C8D4E3"
             },
             "line": {
              "color": "white"
             }
            },
            "type": "table"
           }
          ]
         },
         "layout": {
          "annotationdefaults": {
           "arrowcolor": "#2a3f5f",
           "arrowhead": 0,
           "arrowwidth": 1
          },
          "autotypenumbers": "strict",
          "coloraxis": {
           "colorbar": {
            "outlinewidth": 0,
            "ticks": ""
           }
          },
          "colorscale": {
           "diverging": [
            [
             0,
             "#8e0152"
            ],
            [
             0.1,
             "#c51b7d"
            ],
            [
             0.2,
             "#de77ae"
            ],
            [
             0.3,
             "#f1b6da"
            ],
            [
             0.4,
             "#fde0ef"
            ],
            [
             0.5,
             "#f7f7f7"
            ],
            [
             0.6,
             "#e6f5d0"
            ],
            [
             0.7,
             "#b8e186"
            ],
            [
             0.8,
             "#7fbc41"
            ],
            [
             0.9,
             "#4d9221"
            ],
            [
             1,
             "#276419"
            ]
           ],
           "sequential": [
            [
             0,
             "#0d0887"
            ],
            [
             0.1111111111111111,
             "#46039f"
            ],
            [
             0.2222222222222222,
             "#7201a8"
            ],
            [
             0.3333333333333333,
             "#9c179e"
            ],
            [
             0.4444444444444444,
             "#bd3786"
            ],
            [
             0.5555555555555556,
             "#d8576b"
            ],
            [
             0.6666666666666666,
             "#ed7953"
            ],
            [
             0.7777777777777778,
             "#fb9f3a"
            ],
            [
             0.8888888888888888,
             "#fdca26"
            ],
            [
             1,
             "#f0f921"
            ]
           ],
           "sequentialminus": [
            [
             0,
             "#0d0887"
            ],
            [
             0.1111111111111111,
             "#46039f"
            ],
            [
             0.2222222222222222,
             "#7201a8"
            ],
            [
             0.3333333333333333,
             "#9c179e"
            ],
            [
             0.4444444444444444,
             "#bd3786"
            ],
            [
             0.5555555555555556,
             "#d8576b"
            ],
            [
             0.6666666666666666,
             "#ed7953"
            ],
            [
             0.7777777777777778,
             "#fb9f3a"
            ],
            [
             0.8888888888888888,
             "#fdca26"
            ],
            [
             1,
             "#f0f921"
            ]
           ]
          },
          "colorway": [
           "#636efa",
           "#EF553B",
           "#00cc96",
           "#ab63fa",
           "#FFA15A",
           "#19d3f3",
           "#FF6692",
           "#B6E880",
           "#FF97FF",
           "#FECB52"
          ],
          "font": {
           "color": "#2a3f5f"
          },
          "geo": {
           "bgcolor": "white",
           "lakecolor": "white",
           "landcolor": "#E5ECF6",
           "showlakes": true,
           "showland": true,
           "subunitcolor": "white"
          },
          "hoverlabel": {
           "align": "left"
          },
          "hovermode": "closest",
          "mapbox": {
           "style": "light"
          },
          "paper_bgcolor": "white",
          "plot_bgcolor": "#E5ECF6",
          "polar": {
           "angularaxis": {
            "gridcolor": "white",
            "linecolor": "white",
            "ticks": ""
           },
           "bgcolor": "#E5ECF6",
           "radialaxis": {
            "gridcolor": "white",
            "linecolor": "white",
            "ticks": ""
           }
          },
          "scene": {
           "xaxis": {
            "backgroundcolor": "#E5ECF6",
            "gridcolor": "white",
            "gridwidth": 2,
            "linecolor": "white",
            "showbackground": true,
            "ticks": "",
            "zerolinecolor": "white"
           },
           "yaxis": {
            "backgroundcolor": "#E5ECF6",
            "gridcolor": "white",
            "gridwidth": 2,
            "linecolor": "white",
            "showbackground": true,
            "ticks": "",
            "zerolinecolor": "white"
           },
           "zaxis": {
            "backgroundcolor": "#E5ECF6",
            "gridcolor": "white",
            "gridwidth": 2,
            "linecolor": "white",
            "showbackground": true,
            "ticks": "",
            "zerolinecolor": "white"
           }
          },
          "shapedefaults": {
           "line": {
            "color": "#2a3f5f"
           }
          },
          "ternary": {
           "aaxis": {
            "gridcolor": "white",
            "linecolor": "white",
            "ticks": ""
           },
           "baxis": {
            "gridcolor": "white",
            "linecolor": "white",
            "ticks": ""
           },
           "bgcolor": "#E5ECF6",
           "caxis": {
            "gridcolor": "white",
            "linecolor": "white",
            "ticks": ""
           }
          },
          "title": {
           "x": 0.05
          },
          "xaxis": {
           "automargin": true,
           "gridcolor": "white",
           "linecolor": "white",
           "ticks": "",
           "title": {
            "standoff": 15
           },
           "zerolinecolor": "white",
           "zerolinewidth": 2
          },
          "yaxis": {
           "automargin": true,
           "gridcolor": "white",
           "linecolor": "white",
           "ticks": "",
           "title": {
            "standoff": 15
           },
           "zerolinecolor": "white",
           "zerolinewidth": 2
          }
         }
        }
       }
      },
      "text/html": [
       "<div>                            <div id=\"1ce94253-59c1-4383-a3b4-79b0238f81a5\" class=\"plotly-graph-div\" style=\"height:525px; width:100%;\"></div>            <script type=\"text/javascript\">                require([\"plotly\"], function(Plotly) {                    window.PLOTLYENV=window.PLOTLYENV || {};                                    if (document.getElementById(\"1ce94253-59c1-4383-a3b4-79b0238f81a5\")) {                    Plotly.newPlot(                        \"1ce94253-59c1-4383-a3b4-79b0238f81a5\",                        [{\"branchvalues\":\"total\",\"customdata\":[[57.0,57.0],[53.0,53.0],[44.0,44.0],[47.0,47.0],[52.0,52.0],[61.0,61.0],[46.0,46.0],[48.0,48.0],[48.0,48.0],[44.0,44.0],[53.0,53.0],[47.0,47.0],[56.0,56.0],[57.0,57.0],[41.0,41.0],[57.0,57.0],[46.0,46.0],[56.0,56.0],[40.0,40.0],[47.0,47.0],[57.14035087719298,57.14035087719298],[48.177083333333336,48.177083333333336],[51.529411764705884,51.529411764705884],[48.760416666666664,48.760416666666664],[46.358695652173914,46.358695652173914]],\"domain\":{\"x\":[0.0,1.0],\"y\":[0.0,1.0]},\"hovertemplate\":\"labels=%{label}\\u003cbr\\u003enombre_sum=%{value}\\u003cbr\\u003eparent=%{parent}\\u003cbr\\u003eid=%{id}\\u003cbr\\u003enombre=%{color}\\u003cextra\\u003e\\u003c\\u002fextra\\u003e\",\"ids\":[\"Biology\\u002fFreshman\",\"Computer Science\\u002fFreshman\",\"Economics\\u002fFreshman\",\"Engineering\\u002fFreshman\",\"Psychology\\u002fFreshman\",\"Biology\\u002fJunior\",\"Computer Science\\u002fJunior\",\"Economics\\u002fJunior\",\"Engineering\\u002fJunior\",\"Psychology\\u002fJunior\",\"Biology\\u002fSenior\",\"Computer Science\\u002fSenior\",\"Economics\\u002fSenior\",\"Engineering\\u002fSenior\",\"Psychology\\u002fSenior\",\"Biology\\u002fSophomore\",\"Computer Science\\u002fSophomore\",\"Economics\\u002fSophomore\",\"Engineering\\u002fSophomore\",\"Psychology\\u002fSophomore\",\"Biology\",\"Computer Science\",\"Economics\",\"Engineering\",\"Psychology\"],\"labels\":[\"Freshman\",\"Freshman\",\"Freshman\",\"Freshman\",\"Freshman\",\"Junior\",\"Junior\",\"Junior\",\"Junior\",\"Junior\",\"Senior\",\"Senior\",\"Senior\",\"Senior\",\"Senior\",\"Sophomore\",\"Sophomore\",\"Sophomore\",\"Sophomore\",\"Sophomore\",\"Biology\",\"Computer Science\",\"Economics\",\"Engineering\",\"Psychology\"],\"marker\":{\"coloraxis\":\"coloraxis\",\"colors\":[57.0,53.0,44.0,47.0,52.0,61.0,46.0,48.0,48.0,44.0,53.0,47.0,56.0,57.0,41.0,57.0,46.0,56.0,40.0,47.0,57.14035087719298,48.177083333333336,51.529411764705884,48.760416666666664,46.358695652173914]},\"name\":\"\",\"parents\":[\"Biology\",\"Computer Science\",\"Economics\",\"Engineering\",\"Psychology\",\"Biology\",\"Computer Science\",\"Economics\",\"Engineering\",\"Psychology\",\"Biology\",\"Computer Science\",\"Economics\",\"Engineering\",\"Psychology\",\"Biology\",\"Computer Science\",\"Economics\",\"Engineering\",\"Psychology\",\"\",\"\",\"\",\"\",\"\"],\"values\":[57,53,44,47,52,61,46,48,48,44,53,47,56,57,41,57,46,56,40,47,228,192,204,192,184],\"type\":\"sunburst\"}],                        {\"template\":{\"data\":{\"histogram2dcontour\":[{\"type\":\"histogram2dcontour\",\"colorbar\":{\"outlinewidth\":0,\"ticks\":\"\"},\"colorscale\":[[0.0,\"#0d0887\"],[0.1111111111111111,\"#46039f\"],[0.2222222222222222,\"#7201a8\"],[0.3333333333333333,\"#9c179e\"],[0.4444444444444444,\"#bd3786\"],[0.5555555555555556,\"#d8576b\"],[0.6666666666666666,\"#ed7953\"],[0.7777777777777778,\"#fb9f3a\"],[0.8888888888888888,\"#fdca26\"],[1.0,\"#f0f921\"]]}],\"choropleth\":[{\"type\":\"choropleth\",\"colorbar\":{\"outlinewidth\":0,\"ticks\":\"\"}}],\"histogram2d\":[{\"type\":\"histogram2d\",\"colorbar\":{\"outlinewidth\":0,\"ticks\":\"\"},\"colorscale\":[[0.0,\"#0d0887\"],[0.1111111111111111,\"#46039f\"],[0.2222222222222222,\"#7201a8\"],[0.3333333333333333,\"#9c179e\"],[0.4444444444444444,\"#bd3786\"],[0.5555555555555556,\"#d8576b\"],[0.6666666666666666,\"#ed7953\"],[0.7777777777777778,\"#fb9f3a\"],[0.8888888888888888,\"#fdca26\"],[1.0,\"#f0f921\"]]}],\"heatmap\":[{\"type\":\"heatmap\",\"colorbar\":{\"outlinewidth\":0,\"ticks\":\"\"},\"colorscale\":[[0.0,\"#0d0887\"],[0.1111111111111111,\"#46039f\"],[0.2222222222222222,\"#7201a8\"],[0.3333333333333333,\"#9c179e\"],[0.4444444444444444,\"#bd3786\"],[0.5555555555555556,\"#d8576b\"],[0.6666666666666666,\"#ed7953\"],[0.7777777777777778,\"#fb9f3a\"],[0.8888888888888888,\"#fdca26\"],[1.0,\"#f0f921\"]]}],\"heatmapgl\":[{\"type\":\"heatmapgl\",\"colorbar\":{\"outlinewidth\":0,\"ticks\":\"\"},\"colorscale\":[[0.0,\"#0d0887\"],[0.1111111111111111,\"#46039f\"],[0.2222222222222222,\"#7201a8\"],[0.3333333333333333,\"#9c179e\"],[0.4444444444444444,\"#bd3786\"],[0.5555555555555556,\"#d8576b\"],[0.6666666666666666,\"#ed7953\"],[0.7777777777777778,\"#fb9f3a\"],[0.8888888888888888,\"#fdca26\"],[1.0,\"#f0f921\"]]}],\"contourcarpet\":[{\"type\":\"contourcarpet\",\"colorbar\":{\"outlinewidth\":0,\"ticks\":\"\"}}],\"contour\":[{\"type\":\"contour\",\"colorbar\":{\"outlinewidth\":0,\"ticks\":\"\"},\"colorscale\":[[0.0,\"#0d0887\"],[0.1111111111111111,\"#46039f\"],[0.2222222222222222,\"#7201a8\"],[0.3333333333333333,\"#9c179e\"],[0.4444444444444444,\"#bd3786\"],[0.5555555555555556,\"#d8576b\"],[0.6666666666666666,\"#ed7953\"],[0.7777777777777778,\"#fb9f3a\"],[0.8888888888888888,\"#fdca26\"],[1.0,\"#f0f921\"]]}],\"surface\":[{\"type\":\"surface\",\"colorbar\":{\"outlinewidth\":0,\"ticks\":\"\"},\"colorscale\":[[0.0,\"#0d0887\"],[0.1111111111111111,\"#46039f\"],[0.2222222222222222,\"#7201a8\"],[0.3333333333333333,\"#9c179e\"],[0.4444444444444444,\"#bd3786\"],[0.5555555555555556,\"#d8576b\"],[0.6666666666666666,\"#ed7953\"],[0.7777777777777778,\"#fb9f3a\"],[0.8888888888888888,\"#fdca26\"],[1.0,\"#f0f921\"]]}],\"mesh3d\":[{\"type\":\"mesh3d\",\"colorbar\":{\"outlinewidth\":0,\"ticks\":\"\"}}],\"scatter\":[{\"fillpattern\":{\"fillmode\":\"overlay\",\"size\":10,\"solidity\":0.2},\"type\":\"scatter\"}],\"parcoords\":[{\"type\":\"parcoords\",\"line\":{\"colorbar\":{\"outlinewidth\":0,\"ticks\":\"\"}}}],\"scatterpolargl\":[{\"type\":\"scatterpolargl\",\"marker\":{\"colorbar\":{\"outlinewidth\":0,\"ticks\":\"\"}}}],\"bar\":[{\"error_x\":{\"color\":\"#2a3f5f\"},\"error_y\":{\"color\":\"#2a3f5f\"},\"marker\":{\"line\":{\"color\":\"#E5ECF6\",\"width\":0.5},\"pattern\":{\"fillmode\":\"overlay\",\"size\":10,\"solidity\":0.2}},\"type\":\"bar\"}],\"scattergeo\":[{\"type\":\"scattergeo\",\"marker\":{\"colorbar\":{\"outlinewidth\":0,\"ticks\":\"\"}}}],\"scatterpolar\":[{\"type\":\"scatterpolar\",\"marker\":{\"colorbar\":{\"outlinewidth\":0,\"ticks\":\"\"}}}],\"histogram\":[{\"marker\":{\"pattern\":{\"fillmode\":\"overlay\",\"size\":10,\"solidity\":0.2}},\"type\":\"histogram\"}],\"scattergl\":[{\"type\":\"scattergl\",\"marker\":{\"colorbar\":{\"outlinewidth\":0,\"ticks\":\"\"}}}],\"scatter3d\":[{\"type\":\"scatter3d\",\"line\":{\"colorbar\":{\"outlinewidth\":0,\"ticks\":\"\"}},\"marker\":{\"colorbar\":{\"outlinewidth\":0,\"ticks\":\"\"}}}],\"scattermapbox\":[{\"type\":\"scattermapbox\",\"marker\":{\"colorbar\":{\"outlinewidth\":0,\"ticks\":\"\"}}}],\"scatterternary\":[{\"type\":\"scatterternary\",\"marker\":{\"colorbar\":{\"outlinewidth\":0,\"ticks\":\"\"}}}],\"scattercarpet\":[{\"type\":\"scattercarpet\",\"marker\":{\"colorbar\":{\"outlinewidth\":0,\"ticks\":\"\"}}}],\"carpet\":[{\"aaxis\":{\"endlinecolor\":\"#2a3f5f\",\"gridcolor\":\"white\",\"linecolor\":\"white\",\"minorgridcolor\":\"white\",\"startlinecolor\":\"#2a3f5f\"},\"baxis\":{\"endlinecolor\":\"#2a3f5f\",\"gridcolor\":\"white\",\"linecolor\":\"white\",\"minorgridcolor\":\"white\",\"startlinecolor\":\"#2a3f5f\"},\"type\":\"carpet\"}],\"table\":[{\"cells\":{\"fill\":{\"color\":\"#EBF0F8\"},\"line\":{\"color\":\"white\"}},\"header\":{\"fill\":{\"color\":\"#C8D4E3\"},\"line\":{\"color\":\"white\"}},\"type\":\"table\"}],\"barpolar\":[{\"marker\":{\"line\":{\"color\":\"#E5ECF6\",\"width\":0.5},\"pattern\":{\"fillmode\":\"overlay\",\"size\":10,\"solidity\":0.2}},\"type\":\"barpolar\"}],\"pie\":[{\"automargin\":true,\"type\":\"pie\"}]},\"layout\":{\"autotypenumbers\":\"strict\",\"colorway\":[\"#636efa\",\"#EF553B\",\"#00cc96\",\"#ab63fa\",\"#FFA15A\",\"#19d3f3\",\"#FF6692\",\"#B6E880\",\"#FF97FF\",\"#FECB52\"],\"font\":{\"color\":\"#2a3f5f\"},\"hovermode\":\"closest\",\"hoverlabel\":{\"align\":\"left\"},\"paper_bgcolor\":\"white\",\"plot_bgcolor\":\"#E5ECF6\",\"polar\":{\"bgcolor\":\"#E5ECF6\",\"angularaxis\":{\"gridcolor\":\"white\",\"linecolor\":\"white\",\"ticks\":\"\"},\"radialaxis\":{\"gridcolor\":\"white\",\"linecolor\":\"white\",\"ticks\":\"\"}},\"ternary\":{\"bgcolor\":\"#E5ECF6\",\"aaxis\":{\"gridcolor\":\"white\",\"linecolor\":\"white\",\"ticks\":\"\"},\"baxis\":{\"gridcolor\":\"white\",\"linecolor\":\"white\",\"ticks\":\"\"},\"caxis\":{\"gridcolor\":\"white\",\"linecolor\":\"white\",\"ticks\":\"\"}},\"coloraxis\":{\"colorbar\":{\"outlinewidth\":0,\"ticks\":\"\"}},\"colorscale\":{\"sequential\":[[0.0,\"#0d0887\"],[0.1111111111111111,\"#46039f\"],[0.2222222222222222,\"#7201a8\"],[0.3333333333333333,\"#9c179e\"],[0.4444444444444444,\"#bd3786\"],[0.5555555555555556,\"#d8576b\"],[0.6666666666666666,\"#ed7953\"],[0.7777777777777778,\"#fb9f3a\"],[0.8888888888888888,\"#fdca26\"],[1.0,\"#f0f921\"]],\"sequentialminus\":[[0.0,\"#0d0887\"],[0.1111111111111111,\"#46039f\"],[0.2222222222222222,\"#7201a8\"],[0.3333333333333333,\"#9c179e\"],[0.4444444444444444,\"#bd3786\"],[0.5555555555555556,\"#d8576b\"],[0.6666666666666666,\"#ed7953\"],[0.7777777777777778,\"#fb9f3a\"],[0.8888888888888888,\"#fdca26\"],[1.0,\"#f0f921\"]],\"diverging\":[[0,\"#8e0152\"],[0.1,\"#c51b7d\"],[0.2,\"#de77ae\"],[0.3,\"#f1b6da\"],[0.4,\"#fde0ef\"],[0.5,\"#f7f7f7\"],[0.6,\"#e6f5d0\"],[0.7,\"#b8e186\"],[0.8,\"#7fbc41\"],[0.9,\"#4d9221\"],[1,\"#276419\"]]},\"xaxis\":{\"gridcolor\":\"white\",\"linecolor\":\"white\",\"ticks\":\"\",\"title\":{\"standoff\":15},\"zerolinecolor\":\"white\",\"automargin\":true,\"zerolinewidth\":2},\"yaxis\":{\"gridcolor\":\"white\",\"linecolor\":\"white\",\"ticks\":\"\",\"title\":{\"standoff\":15},\"zerolinecolor\":\"white\",\"automargin\":true,\"zerolinewidth\":2},\"scene\":{\"xaxis\":{\"backgroundcolor\":\"#E5ECF6\",\"gridcolor\":\"white\",\"linecolor\":\"white\",\"showbackground\":true,\"ticks\":\"\",\"zerolinecolor\":\"white\",\"gridwidth\":2},\"yaxis\":{\"backgroundcolor\":\"#E5ECF6\",\"gridcolor\":\"white\",\"linecolor\":\"white\",\"showbackground\":true,\"ticks\":\"\",\"zerolinecolor\":\"white\",\"gridwidth\":2},\"zaxis\":{\"backgroundcolor\":\"#E5ECF6\",\"gridcolor\":\"white\",\"linecolor\":\"white\",\"showbackground\":true,\"ticks\":\"\",\"zerolinecolor\":\"white\",\"gridwidth\":2}},\"shapedefaults\":{\"line\":{\"color\":\"#2a3f5f\"}},\"annotationdefaults\":{\"arrowcolor\":\"#2a3f5f\",\"arrowhead\":0,\"arrowwidth\":1},\"geo\":{\"bgcolor\":\"white\",\"landcolor\":\"#E5ECF6\",\"subunitcolor\":\"white\",\"showland\":true,\"showlakes\":true,\"lakecolor\":\"white\"},\"title\":{\"x\":0.05},\"mapbox\":{\"style\":\"light\"}}},\"coloraxis\":{\"colorbar\":{\"title\":{\"text\":\"nombre\"}},\"colorscale\":[[0.0,\"#0d0887\"],[0.1111111111111111,\"#46039f\"],[0.2222222222222222,\"#7201a8\"],[0.3333333333333333,\"#9c179e\"],[0.4444444444444444,\"#bd3786\"],[0.5555555555555556,\"#d8576b\"],[0.6666666666666666,\"#ed7953\"],[0.7777777777777778,\"#fb9f3a\"],[0.8888888888888888,\"#fdca26\"],[1.0,\"#f0f921\"]]},\"legend\":{\"tracegroupgap\":0},\"margin\":{\"t\":60}},                        {\"responsive\": true}                    ).then(function(){\n",
       "                            \n",
       "var gd = document.getElementById('1ce94253-59c1-4383-a3b4-79b0238f81a5');\n",
       "var x = new MutationObserver(function (mutations, observer) {{\n",
       "        var display = window.getComputedStyle(gd).display;\n",
       "        if (!display || display === 'none') {{\n",
       "            console.log([gd, 'removed!']);\n",
       "            Plotly.purge(gd);\n",
       "            observer.disconnect();\n",
       "        }}\n",
       "}});\n",
       "\n",
       "// Listen for the removal of the full notebook cells\n",
       "var notebookContainer = gd.closest('#notebook-container');\n",
       "if (notebookContainer) {{\n",
       "    x.observe(notebookContainer, {childList: true});\n",
       "}}\n",
       "\n",
       "// Listen for the clearing of the current output cell\n",
       "var outputEl = gd.closest('.output');\n",
       "if (outputEl) {{\n",
       "    x.observe(outputEl, {childList: true});\n",
       "}}\n",
       "\n",
       "                        })                };                });            </script>        </div>"
      ]
     },
     "metadata": {},
     "output_type": "display_data"
    }
   ],
   "source": [
    "import plotly.express as px\n",
    "\n",
    "# Groupement par domaine d'études (major) et année d'études (year_in_school)\n",
    "resultat = df.groupby(\"major\").year_in_school.value_counts()\n",
    "\n",
    "# Convertir les résultats en DataFrame pour faciliter la visualisation\n",
    "resultat_df = resultat.reset_index(name='nombre')\n",
    "\n",
    "# Créer le sunburst chart\n",
    "fig = px.sunburst(resultat_df, path=['major', 'year_in_school'], values='nombre',\n",
    "                  color='nombre', hover_data=['nombre'])\n",
    "\n",
    "# Afficher le sunburst chart\n",
    "fig.show()\n",
    "\n"
   ]
  },
  {
   "cell_type": "code",
   "execution_count": 24,
   "id": "8ec0d7f1",
   "metadata": {},
   "outputs": [
    {
     "data": {
      "text/plain": [
       "year_in_school\n",
       "Freshman     21.490119\n",
       "Junior       21.712551\n",
       "Senior       21.590551\n",
       "Sophomore    21.914634\n",
       "Name: age, dtype: float64"
      ]
     },
     "execution_count": 24,
     "metadata": {},
     "output_type": "execute_result"
    }
   ],
   "source": [
    "df.groupby(\"year_in_school\").age.mean()\n"
   ]
  },
  {
   "cell_type": "markdown",
   "id": "2f6fe0bd",
   "metadata": {},
   "source": [
    "Oh wow... okay mec, il s'en fout vraiment de la génération de données. Même l'âge n'est pas corrélé à l'année d'études. Je me demande si les étudiants plus âgés gagnent plus."
   ]
  },
  {
   "cell_type": "code",
   "execution_count": 25,
   "id": "f23a8907",
   "metadata": {},
   "outputs": [
    {
     "name": "stdout",
     "output_type": "stream",
     "text": [
      "Covariance matrix of age and total income\n",
      "                    age   total_income\n",
      "age            5.394770     -25.388564\n",
      "total_income -25.388564  175015.775535\n",
      "mean income after age\n",
      "age\n",
      "18    1525.653226\n",
      "19    1583.953704\n",
      "20    1518.351351\n",
      "21    1527.355932\n",
      "22    1479.161538\n",
      "23    1555.515625\n",
      "24    1529.683824\n",
      "25    1496.372414\n",
      "Name: total_income, dtype: float64\n"
     ]
    }
   ],
   "source": [
    "print(\"Covariance matrix of age and total income\")\n",
    "print(df[[\"age\", \"total_income\"]].cov())\n",
    "\n",
    "print(\"mean income after age\")\n",
    "print(df.groupby(\"age\").total_income.mean())"
   ]
  },
  {
   "cell_type": "markdown",
   "id": "178fe567",
   "metadata": {},
   "source": [
    "D'accord, le revenu total est en fait négativement corrélé au revenu. Normalisons-les pour éviter les problèmes d'échelle. Pour la normalisation, nous allons choisir , chercher sur la normalisation "
   ]
  },
  {
   "cell_type": "code",
   "execution_count": 28,
   "id": "ca5d5649",
   "metadata": {},
   "outputs": [
    {
     "data": {
      "text/html": [
       "<div>\n",
       "<style scoped>\n",
       "    .dataframe tbody tr th:only-of-type {\n",
       "        vertical-align: middle;\n",
       "    }\n",
       "\n",
       "    .dataframe tbody tr th {\n",
       "        vertical-align: top;\n",
       "    }\n",
       "\n",
       "    .dataframe thead th {\n",
       "        text-align: right;\n",
       "    }\n",
       "</style>\n",
       "<table border=\"1\" class=\"dataframe\">\n",
       "  <thead>\n",
       "    <tr style=\"text-align: right;\">\n",
       "      <th></th>\n",
       "      <th>Unnamed: 0</th>\n",
       "      <th>age</th>\n",
       "      <th>gender</th>\n",
       "      <th>year_in_school</th>\n",
       "      <th>major</th>\n",
       "      <th>monthly_income</th>\n",
       "      <th>financial_aid</th>\n",
       "      <th>tuition</th>\n",
       "      <th>housing</th>\n",
       "      <th>food</th>\n",
       "      <th>...</th>\n",
       "      <th>entertainment</th>\n",
       "      <th>personal_care</th>\n",
       "      <th>technology</th>\n",
       "      <th>health_wellness</th>\n",
       "      <th>miscellaneous</th>\n",
       "      <th>preferred_payment_method</th>\n",
       "      <th>total</th>\n",
       "      <th>total_spend</th>\n",
       "      <th>total_income</th>\n",
       "      <th>money_saved</th>\n",
       "    </tr>\n",
       "  </thead>\n",
       "  <tbody>\n",
       "    <tr>\n",
       "      <th>0</th>\n",
       "      <td>0</td>\n",
       "      <td>19</td>\n",
       "      <td>Non-binary</td>\n",
       "      <td>Freshman</td>\n",
       "      <td>Psychology</td>\n",
       "      <td>958</td>\n",
       "      <td>270</td>\n",
       "      <td>5939</td>\n",
       "      <td>709</td>\n",
       "      <td>296</td>\n",
       "      <td>...</td>\n",
       "      <td>41</td>\n",
       "      <td>78</td>\n",
       "      <td>134</td>\n",
       "      <td>127</td>\n",
       "      <td>72</td>\n",
       "      <td>Credit/Debit Card</td>\n",
       "      <td>7707</td>\n",
       "      <td>1768</td>\n",
       "      <td>1228</td>\n",
       "      <td>-540</td>\n",
       "    </tr>\n",
       "    <tr>\n",
       "      <th>1</th>\n",
       "      <td>1</td>\n",
       "      <td>24</td>\n",
       "      <td>Female</td>\n",
       "      <td>Junior</td>\n",
       "      <td>Economics</td>\n",
       "      <td>1006</td>\n",
       "      <td>875</td>\n",
       "      <td>4908</td>\n",
       "      <td>557</td>\n",
       "      <td>365</td>\n",
       "      <td>...</td>\n",
       "      <td>74</td>\n",
       "      <td>92</td>\n",
       "      <td>226</td>\n",
       "      <td>129</td>\n",
       "      <td>68</td>\n",
       "      <td>Credit/Debit Card</td>\n",
       "      <td>6756</td>\n",
       "      <td>1848</td>\n",
       "      <td>1881</td>\n",
       "      <td>33</td>\n",
       "    </tr>\n",
       "    <tr>\n",
       "      <th>2</th>\n",
       "      <td>2</td>\n",
       "      <td>24</td>\n",
       "      <td>Non-binary</td>\n",
       "      <td>Junior</td>\n",
       "      <td>Economics</td>\n",
       "      <td>734</td>\n",
       "      <td>928</td>\n",
       "      <td>3051</td>\n",
       "      <td>666</td>\n",
       "      <td>220</td>\n",
       "      <td>...</td>\n",
       "      <td>130</td>\n",
       "      <td>23</td>\n",
       "      <td>239</td>\n",
       "      <td>112</td>\n",
       "      <td>133</td>\n",
       "      <td>Cash</td>\n",
       "      <td>4810</td>\n",
       "      <td>1759</td>\n",
       "      <td>1662</td>\n",
       "      <td>-97</td>\n",
       "    </tr>\n",
       "    <tr>\n",
       "      <th>3</th>\n",
       "      <td>3</td>\n",
       "      <td>23</td>\n",
       "      <td>Female</td>\n",
       "      <td>Senior</td>\n",
       "      <td>Computer Science</td>\n",
       "      <td>617</td>\n",
       "      <td>265</td>\n",
       "      <td>4935</td>\n",
       "      <td>652</td>\n",
       "      <td>289</td>\n",
       "      <td>...</td>\n",
       "      <td>99</td>\n",
       "      <td>30</td>\n",
       "      <td>163</td>\n",
       "      <td>105</td>\n",
       "      <td>55</td>\n",
       "      <td>Mobile Payment App</td>\n",
       "      <td>6665</td>\n",
       "      <td>1730</td>\n",
       "      <td>882</td>\n",
       "      <td>-848</td>\n",
       "    </tr>\n",
       "    <tr>\n",
       "      <th>4</th>\n",
       "      <td>4</td>\n",
       "      <td>20</td>\n",
       "      <td>Female</td>\n",
       "      <td>Senior</td>\n",
       "      <td>Computer Science</td>\n",
       "      <td>810</td>\n",
       "      <td>522</td>\n",
       "      <td>3887</td>\n",
       "      <td>825</td>\n",
       "      <td>372</td>\n",
       "      <td>...</td>\n",
       "      <td>48</td>\n",
       "      <td>71</td>\n",
       "      <td>88</td>\n",
       "      <td>71</td>\n",
       "      <td>104</td>\n",
       "      <td>Credit/Debit Card</td>\n",
       "      <td>5828</td>\n",
       "      <td>1941</td>\n",
       "      <td>1332</td>\n",
       "      <td>-609</td>\n",
       "    </tr>\n",
       "  </tbody>\n",
       "</table>\n",
       "<p>5 rows × 22 columns</p>\n",
       "</div>"
      ],
      "text/plain": [
       "   Unnamed: 0  age      gender year_in_school             major  \\\n",
       "0           0   19  Non-binary       Freshman        Psychology   \n",
       "1           1   24      Female         Junior         Economics   \n",
       "2           2   24  Non-binary         Junior         Economics   \n",
       "3           3   23      Female         Senior  Computer Science   \n",
       "4           4   20      Female         Senior  Computer Science   \n",
       "\n",
       "   monthly_income  financial_aid  tuition  housing  food  ...  entertainment  \\\n",
       "0             958            270     5939      709   296  ...             41   \n",
       "1            1006            875     4908      557   365  ...             74   \n",
       "2             734            928     3051      666   220  ...            130   \n",
       "3             617            265     4935      652   289  ...             99   \n",
       "4             810            522     3887      825   372  ...             48   \n",
       "\n",
       "   personal_care  technology  health_wellness  miscellaneous  \\\n",
       "0             78         134              127             72   \n",
       "1             92         226              129             68   \n",
       "2             23         239              112            133   \n",
       "3             30         163              105             55   \n",
       "4             71          88               71            104   \n",
       "\n",
       "   preferred_payment_method  total total_spend  total_income  money_saved  \n",
       "0         Credit/Debit Card   7707        1768          1228         -540  \n",
       "1         Credit/Debit Card   6756        1848          1881           33  \n",
       "2                      Cash   4810        1759          1662          -97  \n",
       "3        Mobile Payment App   6665        1730           882         -848  \n",
       "4         Credit/Debit Card   5828        1941          1332         -609  \n",
       "\n",
       "[5 rows x 22 columns]"
      ]
     },
     "execution_count": 28,
     "metadata": {},
     "output_type": "execute_result"
    }
   ],
   "source": [
    "df.head()"
   ]
  },
  {
   "cell_type": "code",
   "execution_count": 32,
   "id": "0863a091",
   "metadata": {},
   "outputs": [
    {
     "data": {
      "application/vnd.plotly.v1+json": {
       "config": {
        "plotlyServerURL": "https://plot.ly"
       },
       "data": [
        {
         "alignmentgroup": "True",
         "bingroup": "x",
         "hovertemplate": "monthly_income=%{x}<br>count=%{y}<extra></extra>",
         "legendgroup": "",
         "marker": {
          "color": "#636efa",
          "pattern": {
           "shape": ""
          }
         },
         "name": "",
         "nbinsx": 20,
         "offsetgroup": "",
         "orientation": "v",
         "showlegend": false,
         "type": "histogram",
         "x": [
          958,
          1006,
          734,
          617,
          810,
          523,
          1354,
          631,
          1402,
          1423,
          762,
          1068,
          719,
          1176,
          1496,
          1227,
          1419,
          1454,
          1487,
          1157,
          1180,
          516,
          1225,
          582,
          1062,
          1054,
          667,
          796,
          905,
          531,
          1426,
          1465,
          522,
          1338,
          1363,
          1328,
          1350,
          1309,
          965,
          600,
          605,
          804,
          1274,
          509,
          1285,
          929,
          1163,
          1195,
          1036,
          588,
          1377,
          1451,
          669,
          1294,
          941,
          1131,
          854,
          1158,
          668,
          695,
          1375,
          1084,
          733,
          1061,
          1352,
          1092,
          963,
          1204,
          1184,
          562,
          1218,
          1235,
          1424,
          1176,
          1334,
          1442,
          983,
          914,
          898,
          1164,
          1484,
          1127,
          1105,
          1351,
          930,
          1346,
          1240,
          727,
          622,
          800,
          1199,
          1006,
          1295,
          1222,
          1384,
          1035,
          1395,
          767,
          933,
          803,
          1333,
          1115,
          920,
          780,
          882,
          959,
          748,
          810,
          965,
          784,
          970,
          1349,
          760,
          702,
          720,
          1286,
          1135,
          1030,
          1265,
          1175,
          1083,
          1487,
          1327,
          1095,
          1460,
          1354,
          836,
          1212,
          1483,
          998,
          885,
          726,
          1037,
          1456,
          676,
          571,
          1213,
          1112,
          1100,
          526,
          951,
          1301,
          1103,
          1083,
          860,
          1354,
          877,
          649,
          897,
          1147,
          1367,
          647,
          656,
          1131,
          1319,
          917,
          872,
          901,
          536,
          506,
          1201,
          1189,
          546,
          1181,
          810,
          855,
          1354,
          1056,
          620,
          1207,
          621,
          1033,
          722,
          1304,
          912,
          963,
          1286,
          1104,
          697,
          1230,
          1345,
          1411,
          1355,
          608,
          566,
          1310,
          1354,
          1020,
          1394,
          954,
          1448,
          968,
          1450,
          1316,
          904,
          1488,
          893,
          527,
          804,
          547,
          523,
          1040,
          918,
          504,
          1203,
          951,
          857,
          812,
          540,
          889,
          992,
          760,
          1199,
          578,
          994,
          552,
          1444,
          1203,
          1481,
          700,
          1087,
          672,
          825,
          1033,
          774,
          1365,
          810,
          856,
          985,
          919,
          637,
          894,
          874,
          850,
          879,
          811,
          809,
          596,
          856,
          886,
          1205,
          1353,
          1268,
          1112,
          1206,
          1159,
          1250,
          1120,
          1277,
          1442,
          776,
          800,
          1078,
          1404,
          1097,
          835,
          755,
          1087,
          931,
          983,
          639,
          527,
          744,
          1118,
          1276,
          880,
          1424,
          1276,
          697,
          1379,
          1466,
          1126,
          1126,
          618,
          785,
          770,
          1431,
          1338,
          1121,
          1245,
          748,
          1389,
          1122,
          1113,
          879,
          1489,
          869,
          1381,
          1325,
          581,
          694,
          615,
          1394,
          800,
          913,
          1243,
          655,
          667,
          1458,
          925,
          1105,
          737,
          1495,
          1298,
          1272,
          511,
          1161,
          1112,
          958,
          1176,
          727,
          1483,
          881,
          1347,
          725,
          1000,
          795,
          869,
          543,
          1470,
          734,
          669,
          1336,
          1436,
          1339,
          609,
          1036,
          1309,
          1471,
          658,
          684,
          907,
          846,
          1175,
          659,
          1488,
          1190,
          742,
          914,
          1485,
          582,
          1468,
          1021,
          760,
          969,
          990,
          1304,
          805,
          1179,
          573,
          843,
          1085,
          580,
          975,
          602,
          1103,
          816,
          1016,
          969,
          918,
          982,
          1021,
          521,
          1444,
          646,
          1296,
          1360,
          1123,
          1020,
          736,
          931,
          1443,
          730,
          561,
          1212,
          1282,
          1438,
          702,
          1433,
          1444,
          536,
          1260,
          701,
          1309,
          842,
          617,
          1134,
          992,
          1408,
          1368,
          716,
          1224,
          1349,
          802,
          973,
          736,
          571,
          833,
          713,
          1268,
          819,
          1268,
          1486,
          1005,
          1205,
          1356,
          817,
          706,
          1102,
          1279,
          1457,
          1306,
          1309,
          1482,
          1468,
          869,
          886,
          1443,
          766,
          1403,
          1372,
          1428,
          1303,
          572,
          558,
          1049,
          923,
          621,
          660,
          528,
          640,
          1427,
          527,
          1295,
          1219,
          959,
          1483,
          646,
          818,
          1268,
          563,
          1253,
          791,
          847,
          668,
          1022,
          725,
          733,
          684,
          604,
          1346,
          1464,
          1258,
          925,
          927,
          1230,
          1437,
          989,
          910,
          1323,
          668,
          1004,
          1415,
          948,
          1010,
          873,
          921,
          1459,
          672,
          1461,
          1492,
          627,
          961,
          954,
          1486,
          1331,
          551,
          1352,
          1437,
          1146,
          1341,
          1331,
          1195,
          1247,
          663,
          861,
          568,
          802,
          821,
          1009,
          526,
          502,
          860,
          1420,
          540,
          737,
          503,
          673,
          681,
          1356,
          1062,
          1399,
          1402,
          1184,
          743,
          1384,
          997,
          618,
          1320,
          959,
          950,
          1286,
          893,
          1126,
          679,
          803,
          664,
          1500,
          1005,
          883,
          1428,
          906,
          991,
          1246,
          1273,
          880,
          1356,
          916,
          1059,
          941,
          764,
          983,
          1295,
          1301,
          829,
          1296,
          1278,
          725,
          525,
          1006,
          872,
          549,
          885,
          1197,
          539,
          804,
          1109,
          1126,
          849,
          503,
          1293,
          903,
          1149,
          1363,
          1056,
          1245,
          1149,
          1226,
          965,
          1338,
          1414,
          1232,
          528,
          1377,
          1078,
          766,
          1289,
          887,
          1040,
          940,
          895,
          1113,
          982,
          1401,
          772,
          912,
          946,
          834,
          695,
          1479,
          994,
          843,
          1412,
          727,
          622,
          1392,
          1491,
          1038,
          854,
          1415,
          1136,
          971,
          1115,
          523,
          533,
          1129,
          739,
          1099,
          610,
          1305,
          1263,
          656,
          975,
          1459,
          1302,
          1115,
          816,
          1358,
          1054,
          1372,
          1101,
          1258,
          1399,
          1469,
          560,
          527,
          1165,
          996,
          630,
          542,
          648,
          639,
          729,
          1021,
          1229,
          660,
          1343,
          833,
          555,
          541,
          748,
          1477,
          1236,
          592,
          558,
          925,
          719,
          981,
          1381,
          929,
          1245,
          691,
          1326,
          1000,
          592,
          1227,
          575,
          1298,
          1141,
          703,
          929,
          1415,
          1359,
          1162,
          663,
          1432,
          663,
          1327,
          1045,
          619,
          815,
          728,
          941,
          1176,
          1092,
          1439,
          816,
          1413,
          1076,
          559,
          1144,
          1296,
          958,
          775,
          1483,
          1304,
          1400,
          1440,
          1460,
          1379,
          942,
          740,
          1186,
          731,
          1347,
          1085,
          665,
          1422,
          1366,
          714,
          1259,
          975,
          1420,
          604,
          1250,
          567,
          546,
          1169,
          834,
          1117,
          677,
          1433,
          889,
          670,
          645,
          1107,
          750,
          654,
          1141,
          811,
          1452,
          1255,
          737,
          1419,
          815,
          1034,
          1022,
          1341,
          999,
          1218,
          1332,
          903,
          932,
          634,
          553,
          547,
          867,
          863,
          603,
          1480,
          522,
          1376,
          1195,
          1223,
          613,
          844,
          620,
          983,
          996,
          1106,
          1032,
          1419,
          610,
          1449,
          1270,
          770,
          911,
          1303,
          1367,
          509,
          804,
          1268,
          1492,
          1402,
          673,
          1174,
          635,
          792,
          998,
          866,
          1408,
          732,
          1107,
          1165,
          1316,
          1471,
          536,
          1045,
          609,
          581,
          1106,
          1316,
          574,
          1115,
          1257,
          1069,
          757,
          794,
          1139,
          598,
          514,
          1479,
          633,
          1437,
          1135,
          1433,
          824,
          967,
          1126,
          885,
          525,
          1009,
          1478,
          547,
          549,
          1326,
          761,
          1344,
          895,
          1036,
          664,
          1403,
          1094,
          789,
          587,
          509,
          1382,
          1301,
          777,
          505,
          866,
          1329,
          1372,
          1004,
          1415,
          639,
          1397,
          935,
          882,
          1398,
          1461,
          1430,
          953,
          1456,
          892,
          539,
          1024,
          1405,
          691,
          1157,
          555,
          1245,
          1227,
          825,
          1359,
          556,
          1110,
          518,
          932,
          683,
          1397,
          1201,
          1402,
          844,
          1366,
          923,
          542,
          1130,
          848,
          1022,
          1189,
          771,
          1280,
          933,
          1257,
          1313,
          1034,
          669,
          728,
          569,
          960,
          1288,
          556,
          1413,
          957,
          1084,
          1270,
          845,
          1423,
          683,
          1309,
          888,
          1496,
          965,
          1329,
          1021,
          501,
          1223,
          1495,
          862,
          1037,
          505,
          1193,
          1452,
          1422,
          717,
          1333,
          978,
          1141,
          1399,
          1200,
          1053,
          1118,
          1094,
          1252,
          686,
          513,
          1174,
          1224,
          975,
          1435,
          894,
          1168,
          1482,
          1385,
          1476,
          812,
          1191,
          1440,
          1447,
          1030,
          1034,
          1406,
          1086,
          1334,
          507,
          1483,
          888,
          1204,
          1047,
          1279,
          613,
          1280,
          696,
          1191,
          1287,
          1391,
          1345,
          1344,
          779,
          1123,
          1038,
          595,
          1345,
          534,
          1176,
          836,
          1047,
          865,
          1148,
          696,
          778,
          1140,
          557,
          948,
          1249,
          1092,
          717,
          857,
          1021,
          1056,
          758,
          653,
          643,
          668,
          645,
          1020,
          1128,
          1186,
          528,
          774,
          1236,
          938,
          1169,
          1061,
          514,
          1015,
          743,
          913,
          1142,
          868,
          1464,
          1260,
          1326,
          1219,
          1038,
          1418,
          1385,
          553,
          1013,
          1019,
          669,
          933,
          1166,
          1197,
          973,
          1381,
          1082,
          1160,
          1011,
          1412,
          1391,
          1293,
          1380,
          764,
          1346,
          1407,
          957,
          1174,
          541
         ],
         "xaxis": "x",
         "yaxis": "y"
        }
       ],
       "layout": {
        "barmode": "relative",
        "legend": {
         "tracegroupgap": 0
        },
        "margin": {
         "t": 60
        },
        "template": {
         "data": {
          "bar": [
           {
            "error_x": {
             "color": "#2a3f5f"
            },
            "error_y": {
             "color": "#2a3f5f"
            },
            "marker": {
             "line": {
              "color": "#E5ECF6",
              "width": 0.5
             },
             "pattern": {
              "fillmode": "overlay",
              "size": 10,
              "solidity": 0.2
             }
            },
            "type": "bar"
           }
          ],
          "barpolar": [
           {
            "marker": {
             "line": {
              "color": "#E5ECF6",
              "width": 0.5
             },
             "pattern": {
              "fillmode": "overlay",
              "size": 10,
              "solidity": 0.2
             }
            },
            "type": "barpolar"
           }
          ],
          "carpet": [
           {
            "aaxis": {
             "endlinecolor": "#2a3f5f",
             "gridcolor": "white",
             "linecolor": "white",
             "minorgridcolor": "white",
             "startlinecolor": "#2a3f5f"
            },
            "baxis": {
             "endlinecolor": "#2a3f5f",
             "gridcolor": "white",
             "linecolor": "white",
             "minorgridcolor": "white",
             "startlinecolor": "#2a3f5f"
            },
            "type": "carpet"
           }
          ],
          "choropleth": [
           {
            "colorbar": {
             "outlinewidth": 0,
             "ticks": ""
            },
            "type": "choropleth"
           }
          ],
          "contour": [
           {
            "colorbar": {
             "outlinewidth": 0,
             "ticks": ""
            },
            "colorscale": [
             [
              0,
              "#0d0887"
             ],
             [
              0.1111111111111111,
              "#46039f"
             ],
             [
              0.2222222222222222,
              "#7201a8"
             ],
             [
              0.3333333333333333,
              "#9c179e"
             ],
             [
              0.4444444444444444,
              "#bd3786"
             ],
             [
              0.5555555555555556,
              "#d8576b"
             ],
             [
              0.6666666666666666,
              "#ed7953"
             ],
             [
              0.7777777777777778,
              "#fb9f3a"
             ],
             [
              0.8888888888888888,
              "#fdca26"
             ],
             [
              1,
              "#f0f921"
             ]
            ],
            "type": "contour"
           }
          ],
          "contourcarpet": [
           {
            "colorbar": {
             "outlinewidth": 0,
             "ticks": ""
            },
            "type": "contourcarpet"
           }
          ],
          "heatmap": [
           {
            "colorbar": {
             "outlinewidth": 0,
             "ticks": ""
            },
            "colorscale": [
             [
              0,
              "#0d0887"
             ],
             [
              0.1111111111111111,
              "#46039f"
             ],
             [
              0.2222222222222222,
              "#7201a8"
             ],
             [
              0.3333333333333333,
              "#9c179e"
             ],
             [
              0.4444444444444444,
              "#bd3786"
             ],
             [
              0.5555555555555556,
              "#d8576b"
             ],
             [
              0.6666666666666666,
              "#ed7953"
             ],
             [
              0.7777777777777778,
              "#fb9f3a"
             ],
             [
              0.8888888888888888,
              "#fdca26"
             ],
             [
              1,
              "#f0f921"
             ]
            ],
            "type": "heatmap"
           }
          ],
          "heatmapgl": [
           {
            "colorbar": {
             "outlinewidth": 0,
             "ticks": ""
            },
            "colorscale": [
             [
              0,
              "#0d0887"
             ],
             [
              0.1111111111111111,
              "#46039f"
             ],
             [
              0.2222222222222222,
              "#7201a8"
             ],
             [
              0.3333333333333333,
              "#9c179e"
             ],
             [
              0.4444444444444444,
              "#bd3786"
             ],
             [
              0.5555555555555556,
              "#d8576b"
             ],
             [
              0.6666666666666666,
              "#ed7953"
             ],
             [
              0.7777777777777778,
              "#fb9f3a"
             ],
             [
              0.8888888888888888,
              "#fdca26"
             ],
             [
              1,
              "#f0f921"
             ]
            ],
            "type": "heatmapgl"
           }
          ],
          "histogram": [
           {
            "marker": {
             "pattern": {
              "fillmode": "overlay",
              "size": 10,
              "solidity": 0.2
             }
            },
            "type": "histogram"
           }
          ],
          "histogram2d": [
           {
            "colorbar": {
             "outlinewidth": 0,
             "ticks": ""
            },
            "colorscale": [
             [
              0,
              "#0d0887"
             ],
             [
              0.1111111111111111,
              "#46039f"
             ],
             [
              0.2222222222222222,
              "#7201a8"
             ],
             [
              0.3333333333333333,
              "#9c179e"
             ],
             [
              0.4444444444444444,
              "#bd3786"
             ],
             [
              0.5555555555555556,
              "#d8576b"
             ],
             [
              0.6666666666666666,
              "#ed7953"
             ],
             [
              0.7777777777777778,
              "#fb9f3a"
             ],
             [
              0.8888888888888888,
              "#fdca26"
             ],
             [
              1,
              "#f0f921"
             ]
            ],
            "type": "histogram2d"
           }
          ],
          "histogram2dcontour": [
           {
            "colorbar": {
             "outlinewidth": 0,
             "ticks": ""
            },
            "colorscale": [
             [
              0,
              "#0d0887"
             ],
             [
              0.1111111111111111,
              "#46039f"
             ],
             [
              0.2222222222222222,
              "#7201a8"
             ],
             [
              0.3333333333333333,
              "#9c179e"
             ],
             [
              0.4444444444444444,
              "#bd3786"
             ],
             [
              0.5555555555555556,
              "#d8576b"
             ],
             [
              0.6666666666666666,
              "#ed7953"
             ],
             [
              0.7777777777777778,
              "#fb9f3a"
             ],
             [
              0.8888888888888888,
              "#fdca26"
             ],
             [
              1,
              "#f0f921"
             ]
            ],
            "type": "histogram2dcontour"
           }
          ],
          "mesh3d": [
           {
            "colorbar": {
             "outlinewidth": 0,
             "ticks": ""
            },
            "type": "mesh3d"
           }
          ],
          "parcoords": [
           {
            "line": {
             "colorbar": {
              "outlinewidth": 0,
              "ticks": ""
             }
            },
            "type": "parcoords"
           }
          ],
          "pie": [
           {
            "automargin": true,
            "type": "pie"
           }
          ],
          "scatter": [
           {
            "fillpattern": {
             "fillmode": "overlay",
             "size": 10,
             "solidity": 0.2
            },
            "type": "scatter"
           }
          ],
          "scatter3d": [
           {
            "line": {
             "colorbar": {
              "outlinewidth": 0,
              "ticks": ""
             }
            },
            "marker": {
             "colorbar": {
              "outlinewidth": 0,
              "ticks": ""
             }
            },
            "type": "scatter3d"
           }
          ],
          "scattercarpet": [
           {
            "marker": {
             "colorbar": {
              "outlinewidth": 0,
              "ticks": ""
             }
            },
            "type": "scattercarpet"
           }
          ],
          "scattergeo": [
           {
            "marker": {
             "colorbar": {
              "outlinewidth": 0,
              "ticks": ""
             }
            },
            "type": "scattergeo"
           }
          ],
          "scattergl": [
           {
            "marker": {
             "colorbar": {
              "outlinewidth": 0,
              "ticks": ""
             }
            },
            "type": "scattergl"
           }
          ],
          "scattermapbox": [
           {
            "marker": {
             "colorbar": {
              "outlinewidth": 0,
              "ticks": ""
             }
            },
            "type": "scattermapbox"
           }
          ],
          "scatterpolar": [
           {
            "marker": {
             "colorbar": {
              "outlinewidth": 0,
              "ticks": ""
             }
            },
            "type": "scatterpolar"
           }
          ],
          "scatterpolargl": [
           {
            "marker": {
             "colorbar": {
              "outlinewidth": 0,
              "ticks": ""
             }
            },
            "type": "scatterpolargl"
           }
          ],
          "scatterternary": [
           {
            "marker": {
             "colorbar": {
              "outlinewidth": 0,
              "ticks": ""
             }
            },
            "type": "scatterternary"
           }
          ],
          "surface": [
           {
            "colorbar": {
             "outlinewidth": 0,
             "ticks": ""
            },
            "colorscale": [
             [
              0,
              "#0d0887"
             ],
             [
              0.1111111111111111,
              "#46039f"
             ],
             [
              0.2222222222222222,
              "#7201a8"
             ],
             [
              0.3333333333333333,
              "#9c179e"
             ],
             [
              0.4444444444444444,
              "#bd3786"
             ],
             [
              0.5555555555555556,
              "#d8576b"
             ],
             [
              0.6666666666666666,
              "#ed7953"
             ],
             [
              0.7777777777777778,
              "#fb9f3a"
             ],
             [
              0.8888888888888888,
              "#fdca26"
             ],
             [
              1,
              "#f0f921"
             ]
            ],
            "type": "surface"
           }
          ],
          "table": [
           {
            "cells": {
             "fill": {
              "color": "#EBF0F8"
             },
             "line": {
              "color": "white"
             }
            },
            "header": {
             "fill": {
              "color": "#C8D4E3"
             },
             "line": {
              "color": "white"
             }
            },
            "type": "table"
           }
          ]
         },
         "layout": {
          "annotationdefaults": {
           "arrowcolor": "#2a3f5f",
           "arrowhead": 0,
           "arrowwidth": 1
          },
          "autotypenumbers": "strict",
          "coloraxis": {
           "colorbar": {
            "outlinewidth": 0,
            "ticks": ""
           }
          },
          "colorscale": {
           "diverging": [
            [
             0,
             "#8e0152"
            ],
            [
             0.1,
             "#c51b7d"
            ],
            [
             0.2,
             "#de77ae"
            ],
            [
             0.3,
             "#f1b6da"
            ],
            [
             0.4,
             "#fde0ef"
            ],
            [
             0.5,
             "#f7f7f7"
            ],
            [
             0.6,
             "#e6f5d0"
            ],
            [
             0.7,
             "#b8e186"
            ],
            [
             0.8,
             "#7fbc41"
            ],
            [
             0.9,
             "#4d9221"
            ],
            [
             1,
             "#276419"
            ]
           ],
           "sequential": [
            [
             0,
             "#0d0887"
            ],
            [
             0.1111111111111111,
             "#46039f"
            ],
            [
             0.2222222222222222,
             "#7201a8"
            ],
            [
             0.3333333333333333,
             "#9c179e"
            ],
            [
             0.4444444444444444,
             "#bd3786"
            ],
            [
             0.5555555555555556,
             "#d8576b"
            ],
            [
             0.6666666666666666,
             "#ed7953"
            ],
            [
             0.7777777777777778,
             "#fb9f3a"
            ],
            [
             0.8888888888888888,
             "#fdca26"
            ],
            [
             1,
             "#f0f921"
            ]
           ],
           "sequentialminus": [
            [
             0,
             "#0d0887"
            ],
            [
             0.1111111111111111,
             "#46039f"
            ],
            [
             0.2222222222222222,
             "#7201a8"
            ],
            [
             0.3333333333333333,
             "#9c179e"
            ],
            [
             0.4444444444444444,
             "#bd3786"
            ],
            [
             0.5555555555555556,
             "#d8576b"
            ],
            [
             0.6666666666666666,
             "#ed7953"
            ],
            [
             0.7777777777777778,
             "#fb9f3a"
            ],
            [
             0.8888888888888888,
             "#fdca26"
            ],
            [
             1,
             "#f0f921"
            ]
           ]
          },
          "colorway": [
           "#636efa",
           "#EF553B",
           "#00cc96",
           "#ab63fa",
           "#FFA15A",
           "#19d3f3",
           "#FF6692",
           "#B6E880",
           "#FF97FF",
           "#FECB52"
          ],
          "font": {
           "color": "#2a3f5f"
          },
          "geo": {
           "bgcolor": "white",
           "lakecolor": "white",
           "landcolor": "#E5ECF6",
           "showlakes": true,
           "showland": true,
           "subunitcolor": "white"
          },
          "hoverlabel": {
           "align": "left"
          },
          "hovermode": "closest",
          "mapbox": {
           "style": "light"
          },
          "paper_bgcolor": "white",
          "plot_bgcolor": "#E5ECF6",
          "polar": {
           "angularaxis": {
            "gridcolor": "white",
            "linecolor": "white",
            "ticks": ""
           },
           "bgcolor": "#E5ECF6",
           "radialaxis": {
            "gridcolor": "white",
            "linecolor": "white",
            "ticks": ""
           }
          },
          "scene": {
           "xaxis": {
            "backgroundcolor": "#E5ECF6",
            "gridcolor": "white",
            "gridwidth": 2,
            "linecolor": "white",
            "showbackground": true,
            "ticks": "",
            "zerolinecolor": "white"
           },
           "yaxis": {
            "backgroundcolor": "#E5ECF6",
            "gridcolor": "white",
            "gridwidth": 2,
            "linecolor": "white",
            "showbackground": true,
            "ticks": "",
            "zerolinecolor": "white"
           },
           "zaxis": {
            "backgroundcolor": "#E5ECF6",
            "gridcolor": "white",
            "gridwidth": 2,
            "linecolor": "white",
            "showbackground": true,
            "ticks": "",
            "zerolinecolor": "white"
           }
          },
          "shapedefaults": {
           "line": {
            "color": "#2a3f5f"
           }
          },
          "ternary": {
           "aaxis": {
            "gridcolor": "white",
            "linecolor": "white",
            "ticks": ""
           },
           "baxis": {
            "gridcolor": "white",
            "linecolor": "white",
            "ticks": ""
           },
           "bgcolor": "#E5ECF6",
           "caxis": {
            "gridcolor": "white",
            "linecolor": "white",
            "ticks": ""
           }
          },
          "title": {
           "x": 0.05
          },
          "xaxis": {
           "automargin": true,
           "gridcolor": "white",
           "linecolor": "white",
           "ticks": "",
           "title": {
            "standoff": 15
           },
           "zerolinecolor": "white",
           "zerolinewidth": 2
          },
          "yaxis": {
           "automargin": true,
           "gridcolor": "white",
           "linecolor": "white",
           "ticks": "",
           "title": {
            "standoff": 15
           },
           "zerolinecolor": "white",
           "zerolinewidth": 2
          }
         }
        },
        "xaxis": {
         "anchor": "y",
         "domain": [
          0,
          1
         ],
         "range": [
          0,
          2000
         ],
         "title": {
          "text": "monthly_income"
         }
        },
        "yaxis": {
         "anchor": "x",
         "domain": [
          0,
          1
         ],
         "title": {
          "text": "count"
         }
        }
       }
      },
      "text/html": [
       "<div>                            <div id=\"c9adc208-0b3c-4e40-b7b7-628e5debb54b\" class=\"plotly-graph-div\" style=\"height:525px; width:100%;\"></div>            <script type=\"text/javascript\">                require([\"plotly\"], function(Plotly) {                    window.PLOTLYENV=window.PLOTLYENV || {};                                    if (document.getElementById(\"c9adc208-0b3c-4e40-b7b7-628e5debb54b\")) {                    Plotly.newPlot(                        \"c9adc208-0b3c-4e40-b7b7-628e5debb54b\",                        [{\"alignmentgroup\":\"True\",\"bingroup\":\"x\",\"hovertemplate\":\"monthly_income=%{x}\\u003cbr\\u003ecount=%{y}\\u003cextra\\u003e\\u003c\\u002fextra\\u003e\",\"legendgroup\":\"\",\"marker\":{\"color\":\"#636efa\",\"pattern\":{\"shape\":\"\"}},\"name\":\"\",\"nbinsx\":20,\"offsetgroup\":\"\",\"orientation\":\"v\",\"showlegend\":false,\"x\":[958,1006,734,617,810,523,1354,631,1402,1423,762,1068,719,1176,1496,1227,1419,1454,1487,1157,1180,516,1225,582,1062,1054,667,796,905,531,1426,1465,522,1338,1363,1328,1350,1309,965,600,605,804,1274,509,1285,929,1163,1195,1036,588,1377,1451,669,1294,941,1131,854,1158,668,695,1375,1084,733,1061,1352,1092,963,1204,1184,562,1218,1235,1424,1176,1334,1442,983,914,898,1164,1484,1127,1105,1351,930,1346,1240,727,622,800,1199,1006,1295,1222,1384,1035,1395,767,933,803,1333,1115,920,780,882,959,748,810,965,784,970,1349,760,702,720,1286,1135,1030,1265,1175,1083,1487,1327,1095,1460,1354,836,1212,1483,998,885,726,1037,1456,676,571,1213,1112,1100,526,951,1301,1103,1083,860,1354,877,649,897,1147,1367,647,656,1131,1319,917,872,901,536,506,1201,1189,546,1181,810,855,1354,1056,620,1207,621,1033,722,1304,912,963,1286,1104,697,1230,1345,1411,1355,608,566,1310,1354,1020,1394,954,1448,968,1450,1316,904,1488,893,527,804,547,523,1040,918,504,1203,951,857,812,540,889,992,760,1199,578,994,552,1444,1203,1481,700,1087,672,825,1033,774,1365,810,856,985,919,637,894,874,850,879,811,809,596,856,886,1205,1353,1268,1112,1206,1159,1250,1120,1277,1442,776,800,1078,1404,1097,835,755,1087,931,983,639,527,744,1118,1276,880,1424,1276,697,1379,1466,1126,1126,618,785,770,1431,1338,1121,1245,748,1389,1122,1113,879,1489,869,1381,1325,581,694,615,1394,800,913,1243,655,667,1458,925,1105,737,1495,1298,1272,511,1161,1112,958,1176,727,1483,881,1347,725,1000,795,869,543,1470,734,669,1336,1436,1339,609,1036,1309,1471,658,684,907,846,1175,659,1488,1190,742,914,1485,582,1468,1021,760,969,990,1304,805,1179,573,843,1085,580,975,602,1103,816,1016,969,918,982,1021,521,1444,646,1296,1360,1123,1020,736,931,1443,730,561,1212,1282,1438,702,1433,1444,536,1260,701,1309,842,617,1134,992,1408,1368,716,1224,1349,802,973,736,571,833,713,1268,819,1268,1486,1005,1205,1356,817,706,1102,1279,1457,1306,1309,1482,1468,869,886,1443,766,1403,1372,1428,1303,572,558,1049,923,621,660,528,640,1427,527,1295,1219,959,1483,646,818,1268,563,1253,791,847,668,1022,725,733,684,604,1346,1464,1258,925,927,1230,1437,989,910,1323,668,1004,1415,948,1010,873,921,1459,672,1461,1492,627,961,954,1486,1331,551,1352,1437,1146,1341,1331,1195,1247,663,861,568,802,821,1009,526,502,860,1420,540,737,503,673,681,1356,1062,1399,1402,1184,743,1384,997,618,1320,959,950,1286,893,1126,679,803,664,1500,1005,883,1428,906,991,1246,1273,880,1356,916,1059,941,764,983,1295,1301,829,1296,1278,725,525,1006,872,549,885,1197,539,804,1109,1126,849,503,1293,903,1149,1363,1056,1245,1149,1226,965,1338,1414,1232,528,1377,1078,766,1289,887,1040,940,895,1113,982,1401,772,912,946,834,695,1479,994,843,1412,727,622,1392,1491,1038,854,1415,1136,971,1115,523,533,1129,739,1099,610,1305,1263,656,975,1459,1302,1115,816,1358,1054,1372,1101,1258,1399,1469,560,527,1165,996,630,542,648,639,729,1021,1229,660,1343,833,555,541,748,1477,1236,592,558,925,719,981,1381,929,1245,691,1326,1000,592,1227,575,1298,1141,703,929,1415,1359,1162,663,1432,663,1327,1045,619,815,728,941,1176,1092,1439,816,1413,1076,559,1144,1296,958,775,1483,1304,1400,1440,1460,1379,942,740,1186,731,1347,1085,665,1422,1366,714,1259,975,1420,604,1250,567,546,1169,834,1117,677,1433,889,670,645,1107,750,654,1141,811,1452,1255,737,1419,815,1034,1022,1341,999,1218,1332,903,932,634,553,547,867,863,603,1480,522,1376,1195,1223,613,844,620,983,996,1106,1032,1419,610,1449,1270,770,911,1303,1367,509,804,1268,1492,1402,673,1174,635,792,998,866,1408,732,1107,1165,1316,1471,536,1045,609,581,1106,1316,574,1115,1257,1069,757,794,1139,598,514,1479,633,1437,1135,1433,824,967,1126,885,525,1009,1478,547,549,1326,761,1344,895,1036,664,1403,1094,789,587,509,1382,1301,777,505,866,1329,1372,1004,1415,639,1397,935,882,1398,1461,1430,953,1456,892,539,1024,1405,691,1157,555,1245,1227,825,1359,556,1110,518,932,683,1397,1201,1402,844,1366,923,542,1130,848,1022,1189,771,1280,933,1257,1313,1034,669,728,569,960,1288,556,1413,957,1084,1270,845,1423,683,1309,888,1496,965,1329,1021,501,1223,1495,862,1037,505,1193,1452,1422,717,1333,978,1141,1399,1200,1053,1118,1094,1252,686,513,1174,1224,975,1435,894,1168,1482,1385,1476,812,1191,1440,1447,1030,1034,1406,1086,1334,507,1483,888,1204,1047,1279,613,1280,696,1191,1287,1391,1345,1344,779,1123,1038,595,1345,534,1176,836,1047,865,1148,696,778,1140,557,948,1249,1092,717,857,1021,1056,758,653,643,668,645,1020,1128,1186,528,774,1236,938,1169,1061,514,1015,743,913,1142,868,1464,1260,1326,1219,1038,1418,1385,553,1013,1019,669,933,1166,1197,973,1381,1082,1160,1011,1412,1391,1293,1380,764,1346,1407,957,1174,541],\"xaxis\":\"x\",\"yaxis\":\"y\",\"type\":\"histogram\"}],                        {\"template\":{\"data\":{\"histogram2dcontour\":[{\"type\":\"histogram2dcontour\",\"colorbar\":{\"outlinewidth\":0,\"ticks\":\"\"},\"colorscale\":[[0.0,\"#0d0887\"],[0.1111111111111111,\"#46039f\"],[0.2222222222222222,\"#7201a8\"],[0.3333333333333333,\"#9c179e\"],[0.4444444444444444,\"#bd3786\"],[0.5555555555555556,\"#d8576b\"],[0.6666666666666666,\"#ed7953\"],[0.7777777777777778,\"#fb9f3a\"],[0.8888888888888888,\"#fdca26\"],[1.0,\"#f0f921\"]]}],\"choropleth\":[{\"type\":\"choropleth\",\"colorbar\":{\"outlinewidth\":0,\"ticks\":\"\"}}],\"histogram2d\":[{\"type\":\"histogram2d\",\"colorbar\":{\"outlinewidth\":0,\"ticks\":\"\"},\"colorscale\":[[0.0,\"#0d0887\"],[0.1111111111111111,\"#46039f\"],[0.2222222222222222,\"#7201a8\"],[0.3333333333333333,\"#9c179e\"],[0.4444444444444444,\"#bd3786\"],[0.5555555555555556,\"#d8576b\"],[0.6666666666666666,\"#ed7953\"],[0.7777777777777778,\"#fb9f3a\"],[0.8888888888888888,\"#fdca26\"],[1.0,\"#f0f921\"]]}],\"heatmap\":[{\"type\":\"heatmap\",\"colorbar\":{\"outlinewidth\":0,\"ticks\":\"\"},\"colorscale\":[[0.0,\"#0d0887\"],[0.1111111111111111,\"#46039f\"],[0.2222222222222222,\"#7201a8\"],[0.3333333333333333,\"#9c179e\"],[0.4444444444444444,\"#bd3786\"],[0.5555555555555556,\"#d8576b\"],[0.6666666666666666,\"#ed7953\"],[0.7777777777777778,\"#fb9f3a\"],[0.8888888888888888,\"#fdca26\"],[1.0,\"#f0f921\"]]}],\"heatmapgl\":[{\"type\":\"heatmapgl\",\"colorbar\":{\"outlinewidth\":0,\"ticks\":\"\"},\"colorscale\":[[0.0,\"#0d0887\"],[0.1111111111111111,\"#46039f\"],[0.2222222222222222,\"#7201a8\"],[0.3333333333333333,\"#9c179e\"],[0.4444444444444444,\"#bd3786\"],[0.5555555555555556,\"#d8576b\"],[0.6666666666666666,\"#ed7953\"],[0.7777777777777778,\"#fb9f3a\"],[0.8888888888888888,\"#fdca26\"],[1.0,\"#f0f921\"]]}],\"contourcarpet\":[{\"type\":\"contourcarpet\",\"colorbar\":{\"outlinewidth\":0,\"ticks\":\"\"}}],\"contour\":[{\"type\":\"contour\",\"colorbar\":{\"outlinewidth\":0,\"ticks\":\"\"},\"colorscale\":[[0.0,\"#0d0887\"],[0.1111111111111111,\"#46039f\"],[0.2222222222222222,\"#7201a8\"],[0.3333333333333333,\"#9c179e\"],[0.4444444444444444,\"#bd3786\"],[0.5555555555555556,\"#d8576b\"],[0.6666666666666666,\"#ed7953\"],[0.7777777777777778,\"#fb9f3a\"],[0.8888888888888888,\"#fdca26\"],[1.0,\"#f0f921\"]]}],\"surface\":[{\"type\":\"surface\",\"colorbar\":{\"outlinewidth\":0,\"ticks\":\"\"},\"colorscale\":[[0.0,\"#0d0887\"],[0.1111111111111111,\"#46039f\"],[0.2222222222222222,\"#7201a8\"],[0.3333333333333333,\"#9c179e\"],[0.4444444444444444,\"#bd3786\"],[0.5555555555555556,\"#d8576b\"],[0.6666666666666666,\"#ed7953\"],[0.7777777777777778,\"#fb9f3a\"],[0.8888888888888888,\"#fdca26\"],[1.0,\"#f0f921\"]]}],\"mesh3d\":[{\"type\":\"mesh3d\",\"colorbar\":{\"outlinewidth\":0,\"ticks\":\"\"}}],\"scatter\":[{\"fillpattern\":{\"fillmode\":\"overlay\",\"size\":10,\"solidity\":0.2},\"type\":\"scatter\"}],\"parcoords\":[{\"type\":\"parcoords\",\"line\":{\"colorbar\":{\"outlinewidth\":0,\"ticks\":\"\"}}}],\"scatterpolargl\":[{\"type\":\"scatterpolargl\",\"marker\":{\"colorbar\":{\"outlinewidth\":0,\"ticks\":\"\"}}}],\"bar\":[{\"error_x\":{\"color\":\"#2a3f5f\"},\"error_y\":{\"color\":\"#2a3f5f\"},\"marker\":{\"line\":{\"color\":\"#E5ECF6\",\"width\":0.5},\"pattern\":{\"fillmode\":\"overlay\",\"size\":10,\"solidity\":0.2}},\"type\":\"bar\"}],\"scattergeo\":[{\"type\":\"scattergeo\",\"marker\":{\"colorbar\":{\"outlinewidth\":0,\"ticks\":\"\"}}}],\"scatterpolar\":[{\"type\":\"scatterpolar\",\"marker\":{\"colorbar\":{\"outlinewidth\":0,\"ticks\":\"\"}}}],\"histogram\":[{\"marker\":{\"pattern\":{\"fillmode\":\"overlay\",\"size\":10,\"solidity\":0.2}},\"type\":\"histogram\"}],\"scattergl\":[{\"type\":\"scattergl\",\"marker\":{\"colorbar\":{\"outlinewidth\":0,\"ticks\":\"\"}}}],\"scatter3d\":[{\"type\":\"scatter3d\",\"line\":{\"colorbar\":{\"outlinewidth\":0,\"ticks\":\"\"}},\"marker\":{\"colorbar\":{\"outlinewidth\":0,\"ticks\":\"\"}}}],\"scattermapbox\":[{\"type\":\"scattermapbox\",\"marker\":{\"colorbar\":{\"outlinewidth\":0,\"ticks\":\"\"}}}],\"scatterternary\":[{\"type\":\"scatterternary\",\"marker\":{\"colorbar\":{\"outlinewidth\":0,\"ticks\":\"\"}}}],\"scattercarpet\":[{\"type\":\"scattercarpet\",\"marker\":{\"colorbar\":{\"outlinewidth\":0,\"ticks\":\"\"}}}],\"carpet\":[{\"aaxis\":{\"endlinecolor\":\"#2a3f5f\",\"gridcolor\":\"white\",\"linecolor\":\"white\",\"minorgridcolor\":\"white\",\"startlinecolor\":\"#2a3f5f\"},\"baxis\":{\"endlinecolor\":\"#2a3f5f\",\"gridcolor\":\"white\",\"linecolor\":\"white\",\"minorgridcolor\":\"white\",\"startlinecolor\":\"#2a3f5f\"},\"type\":\"carpet\"}],\"table\":[{\"cells\":{\"fill\":{\"color\":\"#EBF0F8\"},\"line\":{\"color\":\"white\"}},\"header\":{\"fill\":{\"color\":\"#C8D4E3\"},\"line\":{\"color\":\"white\"}},\"type\":\"table\"}],\"barpolar\":[{\"marker\":{\"line\":{\"color\":\"#E5ECF6\",\"width\":0.5},\"pattern\":{\"fillmode\":\"overlay\",\"size\":10,\"solidity\":0.2}},\"type\":\"barpolar\"}],\"pie\":[{\"automargin\":true,\"type\":\"pie\"}]},\"layout\":{\"autotypenumbers\":\"strict\",\"colorway\":[\"#636efa\",\"#EF553B\",\"#00cc96\",\"#ab63fa\",\"#FFA15A\",\"#19d3f3\",\"#FF6692\",\"#B6E880\",\"#FF97FF\",\"#FECB52\"],\"font\":{\"color\":\"#2a3f5f\"},\"hovermode\":\"closest\",\"hoverlabel\":{\"align\":\"left\"},\"paper_bgcolor\":\"white\",\"plot_bgcolor\":\"#E5ECF6\",\"polar\":{\"bgcolor\":\"#E5ECF6\",\"angularaxis\":{\"gridcolor\":\"white\",\"linecolor\":\"white\",\"ticks\":\"\"},\"radialaxis\":{\"gridcolor\":\"white\",\"linecolor\":\"white\",\"ticks\":\"\"}},\"ternary\":{\"bgcolor\":\"#E5ECF6\",\"aaxis\":{\"gridcolor\":\"white\",\"linecolor\":\"white\",\"ticks\":\"\"},\"baxis\":{\"gridcolor\":\"white\",\"linecolor\":\"white\",\"ticks\":\"\"},\"caxis\":{\"gridcolor\":\"white\",\"linecolor\":\"white\",\"ticks\":\"\"}},\"coloraxis\":{\"colorbar\":{\"outlinewidth\":0,\"ticks\":\"\"}},\"colorscale\":{\"sequential\":[[0.0,\"#0d0887\"],[0.1111111111111111,\"#46039f\"],[0.2222222222222222,\"#7201a8\"],[0.3333333333333333,\"#9c179e\"],[0.4444444444444444,\"#bd3786\"],[0.5555555555555556,\"#d8576b\"],[0.6666666666666666,\"#ed7953\"],[0.7777777777777778,\"#fb9f3a\"],[0.8888888888888888,\"#fdca26\"],[1.0,\"#f0f921\"]],\"sequentialminus\":[[0.0,\"#0d0887\"],[0.1111111111111111,\"#46039f\"],[0.2222222222222222,\"#7201a8\"],[0.3333333333333333,\"#9c179e\"],[0.4444444444444444,\"#bd3786\"],[0.5555555555555556,\"#d8576b\"],[0.6666666666666666,\"#ed7953\"],[0.7777777777777778,\"#fb9f3a\"],[0.8888888888888888,\"#fdca26\"],[1.0,\"#f0f921\"]],\"diverging\":[[0,\"#8e0152\"],[0.1,\"#c51b7d\"],[0.2,\"#de77ae\"],[0.3,\"#f1b6da\"],[0.4,\"#fde0ef\"],[0.5,\"#f7f7f7\"],[0.6,\"#e6f5d0\"],[0.7,\"#b8e186\"],[0.8,\"#7fbc41\"],[0.9,\"#4d9221\"],[1,\"#276419\"]]},\"xaxis\":{\"gridcolor\":\"white\",\"linecolor\":\"white\",\"ticks\":\"\",\"title\":{\"standoff\":15},\"zerolinecolor\":\"white\",\"automargin\":true,\"zerolinewidth\":2},\"yaxis\":{\"gridcolor\":\"white\",\"linecolor\":\"white\",\"ticks\":\"\",\"title\":{\"standoff\":15},\"zerolinecolor\":\"white\",\"automargin\":true,\"zerolinewidth\":2},\"scene\":{\"xaxis\":{\"backgroundcolor\":\"#E5ECF6\",\"gridcolor\":\"white\",\"linecolor\":\"white\",\"showbackground\":true,\"ticks\":\"\",\"zerolinecolor\":\"white\",\"gridwidth\":2},\"yaxis\":{\"backgroundcolor\":\"#E5ECF6\",\"gridcolor\":\"white\",\"linecolor\":\"white\",\"showbackground\":true,\"ticks\":\"\",\"zerolinecolor\":\"white\",\"gridwidth\":2},\"zaxis\":{\"backgroundcolor\":\"#E5ECF6\",\"gridcolor\":\"white\",\"linecolor\":\"white\",\"showbackground\":true,\"ticks\":\"\",\"zerolinecolor\":\"white\",\"gridwidth\":2}},\"shapedefaults\":{\"line\":{\"color\":\"#2a3f5f\"}},\"annotationdefaults\":{\"arrowcolor\":\"#2a3f5f\",\"arrowhead\":0,\"arrowwidth\":1},\"geo\":{\"bgcolor\":\"white\",\"landcolor\":\"#E5ECF6\",\"subunitcolor\":\"white\",\"showland\":true,\"showlakes\":true,\"lakecolor\":\"white\"},\"title\":{\"x\":0.05},\"mapbox\":{\"style\":\"light\"}}},\"xaxis\":{\"anchor\":\"y\",\"domain\":[0.0,1.0],\"title\":{\"text\":\"monthly_income\"},\"range\":[0,2000]},\"yaxis\":{\"anchor\":\"x\",\"domain\":[0.0,1.0],\"title\":{\"text\":\"count\"}},\"legend\":{\"tracegroupgap\":0},\"margin\":{\"t\":60},\"barmode\":\"relative\"},                        {\"responsive\": true}                    ).then(function(){\n",
       "                            \n",
       "var gd = document.getElementById('c9adc208-0b3c-4e40-b7b7-628e5debb54b');\n",
       "var x = new MutationObserver(function (mutations, observer) {{\n",
       "        var display = window.getComputedStyle(gd).display;\n",
       "        if (!display || display === 'none') {{\n",
       "            console.log([gd, 'removed!']);\n",
       "            Plotly.purge(gd);\n",
       "            observer.disconnect();\n",
       "        }}\n",
       "}});\n",
       "\n",
       "// Listen for the removal of the full notebook cells\n",
       "var notebookContainer = gd.closest('#notebook-container');\n",
       "if (notebookContainer) {{\n",
       "    x.observe(notebookContainer, {childList: true});\n",
       "}}\n",
       "\n",
       "// Listen for the clearing of the current output cell\n",
       "var outputEl = gd.closest('.output');\n",
       "if (outputEl) {{\n",
       "    x.observe(outputEl, {childList: true});\n",
       "}}\n",
       "\n",
       "                        })                };                });            </script>        </div>"
      ]
     },
     "metadata": {},
     "output_type": "display_data"
    }
   ],
   "source": [
    "import plotly.express as px\n",
    "\n",
    "# Remplacez \"monthly_income\" par le nom de la colonne contenant les données de revenu mensuel dans votre dataframe\n",
    "fig = px.histogram(df, x=\"monthly_income\", nbins=20, range_x=[0, 2000])\n",
    "\n",
    "# Afficher l'histogramme\n",
    "fig.show()\n",
    "\n"
   ]
  },
  {
   "cell_type": "code",
   "execution_count": 33,
   "id": "bd9b593c",
   "metadata": {},
   "outputs": [
    {
     "data": {
      "text/plain": [
       "tuition            4541.362360\n",
       "housing             707.755618\n",
       "food                254.876404\n",
       "transportation      124.471910\n",
       "books_supplies      171.165730\n",
       "entertainment        82.092697\n",
       "personal_care        60.207865\n",
       "technology          179.112360\n",
       "health_wellness     112.837079\n",
       "miscellaneous       107.030899\n",
       "dtype: float64"
      ]
     },
     "execution_count": 33,
     "metadata": {},
     "output_type": "execute_result"
    }
   ],
   "source": [
    "result_dispense_male = df[df[\"gender\"] == \"Male\"].iloc[:,7:17].mean()\n",
    "result_dispense_female = df[df[\"gender\"] == \"Female\"].iloc[:,7:17].mean()\n",
    "result_dispense_non_binary = df[df[\"gender\"] == \"Non-binary\"].iloc[:,7:17].mean()\n",
    "\n",
    "result_dispense_male"
   ]
  },
  {
   "cell_type": "code",
   "execution_count": 34,
   "id": "0c5d2ab7",
   "metadata": {},
   "outputs": [
    {
     "name": "stdout",
     "output_type": "stream",
     "text": [
      "<class 'pandas.core.series.Series'>\n"
     ]
    },
    {
     "data": {
      "text/html": [
       "<div>\n",
       "<style scoped>\n",
       "    .dataframe tbody tr th:only-of-type {\n",
       "        vertical-align: middle;\n",
       "    }\n",
       "\n",
       "    .dataframe tbody tr th {\n",
       "        vertical-align: top;\n",
       "    }\n",
       "\n",
       "    .dataframe thead th {\n",
       "        text-align: right;\n",
       "    }\n",
       "</style>\n",
       "<table border=\"1\" class=\"dataframe\">\n",
       "  <thead>\n",
       "    <tr style=\"text-align: right;\">\n",
       "      <th></th>\n",
       "      <th>male</th>\n",
       "    </tr>\n",
       "  </thead>\n",
       "  <tbody>\n",
       "    <tr>\n",
       "      <th>tuition</th>\n",
       "      <td>4541.362360</td>\n",
       "    </tr>\n",
       "    <tr>\n",
       "      <th>housing</th>\n",
       "      <td>707.755618</td>\n",
       "    </tr>\n",
       "    <tr>\n",
       "      <th>food</th>\n",
       "      <td>254.876404</td>\n",
       "    </tr>\n",
       "    <tr>\n",
       "      <th>transportation</th>\n",
       "      <td>124.471910</td>\n",
       "    </tr>\n",
       "    <tr>\n",
       "      <th>books_supplies</th>\n",
       "      <td>171.165730</td>\n",
       "    </tr>\n",
       "    <tr>\n",
       "      <th>entertainment</th>\n",
       "      <td>82.092697</td>\n",
       "    </tr>\n",
       "    <tr>\n",
       "      <th>personal_care</th>\n",
       "      <td>60.207865</td>\n",
       "    </tr>\n",
       "    <tr>\n",
       "      <th>technology</th>\n",
       "      <td>179.112360</td>\n",
       "    </tr>\n",
       "    <tr>\n",
       "      <th>health_wellness</th>\n",
       "      <td>112.837079</td>\n",
       "    </tr>\n",
       "    <tr>\n",
       "      <th>miscellaneous</th>\n",
       "      <td>107.030899</td>\n",
       "    </tr>\n",
       "  </tbody>\n",
       "</table>\n",
       "</div>"
      ],
      "text/plain": [
       "                        male\n",
       "tuition          4541.362360\n",
       "housing           707.755618\n",
       "food              254.876404\n",
       "transportation    124.471910\n",
       "books_supplies    171.165730\n",
       "entertainment      82.092697\n",
       "personal_care      60.207865\n",
       "technology        179.112360\n",
       "health_wellness   112.837079\n",
       "miscellaneous     107.030899"
      ]
     },
     "execution_count": 34,
     "metadata": {},
     "output_type": "execute_result"
    }
   ],
   "source": [
    "print(type(result_dispense_male))\n",
    "df_dispense_male = pd.DataFrame(result_dispense_male)\n",
    "df_dispense_female = pd.DataFrame(result_dispense_female)\n",
    "df_dispense_non_binary = pd.DataFrame(result_dispense_non_binary)\n",
    "df_dispense_male = df_dispense_male.rename(columns = {0 :\"male\"})\n",
    "df_dispense_female = df_dispense_female.rename(columns = {0 :\"female\"})\n",
    "df_dispense_non_binary = df_dispense_non_binary.rename(columns = {0 :\"non_binary\"})\n",
    "\n",
    "df_dispense_male"
   ]
  },
  {
   "cell_type": "code",
   "execution_count": 35,
   "id": "810502fc",
   "metadata": {},
   "outputs": [
    {
     "name": "stdout",
     "output_type": "stream",
     "text": [
      "                        male       female   non_binary\n",
      "tuition          4541.362360  4494.210526  4523.489097\n",
      "housing           707.755618   689.504644   689.517134\n",
      "food              254.876404   247.681115   255.155763\n",
      "transportation    124.471910   126.040248   123.408100\n",
      "books_supplies    171.165730   178.987616   174.495327\n",
      "entertainment      82.092697    85.433437    87.208723\n",
      "personal_care      60.207865    60.993808    60.947040\n",
      "technology        179.112360   172.266254   183.482866\n",
      "health_wellness   112.837079   114.804954   115.445483\n",
      "miscellaneous     107.030899   108.671827   111.233645\n"
     ]
    }
   ],
   "source": [
    "df_dispense_sexe = pd.merge(df_dispense_male, df_dispense_female, left_index = True, right_index= True)\n",
    "df_dispense_sexe = pd.merge(df_dispense_sexe, df_dispense_non_binary, left_index = True, right_index= True)\n",
    "print(df_dispense_sexe)"
   ]
  },
  {
   "cell_type": "code",
   "execution_count": 36,
   "id": "1c24f40b",
   "metadata": {},
   "outputs": [
    {
     "data": {
      "text/html": [
       "<div>\n",
       "<style scoped>\n",
       "    .dataframe tbody tr th:only-of-type {\n",
       "        vertical-align: middle;\n",
       "    }\n",
       "\n",
       "    .dataframe tbody tr th {\n",
       "        vertical-align: top;\n",
       "    }\n",
       "\n",
       "    .dataframe thead th {\n",
       "        text-align: right;\n",
       "    }\n",
       "</style>\n",
       "<table border=\"1\" class=\"dataframe\">\n",
       "  <thead>\n",
       "    <tr style=\"text-align: right;\">\n",
       "      <th></th>\n",
       "      <th>male</th>\n",
       "      <th>female</th>\n",
       "      <th>non_binary</th>\n",
       "      <th>sexe_who_spend_the_most</th>\n",
       "    </tr>\n",
       "  </thead>\n",
       "  <tbody>\n",
       "    <tr>\n",
       "      <th>tuition</th>\n",
       "      <td>4541.362360</td>\n",
       "      <td>4494.210526</td>\n",
       "      <td>4523.489097</td>\n",
       "      <td>male</td>\n",
       "    </tr>\n",
       "    <tr>\n",
       "      <th>housing</th>\n",
       "      <td>707.755618</td>\n",
       "      <td>689.504644</td>\n",
       "      <td>689.517134</td>\n",
       "      <td>male</td>\n",
       "    </tr>\n",
       "    <tr>\n",
       "      <th>food</th>\n",
       "      <td>254.876404</td>\n",
       "      <td>247.681115</td>\n",
       "      <td>255.155763</td>\n",
       "      <td>non_binary</td>\n",
       "    </tr>\n",
       "    <tr>\n",
       "      <th>transportation</th>\n",
       "      <td>124.471910</td>\n",
       "      <td>126.040248</td>\n",
       "      <td>123.408100</td>\n",
       "      <td>female</td>\n",
       "    </tr>\n",
       "    <tr>\n",
       "      <th>books_supplies</th>\n",
       "      <td>171.165730</td>\n",
       "      <td>178.987616</td>\n",
       "      <td>174.495327</td>\n",
       "      <td>female</td>\n",
       "    </tr>\n",
       "    <tr>\n",
       "      <th>entertainment</th>\n",
       "      <td>82.092697</td>\n",
       "      <td>85.433437</td>\n",
       "      <td>87.208723</td>\n",
       "      <td>non_binary</td>\n",
       "    </tr>\n",
       "    <tr>\n",
       "      <th>personal_care</th>\n",
       "      <td>60.207865</td>\n",
       "      <td>60.993808</td>\n",
       "      <td>60.947040</td>\n",
       "      <td>female</td>\n",
       "    </tr>\n",
       "    <tr>\n",
       "      <th>technology</th>\n",
       "      <td>179.112360</td>\n",
       "      <td>172.266254</td>\n",
       "      <td>183.482866</td>\n",
       "      <td>non_binary</td>\n",
       "    </tr>\n",
       "    <tr>\n",
       "      <th>health_wellness</th>\n",
       "      <td>112.837079</td>\n",
       "      <td>114.804954</td>\n",
       "      <td>115.445483</td>\n",
       "      <td>non_binary</td>\n",
       "    </tr>\n",
       "    <tr>\n",
       "      <th>miscellaneous</th>\n",
       "      <td>107.030899</td>\n",
       "      <td>108.671827</td>\n",
       "      <td>111.233645</td>\n",
       "      <td>non_binary</td>\n",
       "    </tr>\n",
       "  </tbody>\n",
       "</table>\n",
       "</div>"
      ],
      "text/plain": [
       "                        male       female   non_binary sexe_who_spend_the_most\n",
       "tuition          4541.362360  4494.210526  4523.489097                    male\n",
       "housing           707.755618   689.504644   689.517134                    male\n",
       "food              254.876404   247.681115   255.155763              non_binary\n",
       "transportation    124.471910   126.040248   123.408100                  female\n",
       "books_supplies    171.165730   178.987616   174.495327                  female\n",
       "entertainment      82.092697    85.433437    87.208723              non_binary\n",
       "personal_care      60.207865    60.993808    60.947040                  female\n",
       "technology        179.112360   172.266254   183.482866              non_binary\n",
       "health_wellness   112.837079   114.804954   115.445483              non_binary\n",
       "miscellaneous     107.030899   108.671827   111.233645              non_binary"
      ]
     },
     "execution_count": 36,
     "metadata": {},
     "output_type": "execute_result"
    }
   ],
   "source": [
    "df_dispense_sexe[\"sexe_who_spend_the_most\"] = df_dispense_sexe.idxmax(axis = 1)\n",
    "df_dispense_sexe"
   ]
  },
  {
   "cell_type": "code",
   "execution_count": 37,
   "id": "d5dd13cc",
   "metadata": {},
   "outputs": [
    {
     "data": {
      "text/plain": [
       "sexe_who_spend_the_most\n",
       "non_binary    5\n",
       "female        3\n",
       "male          2\n",
       "Name: count, dtype: int64"
      ]
     },
     "execution_count": 37,
     "metadata": {},
     "output_type": "execute_result"
    }
   ],
   "source": [
    "df_dispense_sexe.sexe_who_spend_the_most.value_counts()\n"
   ]
  },
  {
   "cell_type": "code",
   "execution_count": 40,
   "id": "b342be45",
   "metadata": {},
   "outputs": [
    {
     "data": {
      "application/vnd.plotly.v1+json": {
       "config": {
        "plotlyServerURL": "https://plot.ly"
       },
       "data": [
        {
         "hovertemplate": "gender=%{x}<br>money_saved=%{y}<extra></extra>",
         "legendgroup": "",
         "marker": {
          "color": "#636efa"
         },
         "name": "",
         "orientation": "v",
         "showlegend": false,
         "type": "funnel",
         "x": [
          "Non-binary",
          "Female",
          "Non-binary",
          "Female",
          "Female",
          "Non-binary",
          "Female",
          "Female",
          "Non-binary",
          "Female",
          "Male",
          "Male",
          "Male",
          "Female",
          "Non-binary",
          "Non-binary",
          "Female",
          "Female",
          "Female",
          "Female",
          "Male",
          "Male",
          "Non-binary",
          "Non-binary",
          "Female",
          "Female",
          "Male",
          "Female",
          "Non-binary",
          "Non-binary",
          "Non-binary",
          "Male",
          "Non-binary",
          "Female",
          "Male",
          "Male",
          "Male",
          "Non-binary",
          "Female",
          "Female",
          "Female",
          "Male",
          "Female",
          "Male",
          "Female",
          "Male",
          "Non-binary",
          "Male",
          "Male",
          "Female",
          "Female",
          "Non-binary",
          "Male",
          "Male",
          "Non-binary",
          "Female",
          "Non-binary",
          "Male",
          "Non-binary",
          "Female",
          "Male",
          "Female",
          "Female",
          "Non-binary",
          "Female",
          "Male",
          "Male",
          "Female",
          "Male",
          "Male",
          "Male",
          "Non-binary",
          "Non-binary",
          "Female",
          "Female",
          "Female",
          "Male",
          "Female",
          "Non-binary",
          "Non-binary",
          "Female",
          "Female",
          "Non-binary",
          "Male",
          "Female",
          "Non-binary",
          "Non-binary",
          "Female",
          "Female",
          "Male",
          "Non-binary",
          "Male",
          "Non-binary",
          "Male",
          "Female",
          "Female",
          "Male",
          "Non-binary",
          "Female",
          "Male",
          "Male",
          "Female",
          "Female",
          "Male",
          "Female",
          "Female",
          "Female",
          "Male",
          "Male",
          "Male",
          "Male",
          "Non-binary",
          "Female",
          "Female",
          "Male",
          "Male",
          "Female",
          "Non-binary",
          "Female",
          "Female",
          "Female",
          "Non-binary",
          "Non-binary",
          "Non-binary",
          "Male",
          "Female",
          "Male",
          "Male",
          "Non-binary",
          "Non-binary",
          "Non-binary",
          "Male",
          "Female",
          "Female",
          "Male",
          "Female",
          "Male",
          "Female",
          "Female",
          "Male",
          "Male",
          "Male",
          "Male",
          "Male",
          "Female",
          "Male",
          "Male",
          "Male",
          "Male",
          "Non-binary",
          "Non-binary",
          "Male",
          "Female",
          "Non-binary",
          "Female",
          "Female",
          "Female",
          "Male",
          "Male",
          "Female",
          "Female",
          "Non-binary",
          "Female",
          "Non-binary",
          "Female",
          "Non-binary",
          "Male",
          "Male",
          "Male",
          "Female",
          "Non-binary",
          "Female",
          "Non-binary",
          "Male",
          "Non-binary",
          "Male",
          "Female",
          "Male",
          "Non-binary",
          "Male",
          "Female",
          "Female",
          "Female",
          "Non-binary",
          "Female",
          "Female",
          "Female",
          "Male",
          "Non-binary",
          "Non-binary",
          "Male",
          "Non-binary",
          "Male",
          "Female",
          "Male",
          "Female",
          "Female",
          "Male",
          "Male",
          "Female",
          "Non-binary",
          "Female",
          "Male",
          "Female",
          "Female",
          "Female",
          "Non-binary",
          "Male",
          "Male",
          "Non-binary",
          "Non-binary",
          "Male",
          "Male",
          "Female",
          "Female",
          "Non-binary",
          "Male",
          "Female",
          "Female",
          "Non-binary",
          "Female",
          "Male",
          "Male",
          "Male",
          "Non-binary",
          "Male",
          "Non-binary",
          "Male",
          "Female",
          "Non-binary",
          "Female",
          "Male",
          "Female",
          "Female",
          "Non-binary",
          "Female",
          "Male",
          "Non-binary",
          "Male",
          "Male",
          "Female",
          "Non-binary",
          "Male",
          "Non-binary",
          "Female",
          "Male",
          "Non-binary",
          "Non-binary",
          "Non-binary",
          "Male",
          "Non-binary",
          "Female",
          "Female",
          "Male",
          "Non-binary",
          "Non-binary",
          "Non-binary",
          "Male",
          "Male",
          "Female",
          "Non-binary",
          "Male",
          "Male",
          "Male",
          "Male",
          "Female",
          "Male",
          "Female",
          "Non-binary",
          "Non-binary",
          "Female",
          "Male",
          "Non-binary",
          "Non-binary",
          "Non-binary",
          "Non-binary",
          "Non-binary",
          "Female",
          "Female",
          "Female",
          "Female",
          "Female",
          "Female",
          "Male",
          "Female",
          "Non-binary",
          "Female",
          "Male",
          "Non-binary",
          "Male",
          "Non-binary",
          "Female",
          "Female",
          "Female",
          "Male",
          "Male",
          "Female",
          "Male",
          "Non-binary",
          "Non-binary",
          "Non-binary",
          "Male",
          "Female",
          "Male",
          "Male",
          "Female",
          "Female",
          "Male",
          "Male",
          "Non-binary",
          "Non-binary",
          "Non-binary",
          "Male",
          "Male",
          "Female",
          "Non-binary",
          "Female",
          "Male",
          "Female",
          "Male",
          "Female",
          "Female",
          "Female",
          "Female",
          "Non-binary",
          "Female",
          "Non-binary",
          "Female",
          "Male",
          "Male",
          "Male",
          "Male",
          "Male",
          "Female",
          "Male",
          "Non-binary",
          "Female",
          "Female",
          "Non-binary",
          "Male",
          "Female",
          "Non-binary",
          "Female",
          "Male",
          "Non-binary",
          "Female",
          "Non-binary",
          "Male",
          "Male",
          "Non-binary",
          "Female",
          "Non-binary",
          "Female",
          "Female",
          "Male",
          "Non-binary",
          "Non-binary",
          "Male",
          "Non-binary",
          "Non-binary",
          "Non-binary",
          "Male",
          "Female",
          "Female",
          "Male",
          "Female",
          "Non-binary",
          "Female",
          "Female",
          "Female",
          "Non-binary",
          "Male",
          "Male",
          "Non-binary",
          "Female",
          "Non-binary",
          "Non-binary",
          "Female",
          "Male",
          "Female",
          "Female",
          "Non-binary",
          "Non-binary",
          "Female",
          "Non-binary",
          "Male",
          "Non-binary",
          "Non-binary",
          "Non-binary",
          "Female",
          "Male",
          "Non-binary",
          "Non-binary",
          "Female",
          "Female",
          "Female",
          "Male",
          "Female",
          "Female",
          "Male",
          "Non-binary",
          "Male",
          "Female",
          "Male",
          "Female",
          "Male",
          "Male",
          "Male",
          "Non-binary",
          "Male",
          "Male",
          "Female",
          "Male",
          "Male",
          "Male",
          "Female",
          "Male",
          "Female",
          "Non-binary",
          "Non-binary",
          "Non-binary",
          "Non-binary",
          "Male",
          "Non-binary",
          "Non-binary",
          "Female",
          "Female",
          "Female",
          "Non-binary",
          "Non-binary",
          "Female",
          "Female",
          "Male",
          "Female",
          "Female",
          "Female",
          "Non-binary",
          "Non-binary",
          "Male",
          "Male",
          "Non-binary",
          "Male",
          "Non-binary",
          "Non-binary",
          "Male",
          "Male",
          "Non-binary",
          "Non-binary",
          "Non-binary",
          "Male",
          "Male",
          "Non-binary",
          "Male",
          "Male",
          "Male",
          "Non-binary",
          "Non-binary",
          "Female",
          "Male",
          "Male",
          "Female",
          "Female",
          "Female",
          "Male",
          "Non-binary",
          "Female",
          "Female",
          "Female",
          "Male",
          "Non-binary",
          "Male",
          "Male",
          "Male",
          "Male",
          "Non-binary",
          "Female",
          "Female",
          "Non-binary",
          "Female",
          "Non-binary",
          "Male",
          "Female",
          "Male",
          "Non-binary",
          "Female",
          "Female",
          "Male",
          "Female",
          "Male",
          "Female",
          "Non-binary",
          "Female",
          "Non-binary",
          "Non-binary",
          "Female",
          "Non-binary",
          "Non-binary",
          "Female",
          "Female",
          "Male",
          "Female",
          "Male",
          "Female",
          "Non-binary",
          "Male",
          "Male",
          "Male",
          "Male",
          "Female",
          "Male",
          "Non-binary",
          "Non-binary",
          "Non-binary",
          "Female",
          "Male",
          "Male",
          "Female",
          "Male",
          "Male",
          "Female",
          "Non-binary",
          "Non-binary",
          "Non-binary",
          "Female",
          "Female",
          "Male",
          "Non-binary",
          "Female",
          "Non-binary",
          "Female",
          "Male",
          "Non-binary",
          "Non-binary",
          "Female",
          "Non-binary",
          "Non-binary",
          "Male",
          "Female",
          "Male",
          "Non-binary",
          "Male",
          "Non-binary",
          "Non-binary",
          "Female",
          "Male",
          "Male",
          "Non-binary",
          "Female",
          "Non-binary",
          "Non-binary",
          "Male",
          "Male",
          "Non-binary",
          "Non-binary",
          "Non-binary",
          "Male",
          "Female",
          "Female",
          "Non-binary",
          "Male",
          "Male",
          "Non-binary",
          "Male",
          "Male",
          "Non-binary",
          "Male",
          "Non-binary",
          "Male",
          "Male",
          "Female",
          "Male",
          "Male",
          "Non-binary",
          "Male",
          "Male",
          "Male",
          "Female",
          "Non-binary",
          "Male",
          "Male",
          "Non-binary",
          "Female",
          "Non-binary",
          "Male",
          "Male",
          "Female",
          "Male",
          "Non-binary",
          "Female",
          "Male",
          "Non-binary",
          "Non-binary",
          "Non-binary",
          "Non-binary",
          "Non-binary",
          "Female",
          "Non-binary",
          "Female",
          "Non-binary",
          "Male",
          "Female",
          "Female",
          "Female",
          "Male",
          "Non-binary",
          "Female",
          "Non-binary",
          "Non-binary",
          "Female",
          "Non-binary",
          "Non-binary",
          "Male",
          "Male",
          "Male",
          "Male",
          "Male",
          "Male",
          "Male",
          "Male",
          "Male",
          "Non-binary",
          "Non-binary",
          "Non-binary",
          "Male",
          "Male",
          "Male",
          "Non-binary",
          "Non-binary",
          "Male",
          "Male",
          "Non-binary",
          "Female",
          "Non-binary",
          "Male",
          "Female",
          "Male",
          "Male",
          "Female",
          "Non-binary",
          "Non-binary",
          "Male",
          "Female",
          "Female",
          "Non-binary",
          "Male",
          "Male",
          "Female",
          "Female",
          "Male",
          "Male",
          "Female",
          "Non-binary",
          "Non-binary",
          "Male",
          "Female",
          "Non-binary",
          "Non-binary",
          "Non-binary",
          "Male",
          "Male",
          "Non-binary",
          "Non-binary",
          "Male",
          "Male",
          "Non-binary",
          "Female",
          "Male",
          "Male",
          "Female",
          "Female",
          "Male",
          "Non-binary",
          "Male",
          "Male",
          "Non-binary",
          "Male",
          "Female",
          "Non-binary",
          "Female",
          "Non-binary",
          "Female",
          "Non-binary",
          "Female",
          "Male",
          "Male",
          "Female",
          "Male",
          "Male",
          "Male",
          "Female",
          "Male",
          "Female",
          "Female",
          "Non-binary",
          "Non-binary",
          "Non-binary",
          "Female",
          "Non-binary",
          "Non-binary",
          "Non-binary",
          "Male",
          "Non-binary",
          "Female",
          "Male",
          "Male",
          "Female",
          "Female",
          "Male",
          "Male",
          "Female",
          "Female",
          "Non-binary",
          "Female",
          "Male",
          "Non-binary",
          "Male",
          "Non-binary",
          "Female",
          "Female",
          "Male",
          "Male",
          "Non-binary",
          "Non-binary",
          "Female",
          "Male",
          "Male",
          "Male",
          "Male",
          "Non-binary",
          "Female",
          "Male",
          "Female",
          "Non-binary",
          "Non-binary",
          "Female",
          "Non-binary",
          "Female",
          "Male",
          "Male",
          "Male",
          "Non-binary",
          "Female",
          "Male",
          "Female",
          "Male",
          "Non-binary",
          "Non-binary",
          "Female",
          "Non-binary",
          "Non-binary",
          "Male",
          "Female",
          "Non-binary",
          "Non-binary",
          "Non-binary",
          "Female",
          "Female",
          "Male",
          "Non-binary",
          "Non-binary",
          "Non-binary",
          "Non-binary",
          "Non-binary",
          "Female",
          "Female",
          "Non-binary",
          "Non-binary",
          "Male",
          "Non-binary",
          "Male",
          "Female",
          "Non-binary",
          "Non-binary",
          "Male",
          "Male",
          "Male",
          "Non-binary",
          "Non-binary",
          "Male",
          "Non-binary",
          "Female",
          "Male",
          "Non-binary",
          "Non-binary",
          "Male",
          "Female",
          "Female",
          "Male",
          "Male",
          "Female",
          "Non-binary",
          "Male",
          "Non-binary",
          "Male",
          "Female",
          "Female",
          "Male",
          "Non-binary",
          "Male",
          "Non-binary",
          "Non-binary",
          "Non-binary",
          "Male",
          "Female",
          "Non-binary",
          "Male",
          "Male",
          "Non-binary",
          "Non-binary",
          "Male",
          "Female",
          "Male",
          "Non-binary",
          "Male",
          "Non-binary",
          "Female",
          "Male",
          "Female",
          "Non-binary",
          "Female",
          "Non-binary",
          "Male",
          "Non-binary",
          "Male",
          "Female",
          "Non-binary",
          "Non-binary",
          "Female",
          "Male",
          "Female",
          "Non-binary",
          "Non-binary",
          "Male",
          "Female",
          "Female",
          "Male",
          "Non-binary",
          "Non-binary",
          "Male",
          "Female",
          "Male",
          "Non-binary",
          "Non-binary",
          "Male",
          "Female",
          "Male",
          "Non-binary",
          "Female",
          "Non-binary",
          "Female",
          "Non-binary",
          "Female",
          "Non-binary",
          "Male",
          "Female",
          "Female",
          "Male",
          "Male",
          "Non-binary",
          "Male",
          "Male",
          "Male",
          "Female",
          "Male",
          "Non-binary",
          "Non-binary",
          "Male",
          "Female",
          "Female",
          "Male",
          "Non-binary",
          "Male",
          "Male",
          "Male",
          "Female",
          "Female",
          "Male",
          "Female",
          "Male",
          "Male",
          "Male",
          "Male",
          "Female",
          "Non-binary",
          "Non-binary",
          "Male",
          "Female",
          "Female",
          "Male",
          "Male",
          "Male",
          "Non-binary",
          "Non-binary",
          "Male",
          "Non-binary",
          "Male",
          "Male",
          "Male",
          "Non-binary",
          "Non-binary",
          "Male",
          "Male",
          "Non-binary",
          "Male",
          "Non-binary",
          "Male",
          "Female",
          "Male",
          "Male",
          "Female",
          "Female",
          "Female",
          "Female",
          "Non-binary",
          "Female",
          "Female",
          "Male",
          "Non-binary",
          "Non-binary",
          "Male",
          "Male",
          "Female",
          "Male",
          "Male",
          "Female",
          "Female",
          "Female",
          "Non-binary",
          "Non-binary",
          "Non-binary",
          "Female",
          "Male",
          "Female",
          "Non-binary",
          "Non-binary",
          "Non-binary",
          "Non-binary",
          "Female",
          "Female",
          "Non-binary",
          "Female",
          "Female",
          "Non-binary",
          "Female",
          "Male",
          "Female",
          "Non-binary",
          "Female",
          "Female",
          "Non-binary",
          "Female",
          "Male",
          "Non-binary",
          "Male",
          "Male",
          "Female",
          "Female",
          "Non-binary",
          "Male",
          "Female",
          "Male",
          "Male",
          "Non-binary",
          "Non-binary",
          "Male",
          "Non-binary",
          "Male",
          "Male",
          "Male",
          "Non-binary",
          "Female",
          "Non-binary",
          "Female",
          "Male",
          "Female",
          "Non-binary",
          "Male",
          "Female",
          "Female",
          "Male",
          "Non-binary",
          "Non-binary",
          "Female",
          "Female",
          "Non-binary",
          "Female",
          "Female",
          "Male",
          "Male",
          "Female",
          "Non-binary",
          "Non-binary",
          "Male",
          "Male",
          "Male",
          "Female",
          "Female",
          "Male",
          "Non-binary",
          "Non-binary"
         ],
         "xaxis": "x",
         "y": [
          -540,
          33,
          -97,
          -848,
          -609,
          -291,
          -482,
          -201,
          -232,
          -216,
          -295,
          -980,
          -557,
          327,
          57,
          -844,
          -573,
          669,
          -82,
          -444,
          399,
          -911,
          390,
          -721,
          -631,
          -581,
          -522,
          -428,
          155,
          -907,
          -244,
          29,
          -780,
          -385,
          130,
          -192,
          -43,
          -172,
          -568,
          -725,
          -959,
          -660,
          -44,
          -413,
          446,
          -439,
          -177,
          152,
          -481,
          -611,
          128,
          397,
          -381,
          719,
          -1117,
          -809,
          -265,
          -417,
          -1055,
          -194,
          763,
          -379,
          -842,
          577,
          62,
          -574,
          -439,
          -354,
          -536,
          -821,
          499,
          81,
          28,
          109,
          -352,
          198,
          50,
          -406,
          -832,
          -361,
          455,
          193,
          -303,
          -51,
          38,
          253,
          -607,
          -1147,
          -304,
          329,
          -136,
          -296,
          175,
          34,
          367,
          -120,
          428,
          -916,
          -370,
          -254,
          -627,
          -196,
          -775,
          -902,
          139,
          -533,
          -390,
          -1210,
          134,
          -707,
          -219,
          674,
          -1066,
          -1358,
          -165,
          -91,
          -335,
          -741,
          251,
          462,
          -644,
          566,
          -414,
          -584,
          -223,
          179,
          -235,
          -442,
          80,
          291,
          -1002,
          -527,
          400,
          747,
          -722,
          -703,
          61,
          -152,
          9,
          -727,
          -390,
          -298,
          -880,
          115,
          -763,
          81,
          479,
          -922,
          -937,
          188,
          -255,
          -764,
          -733,
          -87,
          492,
          381,
          -859,
          -882,
          -707,
          -515,
          94,
          -285,
          -685,
          500,
          -670,
          -643,
          -441,
          548,
          -1237,
          -153,
          -1086,
          -445,
          -720,
          -453,
          -327,
          -116,
          185,
          -460,
          -469,
          740,
          -42,
          29,
          -291,
          -453,
          -1113,
          510,
          -580,
          -1213,
          729,
          -539,
          478,
          -566,
          361,
          97,
          -409,
          -39,
          -395,
          -815,
          -766,
          -795,
          -59,
          214,
          -684,
          -844,
          -857,
          -591,
          -92,
          -423,
          -452,
          -542,
          29,
          89,
          445,
          -464,
          879,
          -682,
          547,
          -66,
          -525,
          -1194,
          31,
          -114,
          150,
          -673,
          -1008,
          69,
          -300,
          -1415,
          -101,
          -351,
          -1017,
          -318,
          -111,
          -257,
          -324,
          -837,
          -136,
          -771,
          -649,
          -731,
          440,
          -133,
          290,
          -719,
          123,
          -160,
          -150,
          -142,
          -139,
          138,
          -947,
          -282,
          482,
          572,
          -157,
          -952,
          -608,
          -581,
          -164,
          -822,
          -383,
          -925,
          -476,
          -640,
          -45,
          -438,
          628,
          -324,
          -373,
          47,
          752,
          626,
          -943,
          -16,
          -231,
          -56,
          417,
          28,
          391,
          -75,
          -982,
          165,
          -119,
          14,
          -179,
          -343,
          -1113,
          398,
          -245,
          -710,
          -985,
          -271,
          191,
          -919,
          -438,
          560,
          -110,
          -520,
          -305,
          -176,
          -656,
          -617,
          692,
          588,
          187,
          -685,
          -357,
          -42,
          -117,
          -197,
          -345,
          471,
          -1049,
          262,
          -1022,
          -765,
          -163,
          -24,
          -1366,
          293,
          346,
          -475,
          -398,
          -45,
          537,
          -1330,
          -350,
          140,
          527,
          -590,
          -639,
          -499,
          -376,
          610,
          -371,
          522,
          -281,
          -352,
          -177,
          -403,
          -405,
          508,
          -347,
          -981,
          -716,
          -171,
          86,
          -672,
          -637,
          -1094,
          -1185,
          483,
          -655,
          -441,
          -966,
          64,
          -833,
          -229,
          -436,
          -559,
          -442,
          154,
          -577,
          924,
          -365,
          -298,
          -281,
          -599,
          -607,
          -541,
          -281,
          211,
          -732,
          -302,
          -72,
          -41,
          -146,
          -535,
          406,
          183,
          -598,
          -432,
          -1183,
          -184,
          -393,
          -568,
          -232,
          -315,
          491,
          959,
          -1281,
          -110,
          715,
          -430,
          -917,
          -128,
          -710,
          -586,
          -754,
          -72,
          -395,
          -49,
          578,
          -367,
          444,
          613,
          -465,
          -1005,
          -147,
          630,
          359,
          -478,
          -73,
          482,
          391,
          -792,
          -14,
          737,
          -1195,
          -566,
          577,
          41,
          -576,
          -61,
          -1109,
          50,
          -638,
          -936,
          -405,
          -1220,
          -397,
          270,
          -595,
          -2,
          252,
          -277,
          604,
          -316,
          -729,
          123,
          -1146,
          144,
          -79,
          -330,
          -1095,
          244,
          -187,
          -866,
          -798,
          -584,
          -265,
          618,
          -169,
          -218,
          -94,
          700,
          346,
          -1148,
          -225,
          -176,
          -1009,
          -464,
          -205,
          -417,
          -722,
          -4,
          -527,
          -81,
          -821,
          595,
          633,
          -538,
          -744,
          -716,
          889,
          -175,
          -799,
          -8,
          2,
          52,
          14,
          -75,
          166,
          -188,
          -394,
          -386,
          -1060,
          -593,
          -231,
          -43,
          -697,
          -122,
          -9,
          -32,
          -26,
          -139,
          -1502,
          -323,
          -1225,
          138,
          -586,
          531,
          191,
          -339,
          -830,
          12,
          150,
          -922,
          146,
          78,
          -231,
          -146,
          -802,
          467,
          -540,
          -855,
          -1400,
          360,
          -176,
          -287,
          -85,
          -495,
          155,
          199,
          -770,
          -519,
          -582,
          186,
          -118,
          -706,
          -471,
          -164,
          114,
          847,
          -749,
          -449,
          81,
          -813,
          -1163,
          -175,
          -73,
          -587,
          -205,
          516,
          -749,
          -279,
          -790,
          -260,
          -1046,
          -1160,
          -506,
          -474,
          55,
          200,
          215,
          -672,
          -407,
          319,
          -228,
          683,
          593,
          488,
          -440,
          409,
          -55,
          -220,
          148,
          -220,
          -111,
          -189,
          512,
          -51,
          -509,
          -224,
          -1097,
          -547,
          213,
          101,
          -319,
          52,
          -129,
          -160,
          -29,
          -1148,
          -893,
          -442,
          256,
          -338,
          -709,
          -74,
          -173,
          -966,
          -726,
          -766,
          -628,
          138,
          -272,
          -745,
          -1319,
          101,
          274,
          -395,
          -350,
          686,
          -195,
          72,
          -89,
          -250,
          -1071,
          -332,
          -224,
          272,
          134,
          458,
          -662,
          -1129,
          -326,
          -349,
          -886,
          -1377,
          -245,
          -474,
          -674,
          -409,
          -55,
          -627,
          -463,
          -532,
          -640,
          -828,
          -889,
          120,
          -536,
          -788,
          -690,
          -586,
          -334,
          48,
          726,
          -702,
          449,
          -739,
          -167,
          -410,
          -469,
          -680,
          -431,
          30,
          237,
          -677,
          -313,
          515,
          -388,
          197,
          -477,
          -549,
          -499,
          -554,
          -529,
          -681,
          7,
          -1187,
          -25,
          -669,
          3,
          104,
          -218,
          602,
          159,
          -843,
          301,
          -139,
          288,
          -42,
          23,
          -170,
          137,
          312,
          326,
          49,
          -183,
          193,
          401,
          123,
          -62,
          -381,
          -1038,
          83,
          -440,
          -416,
          -350,
          -187,
          -101,
          -212,
          163,
          -642,
          -983,
          -281,
          -560,
          -764,
          -258,
          379,
          45,
          -554,
          -402,
          223,
          94,
          -590,
          -414,
          -225,
          35,
          -418,
          -893,
          447,
          -594,
          -134,
          244,
          671,
          424,
          -395,
          -10,
          -505,
          221,
          -1087,
          -943,
          -448,
          -940,
          -455,
          -652,
          -61,
          -900,
          699,
          701,
          194,
          -572,
          -356,
          -1252,
          226,
          -330,
          155,
          -168,
          757,
          -698,
          80,
          37,
          -368,
          -20,
          -188,
          369,
          -850,
          -608,
          -539,
          -455,
          -359,
          -589,
          512,
          -691,
          -91,
          153,
          -224,
          -109,
          -1262,
          -39,
          -830,
          561,
          -391,
          -632,
          -193,
          -1072,
          109,
          -275,
          77,
          -1332,
          -957,
          -1017,
          -238,
          -666,
          -1302,
          -13,
          -598,
          -655,
          -269,
          -872,
          -662,
          -334,
          -570,
          -811,
          -827,
          60,
          -512,
          -233,
          -533,
          -594,
          -917,
          -1178,
          185,
          -815,
          6,
          77,
          141,
          -368,
          131,
          -217,
          -651,
          -745,
          -912,
          301,
          338,
          -647,
          -627,
          -426,
          -376,
          227,
          -199,
          -372,
          -1004,
          725,
          337,
          -219,
          272,
          319,
          508,
          271,
          546,
          176,
          -678,
          -103,
          14,
          -336,
          -466,
          -481,
          -138,
          -497,
          -296,
          220,
          -963,
          -328,
          -586,
          -335,
          -527,
          34,
          -62,
          -213,
          -1086,
          -446,
          -151,
          -919,
          -253,
          -601,
          -1102,
          366,
          -1312,
          137,
          138,
          358,
          47,
          -122,
          -1174,
          -452,
          -940,
          -791,
          288,
          -239,
          -797,
          -1106,
          -115,
          70,
          -225,
          44,
          -208,
          -101,
          -598,
          405,
          -289,
          -101,
          -151,
          -493,
          -445,
          556,
          -432,
          -437,
          -1404,
          -23,
          486,
          278,
          -952,
          215,
          404,
          -833,
          263,
          -429,
          -339,
          225,
          -310,
          38,
          -901,
          -983,
          -637,
          -292,
          -644,
          655,
          -1407,
          -537,
          -229,
          -139,
          455,
          -724,
          -71,
          1034,
          537,
          -204,
          -737,
          -720,
          -607,
          -210,
          -567,
          782,
          -592,
          80,
          -616,
          -18,
          -578,
          516,
          119,
          -215,
          -199,
          103,
          -66,
          501,
          -626,
          -799,
          -255,
          -61,
          -180,
          -650,
          -167,
          -371,
          -863,
          -411,
          -250,
          -377,
          -283,
          -210,
          -1050,
          -328,
          40,
          230,
          125,
          -195,
          137,
          74,
          -26,
          -523,
          -806,
          -231,
          -923,
          -140,
          -349,
          124,
          -737,
          136,
          -27,
          -348,
          173,
          -739,
          -980,
          -576,
          -921,
          -688,
          -8,
          28,
          -138,
          -185,
          842,
          37,
          85,
          -459,
          -363,
          -1547,
          -786,
          -120,
          -1064,
          -490,
          172,
          55,
          28,
          335,
          -457,
          -368,
          -9,
          -8,
          127,
          494,
          94,
          -414,
          -160,
          305,
          -447,
          108,
          -800
         ],
         "yaxis": "y"
        }
       ],
       "layout": {
        "legend": {
         "tracegroupgap": 0
        },
        "margin": {
         "t": 60
        },
        "template": {
         "data": {
          "bar": [
           {
            "error_x": {
             "color": "#2a3f5f"
            },
            "error_y": {
             "color": "#2a3f5f"
            },
            "marker": {
             "line": {
              "color": "#E5ECF6",
              "width": 0.5
             },
             "pattern": {
              "fillmode": "overlay",
              "size": 10,
              "solidity": 0.2
             }
            },
            "type": "bar"
           }
          ],
          "barpolar": [
           {
            "marker": {
             "line": {
              "color": "#E5ECF6",
              "width": 0.5
             },
             "pattern": {
              "fillmode": "overlay",
              "size": 10,
              "solidity": 0.2
             }
            },
            "type": "barpolar"
           }
          ],
          "carpet": [
           {
            "aaxis": {
             "endlinecolor": "#2a3f5f",
             "gridcolor": "white",
             "linecolor": "white",
             "minorgridcolor": "white",
             "startlinecolor": "#2a3f5f"
            },
            "baxis": {
             "endlinecolor": "#2a3f5f",
             "gridcolor": "white",
             "linecolor": "white",
             "minorgridcolor": "white",
             "startlinecolor": "#2a3f5f"
            },
            "type": "carpet"
           }
          ],
          "choropleth": [
           {
            "colorbar": {
             "outlinewidth": 0,
             "ticks": ""
            },
            "type": "choropleth"
           }
          ],
          "contour": [
           {
            "colorbar": {
             "outlinewidth": 0,
             "ticks": ""
            },
            "colorscale": [
             [
              0,
              "#0d0887"
             ],
             [
              0.1111111111111111,
              "#46039f"
             ],
             [
              0.2222222222222222,
              "#7201a8"
             ],
             [
              0.3333333333333333,
              "#9c179e"
             ],
             [
              0.4444444444444444,
              "#bd3786"
             ],
             [
              0.5555555555555556,
              "#d8576b"
             ],
             [
              0.6666666666666666,
              "#ed7953"
             ],
             [
              0.7777777777777778,
              "#fb9f3a"
             ],
             [
              0.8888888888888888,
              "#fdca26"
             ],
             [
              1,
              "#f0f921"
             ]
            ],
            "type": "contour"
           }
          ],
          "contourcarpet": [
           {
            "colorbar": {
             "outlinewidth": 0,
             "ticks": ""
            },
            "type": "contourcarpet"
           }
          ],
          "heatmap": [
           {
            "colorbar": {
             "outlinewidth": 0,
             "ticks": ""
            },
            "colorscale": [
             [
              0,
              "#0d0887"
             ],
             [
              0.1111111111111111,
              "#46039f"
             ],
             [
              0.2222222222222222,
              "#7201a8"
             ],
             [
              0.3333333333333333,
              "#9c179e"
             ],
             [
              0.4444444444444444,
              "#bd3786"
             ],
             [
              0.5555555555555556,
              "#d8576b"
             ],
             [
              0.6666666666666666,
              "#ed7953"
             ],
             [
              0.7777777777777778,
              "#fb9f3a"
             ],
             [
              0.8888888888888888,
              "#fdca26"
             ],
             [
              1,
              "#f0f921"
             ]
            ],
            "type": "heatmap"
           }
          ],
          "heatmapgl": [
           {
            "colorbar": {
             "outlinewidth": 0,
             "ticks": ""
            },
            "colorscale": [
             [
              0,
              "#0d0887"
             ],
             [
              0.1111111111111111,
              "#46039f"
             ],
             [
              0.2222222222222222,
              "#7201a8"
             ],
             [
              0.3333333333333333,
              "#9c179e"
             ],
             [
              0.4444444444444444,
              "#bd3786"
             ],
             [
              0.5555555555555556,
              "#d8576b"
             ],
             [
              0.6666666666666666,
              "#ed7953"
             ],
             [
              0.7777777777777778,
              "#fb9f3a"
             ],
             [
              0.8888888888888888,
              "#fdca26"
             ],
             [
              1,
              "#f0f921"
             ]
            ],
            "type": "heatmapgl"
           }
          ],
          "histogram": [
           {
            "marker": {
             "pattern": {
              "fillmode": "overlay",
              "size": 10,
              "solidity": 0.2
             }
            },
            "type": "histogram"
           }
          ],
          "histogram2d": [
           {
            "colorbar": {
             "outlinewidth": 0,
             "ticks": ""
            },
            "colorscale": [
             [
              0,
              "#0d0887"
             ],
             [
              0.1111111111111111,
              "#46039f"
             ],
             [
              0.2222222222222222,
              "#7201a8"
             ],
             [
              0.3333333333333333,
              "#9c179e"
             ],
             [
              0.4444444444444444,
              "#bd3786"
             ],
             [
              0.5555555555555556,
              "#d8576b"
             ],
             [
              0.6666666666666666,
              "#ed7953"
             ],
             [
              0.7777777777777778,
              "#fb9f3a"
             ],
             [
              0.8888888888888888,
              "#fdca26"
             ],
             [
              1,
              "#f0f921"
             ]
            ],
            "type": "histogram2d"
           }
          ],
          "histogram2dcontour": [
           {
            "colorbar": {
             "outlinewidth": 0,
             "ticks": ""
            },
            "colorscale": [
             [
              0,
              "#0d0887"
             ],
             [
              0.1111111111111111,
              "#46039f"
             ],
             [
              0.2222222222222222,
              "#7201a8"
             ],
             [
              0.3333333333333333,
              "#9c179e"
             ],
             [
              0.4444444444444444,
              "#bd3786"
             ],
             [
              0.5555555555555556,
              "#d8576b"
             ],
             [
              0.6666666666666666,
              "#ed7953"
             ],
             [
              0.7777777777777778,
              "#fb9f3a"
             ],
             [
              0.8888888888888888,
              "#fdca26"
             ],
             [
              1,
              "#f0f921"
             ]
            ],
            "type": "histogram2dcontour"
           }
          ],
          "mesh3d": [
           {
            "colorbar": {
             "outlinewidth": 0,
             "ticks": ""
            },
            "type": "mesh3d"
           }
          ],
          "parcoords": [
           {
            "line": {
             "colorbar": {
              "outlinewidth": 0,
              "ticks": ""
             }
            },
            "type": "parcoords"
           }
          ],
          "pie": [
           {
            "automargin": true,
            "type": "pie"
           }
          ],
          "scatter": [
           {
            "fillpattern": {
             "fillmode": "overlay",
             "size": 10,
             "solidity": 0.2
            },
            "type": "scatter"
           }
          ],
          "scatter3d": [
           {
            "line": {
             "colorbar": {
              "outlinewidth": 0,
              "ticks": ""
             }
            },
            "marker": {
             "colorbar": {
              "outlinewidth": 0,
              "ticks": ""
             }
            },
            "type": "scatter3d"
           }
          ],
          "scattercarpet": [
           {
            "marker": {
             "colorbar": {
              "outlinewidth": 0,
              "ticks": ""
             }
            },
            "type": "scattercarpet"
           }
          ],
          "scattergeo": [
           {
            "marker": {
             "colorbar": {
              "outlinewidth": 0,
              "ticks": ""
             }
            },
            "type": "scattergeo"
           }
          ],
          "scattergl": [
           {
            "marker": {
             "colorbar": {
              "outlinewidth": 0,
              "ticks": ""
             }
            },
            "type": "scattergl"
           }
          ],
          "scattermapbox": [
           {
            "marker": {
             "colorbar": {
              "outlinewidth": 0,
              "ticks": ""
             }
            },
            "type": "scattermapbox"
           }
          ],
          "scatterpolar": [
           {
            "marker": {
             "colorbar": {
              "outlinewidth": 0,
              "ticks": ""
             }
            },
            "type": "scatterpolar"
           }
          ],
          "scatterpolargl": [
           {
            "marker": {
             "colorbar": {
              "outlinewidth": 0,
              "ticks": ""
             }
            },
            "type": "scatterpolargl"
           }
          ],
          "scatterternary": [
           {
            "marker": {
             "colorbar": {
              "outlinewidth": 0,
              "ticks": ""
             }
            },
            "type": "scatterternary"
           }
          ],
          "surface": [
           {
            "colorbar": {
             "outlinewidth": 0,
             "ticks": ""
            },
            "colorscale": [
             [
              0,
              "#0d0887"
             ],
             [
              0.1111111111111111,
              "#46039f"
             ],
             [
              0.2222222222222222,
              "#7201a8"
             ],
             [
              0.3333333333333333,
              "#9c179e"
             ],
             [
              0.4444444444444444,
              "#bd3786"
             ],
             [
              0.5555555555555556,
              "#d8576b"
             ],
             [
              0.6666666666666666,
              "#ed7953"
             ],
             [
              0.7777777777777778,
              "#fb9f3a"
             ],
             [
              0.8888888888888888,
              "#fdca26"
             ],
             [
              1,
              "#f0f921"
             ]
            ],
            "type": "surface"
           }
          ],
          "table": [
           {
            "cells": {
             "fill": {
              "color": "#EBF0F8"
             },
             "line": {
              "color": "white"
             }
            },
            "header": {
             "fill": {
              "color": "#C8D4E3"
             },
             "line": {
              "color": "white"
             }
            },
            "type": "table"
           }
          ]
         },
         "layout": {
          "annotationdefaults": {
           "arrowcolor": "#2a3f5f",
           "arrowhead": 0,
           "arrowwidth": 1
          },
          "autotypenumbers": "strict",
          "coloraxis": {
           "colorbar": {
            "outlinewidth": 0,
            "ticks": ""
           }
          },
          "colorscale": {
           "diverging": [
            [
             0,
             "#8e0152"
            ],
            [
             0.1,
             "#c51b7d"
            ],
            [
             0.2,
             "#de77ae"
            ],
            [
             0.3,
             "#f1b6da"
            ],
            [
             0.4,
             "#fde0ef"
            ],
            [
             0.5,
             "#f7f7f7"
            ],
            [
             0.6,
             "#e6f5d0"
            ],
            [
             0.7,
             "#b8e186"
            ],
            [
             0.8,
             "#7fbc41"
            ],
            [
             0.9,
             "#4d9221"
            ],
            [
             1,
             "#276419"
            ]
           ],
           "sequential": [
            [
             0,
             "#0d0887"
            ],
            [
             0.1111111111111111,
             "#46039f"
            ],
            [
             0.2222222222222222,
             "#7201a8"
            ],
            [
             0.3333333333333333,
             "#9c179e"
            ],
            [
             0.4444444444444444,
             "#bd3786"
            ],
            [
             0.5555555555555556,
             "#d8576b"
            ],
            [
             0.6666666666666666,
             "#ed7953"
            ],
            [
             0.7777777777777778,
             "#fb9f3a"
            ],
            [
             0.8888888888888888,
             "#fdca26"
            ],
            [
             1,
             "#f0f921"
            ]
           ],
           "sequentialminus": [
            [
             0,
             "#0d0887"
            ],
            [
             0.1111111111111111,
             "#46039f"
            ],
            [
             0.2222222222222222,
             "#7201a8"
            ],
            [
             0.3333333333333333,
             "#9c179e"
            ],
            [
             0.4444444444444444,
             "#bd3786"
            ],
            [
             0.5555555555555556,
             "#d8576b"
            ],
            [
             0.6666666666666666,
             "#ed7953"
            ],
            [
             0.7777777777777778,
             "#fb9f3a"
            ],
            [
             0.8888888888888888,
             "#fdca26"
            ],
            [
             1,
             "#f0f921"
            ]
           ]
          },
          "colorway": [
           "#636efa",
           "#EF553B",
           "#00cc96",
           "#ab63fa",
           "#FFA15A",
           "#19d3f3",
           "#FF6692",
           "#B6E880",
           "#FF97FF",
           "#FECB52"
          ],
          "font": {
           "color": "#2a3f5f"
          },
          "geo": {
           "bgcolor": "white",
           "lakecolor": "white",
           "landcolor": "#E5ECF6",
           "showlakes": true,
           "showland": true,
           "subunitcolor": "white"
          },
          "hoverlabel": {
           "align": "left"
          },
          "hovermode": "closest",
          "mapbox": {
           "style": "light"
          },
          "paper_bgcolor": "white",
          "plot_bgcolor": "#E5ECF6",
          "polar": {
           "angularaxis": {
            "gridcolor": "white",
            "linecolor": "white",
            "ticks": ""
           },
           "bgcolor": "#E5ECF6",
           "radialaxis": {
            "gridcolor": "white",
            "linecolor": "white",
            "ticks": ""
           }
          },
          "scene": {
           "xaxis": {
            "backgroundcolor": "#E5ECF6",
            "gridcolor": "white",
            "gridwidth": 2,
            "linecolor": "white",
            "showbackground": true,
            "ticks": "",
            "zerolinecolor": "white"
           },
           "yaxis": {
            "backgroundcolor": "#E5ECF6",
            "gridcolor": "white",
            "gridwidth": 2,
            "linecolor": "white",
            "showbackground": true,
            "ticks": "",
            "zerolinecolor": "white"
           },
           "zaxis": {
            "backgroundcolor": "#E5ECF6",
            "gridcolor": "white",
            "gridwidth": 2,
            "linecolor": "white",
            "showbackground": true,
            "ticks": "",
            "zerolinecolor": "white"
           }
          },
          "shapedefaults": {
           "line": {
            "color": "#2a3f5f"
           }
          },
          "ternary": {
           "aaxis": {
            "gridcolor": "white",
            "linecolor": "white",
            "ticks": ""
           },
           "baxis": {
            "gridcolor": "white",
            "linecolor": "white",
            "ticks": ""
           },
           "bgcolor": "#E5ECF6",
           "caxis": {
            "gridcolor": "white",
            "linecolor": "white",
            "ticks": ""
           }
          },
          "title": {
           "x": 0.05
          },
          "xaxis": {
           "automargin": true,
           "gridcolor": "white",
           "linecolor": "white",
           "ticks": "",
           "title": {
            "standoff": 15
           },
           "zerolinecolor": "white",
           "zerolinewidth": 2
          },
          "yaxis": {
           "automargin": true,
           "gridcolor": "white",
           "linecolor": "white",
           "ticks": "",
           "title": {
            "standoff": 15
           },
           "zerolinecolor": "white",
           "zerolinewidth": 2
          }
         }
        },
        "xaxis": {
         "anchor": "y",
         "domain": [
          0,
          1
         ],
         "title": {
          "text": "gender"
         }
        },
        "yaxis": {
         "anchor": "x",
         "domain": [
          0,
          1
         ],
         "title": {
          "text": "money_saved"
         }
        }
       }
      },
      "text/html": [
       "<div>                            <div id=\"ef9c2f94-ea48-4d61-a942-97fb4a267736\" class=\"plotly-graph-div\" style=\"height:525px; width:100%;\"></div>            <script type=\"text/javascript\">                require([\"plotly\"], function(Plotly) {                    window.PLOTLYENV=window.PLOTLYENV || {};                                    if (document.getElementById(\"ef9c2f94-ea48-4d61-a942-97fb4a267736\")) {                    Plotly.newPlot(                        \"ef9c2f94-ea48-4d61-a942-97fb4a267736\",                        [{\"hovertemplate\":\"gender=%{x}\\u003cbr\\u003emoney_saved=%{y}\\u003cextra\\u003e\\u003c\\u002fextra\\u003e\",\"legendgroup\":\"\",\"marker\":{\"color\":\"#636efa\"},\"name\":\"\",\"orientation\":\"v\",\"showlegend\":false,\"x\":[\"Non-binary\",\"Female\",\"Non-binary\",\"Female\",\"Female\",\"Non-binary\",\"Female\",\"Female\",\"Non-binary\",\"Female\",\"Male\",\"Male\",\"Male\",\"Female\",\"Non-binary\",\"Non-binary\",\"Female\",\"Female\",\"Female\",\"Female\",\"Male\",\"Male\",\"Non-binary\",\"Non-binary\",\"Female\",\"Female\",\"Male\",\"Female\",\"Non-binary\",\"Non-binary\",\"Non-binary\",\"Male\",\"Non-binary\",\"Female\",\"Male\",\"Male\",\"Male\",\"Non-binary\",\"Female\",\"Female\",\"Female\",\"Male\",\"Female\",\"Male\",\"Female\",\"Male\",\"Non-binary\",\"Male\",\"Male\",\"Female\",\"Female\",\"Non-binary\",\"Male\",\"Male\",\"Non-binary\",\"Female\",\"Non-binary\",\"Male\",\"Non-binary\",\"Female\",\"Male\",\"Female\",\"Female\",\"Non-binary\",\"Female\",\"Male\",\"Male\",\"Female\",\"Male\",\"Male\",\"Male\",\"Non-binary\",\"Non-binary\",\"Female\",\"Female\",\"Female\",\"Male\",\"Female\",\"Non-binary\",\"Non-binary\",\"Female\",\"Female\",\"Non-binary\",\"Male\",\"Female\",\"Non-binary\",\"Non-binary\",\"Female\",\"Female\",\"Male\",\"Non-binary\",\"Male\",\"Non-binary\",\"Male\",\"Female\",\"Female\",\"Male\",\"Non-binary\",\"Female\",\"Male\",\"Male\",\"Female\",\"Female\",\"Male\",\"Female\",\"Female\",\"Female\",\"Male\",\"Male\",\"Male\",\"Male\",\"Non-binary\",\"Female\",\"Female\",\"Male\",\"Male\",\"Female\",\"Non-binary\",\"Female\",\"Female\",\"Female\",\"Non-binary\",\"Non-binary\",\"Non-binary\",\"Male\",\"Female\",\"Male\",\"Male\",\"Non-binary\",\"Non-binary\",\"Non-binary\",\"Male\",\"Female\",\"Female\",\"Male\",\"Female\",\"Male\",\"Female\",\"Female\",\"Male\",\"Male\",\"Male\",\"Male\",\"Male\",\"Female\",\"Male\",\"Male\",\"Male\",\"Male\",\"Non-binary\",\"Non-binary\",\"Male\",\"Female\",\"Non-binary\",\"Female\",\"Female\",\"Female\",\"Male\",\"Male\",\"Female\",\"Female\",\"Non-binary\",\"Female\",\"Non-binary\",\"Female\",\"Non-binary\",\"Male\",\"Male\",\"Male\",\"Female\",\"Non-binary\",\"Female\",\"Non-binary\",\"Male\",\"Non-binary\",\"Male\",\"Female\",\"Male\",\"Non-binary\",\"Male\",\"Female\",\"Female\",\"Female\",\"Non-binary\",\"Female\",\"Female\",\"Female\",\"Male\",\"Non-binary\",\"Non-binary\",\"Male\",\"Non-binary\",\"Male\",\"Female\",\"Male\",\"Female\",\"Female\",\"Male\",\"Male\",\"Female\",\"Non-binary\",\"Female\",\"Male\",\"Female\",\"Female\",\"Female\",\"Non-binary\",\"Male\",\"Male\",\"Non-binary\",\"Non-binary\",\"Male\",\"Male\",\"Female\",\"Female\",\"Non-binary\",\"Male\",\"Female\",\"Female\",\"Non-binary\",\"Female\",\"Male\",\"Male\",\"Male\",\"Non-binary\",\"Male\",\"Non-binary\",\"Male\",\"Female\",\"Non-binary\",\"Female\",\"Male\",\"Female\",\"Female\",\"Non-binary\",\"Female\",\"Male\",\"Non-binary\",\"Male\",\"Male\",\"Female\",\"Non-binary\",\"Male\",\"Non-binary\",\"Female\",\"Male\",\"Non-binary\",\"Non-binary\",\"Non-binary\",\"Male\",\"Non-binary\",\"Female\",\"Female\",\"Male\",\"Non-binary\",\"Non-binary\",\"Non-binary\",\"Male\",\"Male\",\"Female\",\"Non-binary\",\"Male\",\"Male\",\"Male\",\"Male\",\"Female\",\"Male\",\"Female\",\"Non-binary\",\"Non-binary\",\"Female\",\"Male\",\"Non-binary\",\"Non-binary\",\"Non-binary\",\"Non-binary\",\"Non-binary\",\"Female\",\"Female\",\"Female\",\"Female\",\"Female\",\"Female\",\"Male\",\"Female\",\"Non-binary\",\"Female\",\"Male\",\"Non-binary\",\"Male\",\"Non-binary\",\"Female\",\"Female\",\"Female\",\"Male\",\"Male\",\"Female\",\"Male\",\"Non-binary\",\"Non-binary\",\"Non-binary\",\"Male\",\"Female\",\"Male\",\"Male\",\"Female\",\"Female\",\"Male\",\"Male\",\"Non-binary\",\"Non-binary\",\"Non-binary\",\"Male\",\"Male\",\"Female\",\"Non-binary\",\"Female\",\"Male\",\"Female\",\"Male\",\"Female\",\"Female\",\"Female\",\"Female\",\"Non-binary\",\"Female\",\"Non-binary\",\"Female\",\"Male\",\"Male\",\"Male\",\"Male\",\"Male\",\"Female\",\"Male\",\"Non-binary\",\"Female\",\"Female\",\"Non-binary\",\"Male\",\"Female\",\"Non-binary\",\"Female\",\"Male\",\"Non-binary\",\"Female\",\"Non-binary\",\"Male\",\"Male\",\"Non-binary\",\"Female\",\"Non-binary\",\"Female\",\"Female\",\"Male\",\"Non-binary\",\"Non-binary\",\"Male\",\"Non-binary\",\"Non-binary\",\"Non-binary\",\"Male\",\"Female\",\"Female\",\"Male\",\"Female\",\"Non-binary\",\"Female\",\"Female\",\"Female\",\"Non-binary\",\"Male\",\"Male\",\"Non-binary\",\"Female\",\"Non-binary\",\"Non-binary\",\"Female\",\"Male\",\"Female\",\"Female\",\"Non-binary\",\"Non-binary\",\"Female\",\"Non-binary\",\"Male\",\"Non-binary\",\"Non-binary\",\"Non-binary\",\"Female\",\"Male\",\"Non-binary\",\"Non-binary\",\"Female\",\"Female\",\"Female\",\"Male\",\"Female\",\"Female\",\"Male\",\"Non-binary\",\"Male\",\"Female\",\"Male\",\"Female\",\"Male\",\"Male\",\"Male\",\"Non-binary\",\"Male\",\"Male\",\"Female\",\"Male\",\"Male\",\"Male\",\"Female\",\"Male\",\"Female\",\"Non-binary\",\"Non-binary\",\"Non-binary\",\"Non-binary\",\"Male\",\"Non-binary\",\"Non-binary\",\"Female\",\"Female\",\"Female\",\"Non-binary\",\"Non-binary\",\"Female\",\"Female\",\"Male\",\"Female\",\"Female\",\"Female\",\"Non-binary\",\"Non-binary\",\"Male\",\"Male\",\"Non-binary\",\"Male\",\"Non-binary\",\"Non-binary\",\"Male\",\"Male\",\"Non-binary\",\"Non-binary\",\"Non-binary\",\"Male\",\"Male\",\"Non-binary\",\"Male\",\"Male\",\"Male\",\"Non-binary\",\"Non-binary\",\"Female\",\"Male\",\"Male\",\"Female\",\"Female\",\"Female\",\"Male\",\"Non-binary\",\"Female\",\"Female\",\"Female\",\"Male\",\"Non-binary\",\"Male\",\"Male\",\"Male\",\"Male\",\"Non-binary\",\"Female\",\"Female\",\"Non-binary\",\"Female\",\"Non-binary\",\"Male\",\"Female\",\"Male\",\"Non-binary\",\"Female\",\"Female\",\"Male\",\"Female\",\"Male\",\"Female\",\"Non-binary\",\"Female\",\"Non-binary\",\"Non-binary\",\"Female\",\"Non-binary\",\"Non-binary\",\"Female\",\"Female\",\"Male\",\"Female\",\"Male\",\"Female\",\"Non-binary\",\"Male\",\"Male\",\"Male\",\"Male\",\"Female\",\"Male\",\"Non-binary\",\"Non-binary\",\"Non-binary\",\"Female\",\"Male\",\"Male\",\"Female\",\"Male\",\"Male\",\"Female\",\"Non-binary\",\"Non-binary\",\"Non-binary\",\"Female\",\"Female\",\"Male\",\"Non-binary\",\"Female\",\"Non-binary\",\"Female\",\"Male\",\"Non-binary\",\"Non-binary\",\"Female\",\"Non-binary\",\"Non-binary\",\"Male\",\"Female\",\"Male\",\"Non-binary\",\"Male\",\"Non-binary\",\"Non-binary\",\"Female\",\"Male\",\"Male\",\"Non-binary\",\"Female\",\"Non-binary\",\"Non-binary\",\"Male\",\"Male\",\"Non-binary\",\"Non-binary\",\"Non-binary\",\"Male\",\"Female\",\"Female\",\"Non-binary\",\"Male\",\"Male\",\"Non-binary\",\"Male\",\"Male\",\"Non-binary\",\"Male\",\"Non-binary\",\"Male\",\"Male\",\"Female\",\"Male\",\"Male\",\"Non-binary\",\"Male\",\"Male\",\"Male\",\"Female\",\"Non-binary\",\"Male\",\"Male\",\"Non-binary\",\"Female\",\"Non-binary\",\"Male\",\"Male\",\"Female\",\"Male\",\"Non-binary\",\"Female\",\"Male\",\"Non-binary\",\"Non-binary\",\"Non-binary\",\"Non-binary\",\"Non-binary\",\"Female\",\"Non-binary\",\"Female\",\"Non-binary\",\"Male\",\"Female\",\"Female\",\"Female\",\"Male\",\"Non-binary\",\"Female\",\"Non-binary\",\"Non-binary\",\"Female\",\"Non-binary\",\"Non-binary\",\"Male\",\"Male\",\"Male\",\"Male\",\"Male\",\"Male\",\"Male\",\"Male\",\"Male\",\"Non-binary\",\"Non-binary\",\"Non-binary\",\"Male\",\"Male\",\"Male\",\"Non-binary\",\"Non-binary\",\"Male\",\"Male\",\"Non-binary\",\"Female\",\"Non-binary\",\"Male\",\"Female\",\"Male\",\"Male\",\"Female\",\"Non-binary\",\"Non-binary\",\"Male\",\"Female\",\"Female\",\"Non-binary\",\"Male\",\"Male\",\"Female\",\"Female\",\"Male\",\"Male\",\"Female\",\"Non-binary\",\"Non-binary\",\"Male\",\"Female\",\"Non-binary\",\"Non-binary\",\"Non-binary\",\"Male\",\"Male\",\"Non-binary\",\"Non-binary\",\"Male\",\"Male\",\"Non-binary\",\"Female\",\"Male\",\"Male\",\"Female\",\"Female\",\"Male\",\"Non-binary\",\"Male\",\"Male\",\"Non-binary\",\"Male\",\"Female\",\"Non-binary\",\"Female\",\"Non-binary\",\"Female\",\"Non-binary\",\"Female\",\"Male\",\"Male\",\"Female\",\"Male\",\"Male\",\"Male\",\"Female\",\"Male\",\"Female\",\"Female\",\"Non-binary\",\"Non-binary\",\"Non-binary\",\"Female\",\"Non-binary\",\"Non-binary\",\"Non-binary\",\"Male\",\"Non-binary\",\"Female\",\"Male\",\"Male\",\"Female\",\"Female\",\"Male\",\"Male\",\"Female\",\"Female\",\"Non-binary\",\"Female\",\"Male\",\"Non-binary\",\"Male\",\"Non-binary\",\"Female\",\"Female\",\"Male\",\"Male\",\"Non-binary\",\"Non-binary\",\"Female\",\"Male\",\"Male\",\"Male\",\"Male\",\"Non-binary\",\"Female\",\"Male\",\"Female\",\"Non-binary\",\"Non-binary\",\"Female\",\"Non-binary\",\"Female\",\"Male\",\"Male\",\"Male\",\"Non-binary\",\"Female\",\"Male\",\"Female\",\"Male\",\"Non-binary\",\"Non-binary\",\"Female\",\"Non-binary\",\"Non-binary\",\"Male\",\"Female\",\"Non-binary\",\"Non-binary\",\"Non-binary\",\"Female\",\"Female\",\"Male\",\"Non-binary\",\"Non-binary\",\"Non-binary\",\"Non-binary\",\"Non-binary\",\"Female\",\"Female\",\"Non-binary\",\"Non-binary\",\"Male\",\"Non-binary\",\"Male\",\"Female\",\"Non-binary\",\"Non-binary\",\"Male\",\"Male\",\"Male\",\"Non-binary\",\"Non-binary\",\"Male\",\"Non-binary\",\"Female\",\"Male\",\"Non-binary\",\"Non-binary\",\"Male\",\"Female\",\"Female\",\"Male\",\"Male\",\"Female\",\"Non-binary\",\"Male\",\"Non-binary\",\"Male\",\"Female\",\"Female\",\"Male\",\"Non-binary\",\"Male\",\"Non-binary\",\"Non-binary\",\"Non-binary\",\"Male\",\"Female\",\"Non-binary\",\"Male\",\"Male\",\"Non-binary\",\"Non-binary\",\"Male\",\"Female\",\"Male\",\"Non-binary\",\"Male\",\"Non-binary\",\"Female\",\"Male\",\"Female\",\"Non-binary\",\"Female\",\"Non-binary\",\"Male\",\"Non-binary\",\"Male\",\"Female\",\"Non-binary\",\"Non-binary\",\"Female\",\"Male\",\"Female\",\"Non-binary\",\"Non-binary\",\"Male\",\"Female\",\"Female\",\"Male\",\"Non-binary\",\"Non-binary\",\"Male\",\"Female\",\"Male\",\"Non-binary\",\"Non-binary\",\"Male\",\"Female\",\"Male\",\"Non-binary\",\"Female\",\"Non-binary\",\"Female\",\"Non-binary\",\"Female\",\"Non-binary\",\"Male\",\"Female\",\"Female\",\"Male\",\"Male\",\"Non-binary\",\"Male\",\"Male\",\"Male\",\"Female\",\"Male\",\"Non-binary\",\"Non-binary\",\"Male\",\"Female\",\"Female\",\"Male\",\"Non-binary\",\"Male\",\"Male\",\"Male\",\"Female\",\"Female\",\"Male\",\"Female\",\"Male\",\"Male\",\"Male\",\"Male\",\"Female\",\"Non-binary\",\"Non-binary\",\"Male\",\"Female\",\"Female\",\"Male\",\"Male\",\"Male\",\"Non-binary\",\"Non-binary\",\"Male\",\"Non-binary\",\"Male\",\"Male\",\"Male\",\"Non-binary\",\"Non-binary\",\"Male\",\"Male\",\"Non-binary\",\"Male\",\"Non-binary\",\"Male\",\"Female\",\"Male\",\"Male\",\"Female\",\"Female\",\"Female\",\"Female\",\"Non-binary\",\"Female\",\"Female\",\"Male\",\"Non-binary\",\"Non-binary\",\"Male\",\"Male\",\"Female\",\"Male\",\"Male\",\"Female\",\"Female\",\"Female\",\"Non-binary\",\"Non-binary\",\"Non-binary\",\"Female\",\"Male\",\"Female\",\"Non-binary\",\"Non-binary\",\"Non-binary\",\"Non-binary\",\"Female\",\"Female\",\"Non-binary\",\"Female\",\"Female\",\"Non-binary\",\"Female\",\"Male\",\"Female\",\"Non-binary\",\"Female\",\"Female\",\"Non-binary\",\"Female\",\"Male\",\"Non-binary\",\"Male\",\"Male\",\"Female\",\"Female\",\"Non-binary\",\"Male\",\"Female\",\"Male\",\"Male\",\"Non-binary\",\"Non-binary\",\"Male\",\"Non-binary\",\"Male\",\"Male\",\"Male\",\"Non-binary\",\"Female\",\"Non-binary\",\"Female\",\"Male\",\"Female\",\"Non-binary\",\"Male\",\"Female\",\"Female\",\"Male\",\"Non-binary\",\"Non-binary\",\"Female\",\"Female\",\"Non-binary\",\"Female\",\"Female\",\"Male\",\"Male\",\"Female\",\"Non-binary\",\"Non-binary\",\"Male\",\"Male\",\"Male\",\"Female\",\"Female\",\"Male\",\"Non-binary\",\"Non-binary\"],\"xaxis\":\"x\",\"y\":[-540,33,-97,-848,-609,-291,-482,-201,-232,-216,-295,-980,-557,327,57,-844,-573,669,-82,-444,399,-911,390,-721,-631,-581,-522,-428,155,-907,-244,29,-780,-385,130,-192,-43,-172,-568,-725,-959,-660,-44,-413,446,-439,-177,152,-481,-611,128,397,-381,719,-1117,-809,-265,-417,-1055,-194,763,-379,-842,577,62,-574,-439,-354,-536,-821,499,81,28,109,-352,198,50,-406,-832,-361,455,193,-303,-51,38,253,-607,-1147,-304,329,-136,-296,175,34,367,-120,428,-916,-370,-254,-627,-196,-775,-902,139,-533,-390,-1210,134,-707,-219,674,-1066,-1358,-165,-91,-335,-741,251,462,-644,566,-414,-584,-223,179,-235,-442,80,291,-1002,-527,400,747,-722,-703,61,-152,9,-727,-390,-298,-880,115,-763,81,479,-922,-937,188,-255,-764,-733,-87,492,381,-859,-882,-707,-515,94,-285,-685,500,-670,-643,-441,548,-1237,-153,-1086,-445,-720,-453,-327,-116,185,-460,-469,740,-42,29,-291,-453,-1113,510,-580,-1213,729,-539,478,-566,361,97,-409,-39,-395,-815,-766,-795,-59,214,-684,-844,-857,-591,-92,-423,-452,-542,29,89,445,-464,879,-682,547,-66,-525,-1194,31,-114,150,-673,-1008,69,-300,-1415,-101,-351,-1017,-318,-111,-257,-324,-837,-136,-771,-649,-731,440,-133,290,-719,123,-160,-150,-142,-139,138,-947,-282,482,572,-157,-952,-608,-581,-164,-822,-383,-925,-476,-640,-45,-438,628,-324,-373,47,752,626,-943,-16,-231,-56,417,28,391,-75,-982,165,-119,14,-179,-343,-1113,398,-245,-710,-985,-271,191,-919,-438,560,-110,-520,-305,-176,-656,-617,692,588,187,-685,-357,-42,-117,-197,-345,471,-1049,262,-1022,-765,-163,-24,-1366,293,346,-475,-398,-45,537,-1330,-350,140,527,-590,-639,-499,-376,610,-371,522,-281,-352,-177,-403,-405,508,-347,-981,-716,-171,86,-672,-637,-1094,-1185,483,-655,-441,-966,64,-833,-229,-436,-559,-442,154,-577,924,-365,-298,-281,-599,-607,-541,-281,211,-732,-302,-72,-41,-146,-535,406,183,-598,-432,-1183,-184,-393,-568,-232,-315,491,959,-1281,-110,715,-430,-917,-128,-710,-586,-754,-72,-395,-49,578,-367,444,613,-465,-1005,-147,630,359,-478,-73,482,391,-792,-14,737,-1195,-566,577,41,-576,-61,-1109,50,-638,-936,-405,-1220,-397,270,-595,-2,252,-277,604,-316,-729,123,-1146,144,-79,-330,-1095,244,-187,-866,-798,-584,-265,618,-169,-218,-94,700,346,-1148,-225,-176,-1009,-464,-205,-417,-722,-4,-527,-81,-821,595,633,-538,-744,-716,889,-175,-799,-8,2,52,14,-75,166,-188,-394,-386,-1060,-593,-231,-43,-697,-122,-9,-32,-26,-139,-1502,-323,-1225,138,-586,531,191,-339,-830,12,150,-922,146,78,-231,-146,-802,467,-540,-855,-1400,360,-176,-287,-85,-495,155,199,-770,-519,-582,186,-118,-706,-471,-164,114,847,-749,-449,81,-813,-1163,-175,-73,-587,-205,516,-749,-279,-790,-260,-1046,-1160,-506,-474,55,200,215,-672,-407,319,-228,683,593,488,-440,409,-55,-220,148,-220,-111,-189,512,-51,-509,-224,-1097,-547,213,101,-319,52,-129,-160,-29,-1148,-893,-442,256,-338,-709,-74,-173,-966,-726,-766,-628,138,-272,-745,-1319,101,274,-395,-350,686,-195,72,-89,-250,-1071,-332,-224,272,134,458,-662,-1129,-326,-349,-886,-1377,-245,-474,-674,-409,-55,-627,-463,-532,-640,-828,-889,120,-536,-788,-690,-586,-334,48,726,-702,449,-739,-167,-410,-469,-680,-431,30,237,-677,-313,515,-388,197,-477,-549,-499,-554,-529,-681,7,-1187,-25,-669,3,104,-218,602,159,-843,301,-139,288,-42,23,-170,137,312,326,49,-183,193,401,123,-62,-381,-1038,83,-440,-416,-350,-187,-101,-212,163,-642,-983,-281,-560,-764,-258,379,45,-554,-402,223,94,-590,-414,-225,35,-418,-893,447,-594,-134,244,671,424,-395,-10,-505,221,-1087,-943,-448,-940,-455,-652,-61,-900,699,701,194,-572,-356,-1252,226,-330,155,-168,757,-698,80,37,-368,-20,-188,369,-850,-608,-539,-455,-359,-589,512,-691,-91,153,-224,-109,-1262,-39,-830,561,-391,-632,-193,-1072,109,-275,77,-1332,-957,-1017,-238,-666,-1302,-13,-598,-655,-269,-872,-662,-334,-570,-811,-827,60,-512,-233,-533,-594,-917,-1178,185,-815,6,77,141,-368,131,-217,-651,-745,-912,301,338,-647,-627,-426,-376,227,-199,-372,-1004,725,337,-219,272,319,508,271,546,176,-678,-103,14,-336,-466,-481,-138,-497,-296,220,-963,-328,-586,-335,-527,34,-62,-213,-1086,-446,-151,-919,-253,-601,-1102,366,-1312,137,138,358,47,-122,-1174,-452,-940,-791,288,-239,-797,-1106,-115,70,-225,44,-208,-101,-598,405,-289,-101,-151,-493,-445,556,-432,-437,-1404,-23,486,278,-952,215,404,-833,263,-429,-339,225,-310,38,-901,-983,-637,-292,-644,655,-1407,-537,-229,-139,455,-724,-71,1034,537,-204,-737,-720,-607,-210,-567,782,-592,80,-616,-18,-578,516,119,-215,-199,103,-66,501,-626,-799,-255,-61,-180,-650,-167,-371,-863,-411,-250,-377,-283,-210,-1050,-328,40,230,125,-195,137,74,-26,-523,-806,-231,-923,-140,-349,124,-737,136,-27,-348,173,-739,-980,-576,-921,-688,-8,28,-138,-185,842,37,85,-459,-363,-1547,-786,-120,-1064,-490,172,55,28,335,-457,-368,-9,-8,127,494,94,-414,-160,305,-447,108,-800],\"yaxis\":\"y\",\"type\":\"funnel\"}],                        {\"template\":{\"data\":{\"histogram2dcontour\":[{\"type\":\"histogram2dcontour\",\"colorbar\":{\"outlinewidth\":0,\"ticks\":\"\"},\"colorscale\":[[0.0,\"#0d0887\"],[0.1111111111111111,\"#46039f\"],[0.2222222222222222,\"#7201a8\"],[0.3333333333333333,\"#9c179e\"],[0.4444444444444444,\"#bd3786\"],[0.5555555555555556,\"#d8576b\"],[0.6666666666666666,\"#ed7953\"],[0.7777777777777778,\"#fb9f3a\"],[0.8888888888888888,\"#fdca26\"],[1.0,\"#f0f921\"]]}],\"choropleth\":[{\"type\":\"choropleth\",\"colorbar\":{\"outlinewidth\":0,\"ticks\":\"\"}}],\"histogram2d\":[{\"type\":\"histogram2d\",\"colorbar\":{\"outlinewidth\":0,\"ticks\":\"\"},\"colorscale\":[[0.0,\"#0d0887\"],[0.1111111111111111,\"#46039f\"],[0.2222222222222222,\"#7201a8\"],[0.3333333333333333,\"#9c179e\"],[0.4444444444444444,\"#bd3786\"],[0.5555555555555556,\"#d8576b\"],[0.6666666666666666,\"#ed7953\"],[0.7777777777777778,\"#fb9f3a\"],[0.8888888888888888,\"#fdca26\"],[1.0,\"#f0f921\"]]}],\"heatmap\":[{\"type\":\"heatmap\",\"colorbar\":{\"outlinewidth\":0,\"ticks\":\"\"},\"colorscale\":[[0.0,\"#0d0887\"],[0.1111111111111111,\"#46039f\"],[0.2222222222222222,\"#7201a8\"],[0.3333333333333333,\"#9c179e\"],[0.4444444444444444,\"#bd3786\"],[0.5555555555555556,\"#d8576b\"],[0.6666666666666666,\"#ed7953\"],[0.7777777777777778,\"#fb9f3a\"],[0.8888888888888888,\"#fdca26\"],[1.0,\"#f0f921\"]]}],\"heatmapgl\":[{\"type\":\"heatmapgl\",\"colorbar\":{\"outlinewidth\":0,\"ticks\":\"\"},\"colorscale\":[[0.0,\"#0d0887\"],[0.1111111111111111,\"#46039f\"],[0.2222222222222222,\"#7201a8\"],[0.3333333333333333,\"#9c179e\"],[0.4444444444444444,\"#bd3786\"],[0.5555555555555556,\"#d8576b\"],[0.6666666666666666,\"#ed7953\"],[0.7777777777777778,\"#fb9f3a\"],[0.8888888888888888,\"#fdca26\"],[1.0,\"#f0f921\"]]}],\"contourcarpet\":[{\"type\":\"contourcarpet\",\"colorbar\":{\"outlinewidth\":0,\"ticks\":\"\"}}],\"contour\":[{\"type\":\"contour\",\"colorbar\":{\"outlinewidth\":0,\"ticks\":\"\"},\"colorscale\":[[0.0,\"#0d0887\"],[0.1111111111111111,\"#46039f\"],[0.2222222222222222,\"#7201a8\"],[0.3333333333333333,\"#9c179e\"],[0.4444444444444444,\"#bd3786\"],[0.5555555555555556,\"#d8576b\"],[0.6666666666666666,\"#ed7953\"],[0.7777777777777778,\"#fb9f3a\"],[0.8888888888888888,\"#fdca26\"],[1.0,\"#f0f921\"]]}],\"surface\":[{\"type\":\"surface\",\"colorbar\":{\"outlinewidth\":0,\"ticks\":\"\"},\"colorscale\":[[0.0,\"#0d0887\"],[0.1111111111111111,\"#46039f\"],[0.2222222222222222,\"#7201a8\"],[0.3333333333333333,\"#9c179e\"],[0.4444444444444444,\"#bd3786\"],[0.5555555555555556,\"#d8576b\"],[0.6666666666666666,\"#ed7953\"],[0.7777777777777778,\"#fb9f3a\"],[0.8888888888888888,\"#fdca26\"],[1.0,\"#f0f921\"]]}],\"mesh3d\":[{\"type\":\"mesh3d\",\"colorbar\":{\"outlinewidth\":0,\"ticks\":\"\"}}],\"scatter\":[{\"fillpattern\":{\"fillmode\":\"overlay\",\"size\":10,\"solidity\":0.2},\"type\":\"scatter\"}],\"parcoords\":[{\"type\":\"parcoords\",\"line\":{\"colorbar\":{\"outlinewidth\":0,\"ticks\":\"\"}}}],\"scatterpolargl\":[{\"type\":\"scatterpolargl\",\"marker\":{\"colorbar\":{\"outlinewidth\":0,\"ticks\":\"\"}}}],\"bar\":[{\"error_x\":{\"color\":\"#2a3f5f\"},\"error_y\":{\"color\":\"#2a3f5f\"},\"marker\":{\"line\":{\"color\":\"#E5ECF6\",\"width\":0.5},\"pattern\":{\"fillmode\":\"overlay\",\"size\":10,\"solidity\":0.2}},\"type\":\"bar\"}],\"scattergeo\":[{\"type\":\"scattergeo\",\"marker\":{\"colorbar\":{\"outlinewidth\":0,\"ticks\":\"\"}}}],\"scatterpolar\":[{\"type\":\"scatterpolar\",\"marker\":{\"colorbar\":{\"outlinewidth\":0,\"ticks\":\"\"}}}],\"histogram\":[{\"marker\":{\"pattern\":{\"fillmode\":\"overlay\",\"size\":10,\"solidity\":0.2}},\"type\":\"histogram\"}],\"scattergl\":[{\"type\":\"scattergl\",\"marker\":{\"colorbar\":{\"outlinewidth\":0,\"ticks\":\"\"}}}],\"scatter3d\":[{\"type\":\"scatter3d\",\"line\":{\"colorbar\":{\"outlinewidth\":0,\"ticks\":\"\"}},\"marker\":{\"colorbar\":{\"outlinewidth\":0,\"ticks\":\"\"}}}],\"scattermapbox\":[{\"type\":\"scattermapbox\",\"marker\":{\"colorbar\":{\"outlinewidth\":0,\"ticks\":\"\"}}}],\"scatterternary\":[{\"type\":\"scatterternary\",\"marker\":{\"colorbar\":{\"outlinewidth\":0,\"ticks\":\"\"}}}],\"scattercarpet\":[{\"type\":\"scattercarpet\",\"marker\":{\"colorbar\":{\"outlinewidth\":0,\"ticks\":\"\"}}}],\"carpet\":[{\"aaxis\":{\"endlinecolor\":\"#2a3f5f\",\"gridcolor\":\"white\",\"linecolor\":\"white\",\"minorgridcolor\":\"white\",\"startlinecolor\":\"#2a3f5f\"},\"baxis\":{\"endlinecolor\":\"#2a3f5f\",\"gridcolor\":\"white\",\"linecolor\":\"white\",\"minorgridcolor\":\"white\",\"startlinecolor\":\"#2a3f5f\"},\"type\":\"carpet\"}],\"table\":[{\"cells\":{\"fill\":{\"color\":\"#EBF0F8\"},\"line\":{\"color\":\"white\"}},\"header\":{\"fill\":{\"color\":\"#C8D4E3\"},\"line\":{\"color\":\"white\"}},\"type\":\"table\"}],\"barpolar\":[{\"marker\":{\"line\":{\"color\":\"#E5ECF6\",\"width\":0.5},\"pattern\":{\"fillmode\":\"overlay\",\"size\":10,\"solidity\":0.2}},\"type\":\"barpolar\"}],\"pie\":[{\"automargin\":true,\"type\":\"pie\"}]},\"layout\":{\"autotypenumbers\":\"strict\",\"colorway\":[\"#636efa\",\"#EF553B\",\"#00cc96\",\"#ab63fa\",\"#FFA15A\",\"#19d3f3\",\"#FF6692\",\"#B6E880\",\"#FF97FF\",\"#FECB52\"],\"font\":{\"color\":\"#2a3f5f\"},\"hovermode\":\"closest\",\"hoverlabel\":{\"align\":\"left\"},\"paper_bgcolor\":\"white\",\"plot_bgcolor\":\"#E5ECF6\",\"polar\":{\"bgcolor\":\"#E5ECF6\",\"angularaxis\":{\"gridcolor\":\"white\",\"linecolor\":\"white\",\"ticks\":\"\"},\"radialaxis\":{\"gridcolor\":\"white\",\"linecolor\":\"white\",\"ticks\":\"\"}},\"ternary\":{\"bgcolor\":\"#E5ECF6\",\"aaxis\":{\"gridcolor\":\"white\",\"linecolor\":\"white\",\"ticks\":\"\"},\"baxis\":{\"gridcolor\":\"white\",\"linecolor\":\"white\",\"ticks\":\"\"},\"caxis\":{\"gridcolor\":\"white\",\"linecolor\":\"white\",\"ticks\":\"\"}},\"coloraxis\":{\"colorbar\":{\"outlinewidth\":0,\"ticks\":\"\"}},\"colorscale\":{\"sequential\":[[0.0,\"#0d0887\"],[0.1111111111111111,\"#46039f\"],[0.2222222222222222,\"#7201a8\"],[0.3333333333333333,\"#9c179e\"],[0.4444444444444444,\"#bd3786\"],[0.5555555555555556,\"#d8576b\"],[0.6666666666666666,\"#ed7953\"],[0.7777777777777778,\"#fb9f3a\"],[0.8888888888888888,\"#fdca26\"],[1.0,\"#f0f921\"]],\"sequentialminus\":[[0.0,\"#0d0887\"],[0.1111111111111111,\"#46039f\"],[0.2222222222222222,\"#7201a8\"],[0.3333333333333333,\"#9c179e\"],[0.4444444444444444,\"#bd3786\"],[0.5555555555555556,\"#d8576b\"],[0.6666666666666666,\"#ed7953\"],[0.7777777777777778,\"#fb9f3a\"],[0.8888888888888888,\"#fdca26\"],[1.0,\"#f0f921\"]],\"diverging\":[[0,\"#8e0152\"],[0.1,\"#c51b7d\"],[0.2,\"#de77ae\"],[0.3,\"#f1b6da\"],[0.4,\"#fde0ef\"],[0.5,\"#f7f7f7\"],[0.6,\"#e6f5d0\"],[0.7,\"#b8e186\"],[0.8,\"#7fbc41\"],[0.9,\"#4d9221\"],[1,\"#276419\"]]},\"xaxis\":{\"gridcolor\":\"white\",\"linecolor\":\"white\",\"ticks\":\"\",\"title\":{\"standoff\":15},\"zerolinecolor\":\"white\",\"automargin\":true,\"zerolinewidth\":2},\"yaxis\":{\"gridcolor\":\"white\",\"linecolor\":\"white\",\"ticks\":\"\",\"title\":{\"standoff\":15},\"zerolinecolor\":\"white\",\"automargin\":true,\"zerolinewidth\":2},\"scene\":{\"xaxis\":{\"backgroundcolor\":\"#E5ECF6\",\"gridcolor\":\"white\",\"linecolor\":\"white\",\"showbackground\":true,\"ticks\":\"\",\"zerolinecolor\":\"white\",\"gridwidth\":2},\"yaxis\":{\"backgroundcolor\":\"#E5ECF6\",\"gridcolor\":\"white\",\"linecolor\":\"white\",\"showbackground\":true,\"ticks\":\"\",\"zerolinecolor\":\"white\",\"gridwidth\":2},\"zaxis\":{\"backgroundcolor\":\"#E5ECF6\",\"gridcolor\":\"white\",\"linecolor\":\"white\",\"showbackground\":true,\"ticks\":\"\",\"zerolinecolor\":\"white\",\"gridwidth\":2}},\"shapedefaults\":{\"line\":{\"color\":\"#2a3f5f\"}},\"annotationdefaults\":{\"arrowcolor\":\"#2a3f5f\",\"arrowhead\":0,\"arrowwidth\":1},\"geo\":{\"bgcolor\":\"white\",\"landcolor\":\"#E5ECF6\",\"subunitcolor\":\"white\",\"showland\":true,\"showlakes\":true,\"lakecolor\":\"white\"},\"title\":{\"x\":0.05},\"mapbox\":{\"style\":\"light\"}}},\"xaxis\":{\"anchor\":\"y\",\"domain\":[0.0,1.0],\"title\":{\"text\":\"gender\"}},\"yaxis\":{\"anchor\":\"x\",\"domain\":[0.0,1.0],\"title\":{\"text\":\"money_saved\"}},\"legend\":{\"tracegroupgap\":0},\"margin\":{\"t\":60}},                        {\"responsive\": true}                    ).then(function(){\n",
       "                            \n",
       "var gd = document.getElementById('ef9c2f94-ea48-4d61-a942-97fb4a267736');\n",
       "var x = new MutationObserver(function (mutations, observer) {{\n",
       "        var display = window.getComputedStyle(gd).display;\n",
       "        if (!display || display === 'none') {{\n",
       "            console.log([gd, 'removed!']);\n",
       "            Plotly.purge(gd);\n",
       "            observer.disconnect();\n",
       "        }}\n",
       "}});\n",
       "\n",
       "// Listen for the removal of the full notebook cells\n",
       "var notebookContainer = gd.closest('#notebook-container');\n",
       "if (notebookContainer) {{\n",
       "    x.observe(notebookContainer, {childList: true});\n",
       "}}\n",
       "\n",
       "// Listen for the clearing of the current output cell\n",
       "var outputEl = gd.closest('.output');\n",
       "if (outputEl) {{\n",
       "    x.observe(outputEl, {childList: true});\n",
       "}}\n",
       "\n",
       "                        })                };                });            </script>        </div>"
      ]
     },
     "metadata": {},
     "output_type": "display_data"
    }
   ],
   "source": [
    "import plotly.express as px\n",
    "\n",
    "# Utilisation de Plotly Express pour créer le diagramme en entonnoir à partir du DataFrame df\n",
    "fig = px.funnel(df, x='gender', y='money_saved')\n",
    "\n",
    "# Afficher le diagramme en entonnoir\n",
    "fig.show()\n"
   ]
  },
  {
   "cell_type": "code",
   "execution_count": 41,
   "id": "1532d429",
   "metadata": {},
   "outputs": [
    {
     "data": {
      "application/vnd.plotly.v1+json": {
       "config": {
        "plotlyServerURL": "https://plot.ly"
       },
       "data": [
        {
         "hovertemplate": "monthly_income=%{x}<br>preferred_payment_method=%{y}<extra></extra>",
         "legendgroup": "",
         "marker": {
          "color": "#636efa"
         },
         "name": "",
         "orientation": "h",
         "showlegend": false,
         "type": "funnel",
         "x": [
          958,
          1006,
          734,
          617,
          810,
          523,
          1354,
          631,
          1402,
          1423,
          762,
          1068,
          719,
          1176,
          1496,
          1227,
          1419,
          1454,
          1487,
          1157,
          1180,
          516,
          1225,
          582,
          1062,
          1054,
          667,
          796,
          905,
          531,
          1426,
          1465,
          522,
          1338,
          1363,
          1328,
          1350,
          1309,
          965,
          600,
          605,
          804,
          1274,
          509,
          1285,
          929,
          1163,
          1195,
          1036,
          588,
          1377,
          1451,
          669,
          1294,
          941,
          1131,
          854,
          1158,
          668,
          695,
          1375,
          1084,
          733,
          1061,
          1352,
          1092,
          963,
          1204,
          1184,
          562,
          1218,
          1235,
          1424,
          1176,
          1334,
          1442,
          983,
          914,
          898,
          1164,
          1484,
          1127,
          1105,
          1351,
          930,
          1346,
          1240,
          727,
          622,
          800,
          1199,
          1006,
          1295,
          1222,
          1384,
          1035,
          1395,
          767,
          933,
          803,
          1333,
          1115,
          920,
          780,
          882,
          959,
          748,
          810,
          965,
          784,
          970,
          1349,
          760,
          702,
          720,
          1286,
          1135,
          1030,
          1265,
          1175,
          1083,
          1487,
          1327,
          1095,
          1460,
          1354,
          836,
          1212,
          1483,
          998,
          885,
          726,
          1037,
          1456,
          676,
          571,
          1213,
          1112,
          1100,
          526,
          951,
          1301,
          1103,
          1083,
          860,
          1354,
          877,
          649,
          897,
          1147,
          1367,
          647,
          656,
          1131,
          1319,
          917,
          872,
          901,
          536,
          506,
          1201,
          1189,
          546,
          1181,
          810,
          855,
          1354,
          1056,
          620,
          1207,
          621,
          1033,
          722,
          1304,
          912,
          963,
          1286,
          1104,
          697,
          1230,
          1345,
          1411,
          1355,
          608,
          566,
          1310,
          1354,
          1020,
          1394,
          954,
          1448,
          968,
          1450,
          1316,
          904,
          1488,
          893,
          527,
          804,
          547,
          523,
          1040,
          918,
          504,
          1203,
          951,
          857,
          812,
          540,
          889,
          992,
          760,
          1199,
          578,
          994,
          552,
          1444,
          1203,
          1481,
          700,
          1087,
          672,
          825,
          1033,
          774,
          1365,
          810,
          856,
          985,
          919,
          637,
          894,
          874,
          850,
          879,
          811,
          809,
          596,
          856,
          886,
          1205,
          1353,
          1268,
          1112,
          1206,
          1159,
          1250,
          1120,
          1277,
          1442,
          776,
          800,
          1078,
          1404,
          1097,
          835,
          755,
          1087,
          931,
          983,
          639,
          527,
          744,
          1118,
          1276,
          880,
          1424,
          1276,
          697,
          1379,
          1466,
          1126,
          1126,
          618,
          785,
          770,
          1431,
          1338,
          1121,
          1245,
          748,
          1389,
          1122,
          1113,
          879,
          1489,
          869,
          1381,
          1325,
          581,
          694,
          615,
          1394,
          800,
          913,
          1243,
          655,
          667,
          1458,
          925,
          1105,
          737,
          1495,
          1298,
          1272,
          511,
          1161,
          1112,
          958,
          1176,
          727,
          1483,
          881,
          1347,
          725,
          1000,
          795,
          869,
          543,
          1470,
          734,
          669,
          1336,
          1436,
          1339,
          609,
          1036,
          1309,
          1471,
          658,
          684,
          907,
          846,
          1175,
          659,
          1488,
          1190,
          742,
          914,
          1485,
          582,
          1468,
          1021,
          760,
          969,
          990,
          1304,
          805,
          1179,
          573,
          843,
          1085,
          580,
          975,
          602,
          1103,
          816,
          1016,
          969,
          918,
          982,
          1021,
          521,
          1444,
          646,
          1296,
          1360,
          1123,
          1020,
          736,
          931,
          1443,
          730,
          561,
          1212,
          1282,
          1438,
          702,
          1433,
          1444,
          536,
          1260,
          701,
          1309,
          842,
          617,
          1134,
          992,
          1408,
          1368,
          716,
          1224,
          1349,
          802,
          973,
          736,
          571,
          833,
          713,
          1268,
          819,
          1268,
          1486,
          1005,
          1205,
          1356,
          817,
          706,
          1102,
          1279,
          1457,
          1306,
          1309,
          1482,
          1468,
          869,
          886,
          1443,
          766,
          1403,
          1372,
          1428,
          1303,
          572,
          558,
          1049,
          923,
          621,
          660,
          528,
          640,
          1427,
          527,
          1295,
          1219,
          959,
          1483,
          646,
          818,
          1268,
          563,
          1253,
          791,
          847,
          668,
          1022,
          725,
          733,
          684,
          604,
          1346,
          1464,
          1258,
          925,
          927,
          1230,
          1437,
          989,
          910,
          1323,
          668,
          1004,
          1415,
          948,
          1010,
          873,
          921,
          1459,
          672,
          1461,
          1492,
          627,
          961,
          954,
          1486,
          1331,
          551,
          1352,
          1437,
          1146,
          1341,
          1331,
          1195,
          1247,
          663,
          861,
          568,
          802,
          821,
          1009,
          526,
          502,
          860,
          1420,
          540,
          737,
          503,
          673,
          681,
          1356,
          1062,
          1399,
          1402,
          1184,
          743,
          1384,
          997,
          618,
          1320,
          959,
          950,
          1286,
          893,
          1126,
          679,
          803,
          664,
          1500,
          1005,
          883,
          1428,
          906,
          991,
          1246,
          1273,
          880,
          1356,
          916,
          1059,
          941,
          764,
          983,
          1295,
          1301,
          829,
          1296,
          1278,
          725,
          525,
          1006,
          872,
          549,
          885,
          1197,
          539,
          804,
          1109,
          1126,
          849,
          503,
          1293,
          903,
          1149,
          1363,
          1056,
          1245,
          1149,
          1226,
          965,
          1338,
          1414,
          1232,
          528,
          1377,
          1078,
          766,
          1289,
          887,
          1040,
          940,
          895,
          1113,
          982,
          1401,
          772,
          912,
          946,
          834,
          695,
          1479,
          994,
          843,
          1412,
          727,
          622,
          1392,
          1491,
          1038,
          854,
          1415,
          1136,
          971,
          1115,
          523,
          533,
          1129,
          739,
          1099,
          610,
          1305,
          1263,
          656,
          975,
          1459,
          1302,
          1115,
          816,
          1358,
          1054,
          1372,
          1101,
          1258,
          1399,
          1469,
          560,
          527,
          1165,
          996,
          630,
          542,
          648,
          639,
          729,
          1021,
          1229,
          660,
          1343,
          833,
          555,
          541,
          748,
          1477,
          1236,
          592,
          558,
          925,
          719,
          981,
          1381,
          929,
          1245,
          691,
          1326,
          1000,
          592,
          1227,
          575,
          1298,
          1141,
          703,
          929,
          1415,
          1359,
          1162,
          663,
          1432,
          663,
          1327,
          1045,
          619,
          815,
          728,
          941,
          1176,
          1092,
          1439,
          816,
          1413,
          1076,
          559,
          1144,
          1296,
          958,
          775,
          1483,
          1304,
          1400,
          1440,
          1460,
          1379,
          942,
          740,
          1186,
          731,
          1347,
          1085,
          665,
          1422,
          1366,
          714,
          1259,
          975,
          1420,
          604,
          1250,
          567,
          546,
          1169,
          834,
          1117,
          677,
          1433,
          889,
          670,
          645,
          1107,
          750,
          654,
          1141,
          811,
          1452,
          1255,
          737,
          1419,
          815,
          1034,
          1022,
          1341,
          999,
          1218,
          1332,
          903,
          932,
          634,
          553,
          547,
          867,
          863,
          603,
          1480,
          522,
          1376,
          1195,
          1223,
          613,
          844,
          620,
          983,
          996,
          1106,
          1032,
          1419,
          610,
          1449,
          1270,
          770,
          911,
          1303,
          1367,
          509,
          804,
          1268,
          1492,
          1402,
          673,
          1174,
          635,
          792,
          998,
          866,
          1408,
          732,
          1107,
          1165,
          1316,
          1471,
          536,
          1045,
          609,
          581,
          1106,
          1316,
          574,
          1115,
          1257,
          1069,
          757,
          794,
          1139,
          598,
          514,
          1479,
          633,
          1437,
          1135,
          1433,
          824,
          967,
          1126,
          885,
          525,
          1009,
          1478,
          547,
          549,
          1326,
          761,
          1344,
          895,
          1036,
          664,
          1403,
          1094,
          789,
          587,
          509,
          1382,
          1301,
          777,
          505,
          866,
          1329,
          1372,
          1004,
          1415,
          639,
          1397,
          935,
          882,
          1398,
          1461,
          1430,
          953,
          1456,
          892,
          539,
          1024,
          1405,
          691,
          1157,
          555,
          1245,
          1227,
          825,
          1359,
          556,
          1110,
          518,
          932,
          683,
          1397,
          1201,
          1402,
          844,
          1366,
          923,
          542,
          1130,
          848,
          1022,
          1189,
          771,
          1280,
          933,
          1257,
          1313,
          1034,
          669,
          728,
          569,
          960,
          1288,
          556,
          1413,
          957,
          1084,
          1270,
          845,
          1423,
          683,
          1309,
          888,
          1496,
          965,
          1329,
          1021,
          501,
          1223,
          1495,
          862,
          1037,
          505,
          1193,
          1452,
          1422,
          717,
          1333,
          978,
          1141,
          1399,
          1200,
          1053,
          1118,
          1094,
          1252,
          686,
          513,
          1174,
          1224,
          975,
          1435,
          894,
          1168,
          1482,
          1385,
          1476,
          812,
          1191,
          1440,
          1447,
          1030,
          1034,
          1406,
          1086,
          1334,
          507,
          1483,
          888,
          1204,
          1047,
          1279,
          613,
          1280,
          696,
          1191,
          1287,
          1391,
          1345,
          1344,
          779,
          1123,
          1038,
          595,
          1345,
          534,
          1176,
          836,
          1047,
          865,
          1148,
          696,
          778,
          1140,
          557,
          948,
          1249,
          1092,
          717,
          857,
          1021,
          1056,
          758,
          653,
          643,
          668,
          645,
          1020,
          1128,
          1186,
          528,
          774,
          1236,
          938,
          1169,
          1061,
          514,
          1015,
          743,
          913,
          1142,
          868,
          1464,
          1260,
          1326,
          1219,
          1038,
          1418,
          1385,
          553,
          1013,
          1019,
          669,
          933,
          1166,
          1197,
          973,
          1381,
          1082,
          1160,
          1011,
          1412,
          1391,
          1293,
          1380,
          764,
          1346,
          1407,
          957,
          1174,
          541
         ],
         "xaxis": "x",
         "y": [
          "Credit/Debit Card",
          "Credit/Debit Card",
          "Cash",
          "Mobile Payment App",
          "Credit/Debit Card",
          "Mobile Payment App",
          "Credit/Debit Card",
          "Mobile Payment App",
          "Credit/Debit Card",
          "Mobile Payment App",
          "Credit/Debit Card",
          "Credit/Debit Card",
          "Credit/Debit Card",
          "Mobile Payment App",
          "Cash",
          "Cash",
          "Cash",
          "Mobile Payment App",
          "Credit/Debit Card",
          "Mobile Payment App",
          "Credit/Debit Card",
          "Mobile Payment App",
          "Cash",
          "Credit/Debit Card",
          "Mobile Payment App",
          "Mobile Payment App",
          "Credit/Debit Card",
          "Credit/Debit Card",
          "Credit/Debit Card",
          "Mobile Payment App",
          "Mobile Payment App",
          "Mobile Payment App",
          "Credit/Debit Card",
          "Cash",
          "Mobile Payment App",
          "Cash",
          "Cash",
          "Cash",
          "Cash",
          "Mobile Payment App",
          "Mobile Payment App",
          "Cash",
          "Cash",
          "Credit/Debit Card",
          "Credit/Debit Card",
          "Credit/Debit Card",
          "Cash",
          "Mobile Payment App",
          "Cash",
          "Mobile Payment App",
          "Cash",
          "Credit/Debit Card",
          "Cash",
          "Mobile Payment App",
          "Mobile Payment App",
          "Cash",
          "Cash",
          "Mobile Payment App",
          "Mobile Payment App",
          "Mobile Payment App",
          "Mobile Payment App",
          "Mobile Payment App",
          "Cash",
          "Mobile Payment App",
          "Mobile Payment App",
          "Mobile Payment App",
          "Mobile Payment App",
          "Credit/Debit Card",
          "Mobile Payment App",
          "Mobile Payment App",
          "Mobile Payment App",
          "Cash",
          "Cash",
          "Mobile Payment App",
          "Credit/Debit Card",
          "Cash",
          "Cash",
          "Credit/Debit Card",
          "Cash",
          "Cash",
          "Mobile Payment App",
          "Mobile Payment App",
          "Cash",
          "Mobile Payment App",
          "Mobile Payment App",
          "Credit/Debit Card",
          "Credit/Debit Card",
          "Credit/Debit Card",
          "Mobile Payment App",
          "Credit/Debit Card",
          "Credit/Debit Card",
          "Cash",
          "Mobile Payment App",
          "Mobile Payment App",
          "Credit/Debit Card",
          "Credit/Debit Card",
          "Credit/Debit Card",
          "Credit/Debit Card",
          "Cash",
          "Mobile Payment App",
          "Cash",
          "Mobile Payment App",
          "Cash",
          "Cash",
          "Mobile Payment App",
          "Cash",
          "Mobile Payment App",
          "Mobile Payment App",
          "Mobile Payment App",
          "Credit/Debit Card",
          "Mobile Payment App",
          "Credit/Debit Card",
          "Credit/Debit Card",
          "Cash",
          "Mobile Payment App",
          "Mobile Payment App",
          "Cash",
          "Credit/Debit Card",
          "Credit/Debit Card",
          "Mobile Payment App",
          "Mobile Payment App",
          "Mobile Payment App",
          "Cash",
          "Credit/Debit Card",
          "Mobile Payment App",
          "Credit/Debit Card",
          "Cash",
          "Credit/Debit Card",
          "Credit/Debit Card",
          "Credit/Debit Card",
          "Credit/Debit Card",
          "Credit/Debit Card",
          "Mobile Payment App",
          "Mobile Payment App",
          "Mobile Payment App",
          "Mobile Payment App",
          "Mobile Payment App",
          "Cash",
          "Credit/Debit Card",
          "Cash",
          "Mobile Payment App",
          "Cash",
          "Mobile Payment App",
          "Cash",
          "Cash",
          "Cash",
          "Credit/Debit Card",
          "Credit/Debit Card",
          "Credit/Debit Card",
          "Mobile Payment App",
          "Credit/Debit Card",
          "Cash",
          "Credit/Debit Card",
          "Mobile Payment App",
          "Cash",
          "Credit/Debit Card",
          "Credit/Debit Card",
          "Mobile Payment App",
          "Credit/Debit Card",
          "Mobile Payment App",
          "Credit/Debit Card",
          "Cash",
          "Credit/Debit Card",
          "Cash",
          "Cash",
          "Cash",
          "Cash",
          "Cash",
          "Credit/Debit Card",
          "Cash",
          "Cash",
          "Mobile Payment App",
          "Mobile Payment App",
          "Mobile Payment App",
          "Credit/Debit Card",
          "Cash",
          "Mobile Payment App",
          "Credit/Debit Card",
          "Cash",
          "Cash",
          "Mobile Payment App",
          "Mobile Payment App",
          "Credit/Debit Card",
          "Mobile Payment App",
          "Credit/Debit Card",
          "Mobile Payment App",
          "Credit/Debit Card",
          "Cash",
          "Cash",
          "Credit/Debit Card",
          "Mobile Payment App",
          "Credit/Debit Card",
          "Credit/Debit Card",
          "Credit/Debit Card",
          "Cash",
          "Cash",
          "Cash",
          "Credit/Debit Card",
          "Credit/Debit Card",
          "Credit/Debit Card",
          "Cash",
          "Credit/Debit Card",
          "Credit/Debit Card",
          "Credit/Debit Card",
          "Cash",
          "Mobile Payment App",
          "Mobile Payment App",
          "Cash",
          "Credit/Debit Card",
          "Cash",
          "Credit/Debit Card",
          "Mobile Payment App",
          "Credit/Debit Card",
          "Credit/Debit Card",
          "Cash",
          "Mobile Payment App",
          "Credit/Debit Card",
          "Mobile Payment App",
          "Credit/Debit Card",
          "Credit/Debit Card",
          "Mobile Payment App",
          "Mobile Payment App",
          "Credit/Debit Card",
          "Cash",
          "Credit/Debit Card",
          "Credit/Debit Card",
          "Mobile Payment App",
          "Mobile Payment App",
          "Credit/Debit Card",
          "Credit/Debit Card",
          "Cash",
          "Credit/Debit Card",
          "Cash",
          "Credit/Debit Card",
          "Credit/Debit Card",
          "Credit/Debit Card",
          "Cash",
          "Credit/Debit Card",
          "Mobile Payment App",
          "Mobile Payment App",
          "Mobile Payment App",
          "Cash",
          "Cash",
          "Cash",
          "Cash",
          "Mobile Payment App",
          "Mobile Payment App",
          "Mobile Payment App",
          "Cash",
          "Mobile Payment App",
          "Cash",
          "Mobile Payment App",
          "Credit/Debit Card",
          "Mobile Payment App",
          "Credit/Debit Card",
          "Credit/Debit Card",
          "Credit/Debit Card",
          "Credit/Debit Card",
          "Cash",
          "Credit/Debit Card",
          "Mobile Payment App",
          "Mobile Payment App",
          "Mobile Payment App",
          "Mobile Payment App",
          "Credit/Debit Card",
          "Cash",
          "Mobile Payment App",
          "Mobile Payment App",
          "Mobile Payment App",
          "Mobile Payment App",
          "Credit/Debit Card",
          "Cash",
          "Cash",
          "Cash",
          "Mobile Payment App",
          "Cash",
          "Credit/Debit Card",
          "Credit/Debit Card",
          "Mobile Payment App",
          "Credit/Debit Card",
          "Mobile Payment App",
          "Credit/Debit Card",
          "Credit/Debit Card",
          "Cash",
          "Cash",
          "Mobile Payment App",
          "Cash",
          "Mobile Payment App",
          "Cash",
          "Cash",
          "Mobile Payment App",
          "Mobile Payment App",
          "Credit/Debit Card",
          "Credit/Debit Card",
          "Cash",
          "Mobile Payment App",
          "Credit/Debit Card",
          "Credit/Debit Card",
          "Credit/Debit Card",
          "Mobile Payment App",
          "Credit/Debit Card",
          "Cash",
          "Mobile Payment App",
          "Mobile Payment App",
          "Credit/Debit Card",
          "Credit/Debit Card",
          "Credit/Debit Card",
          "Mobile Payment App",
          "Cash",
          "Credit/Debit Card",
          "Cash",
          "Credit/Debit Card",
          "Credit/Debit Card",
          "Mobile Payment App",
          "Mobile Payment App",
          "Credit/Debit Card",
          "Credit/Debit Card",
          "Mobile Payment App",
          "Credit/Debit Card",
          "Credit/Debit Card",
          "Cash",
          "Mobile Payment App",
          "Cash",
          "Mobile Payment App",
          "Mobile Payment App",
          "Credit/Debit Card",
          "Mobile Payment App",
          "Mobile Payment App",
          "Cash",
          "Mobile Payment App",
          "Mobile Payment App",
          "Credit/Debit Card",
          "Mobile Payment App",
          "Cash",
          "Credit/Debit Card",
          "Cash",
          "Cash",
          "Credit/Debit Card",
          "Credit/Debit Card",
          "Cash",
          "Credit/Debit Card",
          "Credit/Debit Card",
          "Cash",
          "Mobile Payment App",
          "Cash",
          "Mobile Payment App",
          "Cash",
          "Credit/Debit Card",
          "Credit/Debit Card",
          "Mobile Payment App",
          "Mobile Payment App",
          "Mobile Payment App",
          "Credit/Debit Card",
          "Cash",
          "Credit/Debit Card",
          "Cash",
          "Mobile Payment App",
          "Cash",
          "Cash",
          "Credit/Debit Card",
          "Mobile Payment App",
          "Cash",
          "Mobile Payment App",
          "Mobile Payment App",
          "Credit/Debit Card",
          "Mobile Payment App",
          "Mobile Payment App",
          "Cash",
          "Mobile Payment App",
          "Credit/Debit Card",
          "Cash",
          "Mobile Payment App",
          "Cash",
          "Mobile Payment App",
          "Cash",
          "Cash",
          "Mobile Payment App",
          "Credit/Debit Card",
          "Credit/Debit Card",
          "Cash",
          "Cash",
          "Credit/Debit Card",
          "Cash",
          "Cash",
          "Credit/Debit Card",
          "Credit/Debit Card",
          "Cash",
          "Mobile Payment App",
          "Mobile Payment App",
          "Mobile Payment App",
          "Cash",
          "Credit/Debit Card",
          "Cash",
          "Cash",
          "Cash",
          "Mobile Payment App",
          "Mobile Payment App",
          "Cash",
          "Credit/Debit Card",
          "Cash",
          "Mobile Payment App",
          "Credit/Debit Card",
          "Mobile Payment App",
          "Cash",
          "Credit/Debit Card",
          "Mobile Payment App",
          "Mobile Payment App",
          "Cash",
          "Cash",
          "Credit/Debit Card",
          "Credit/Debit Card",
          "Cash",
          "Credit/Debit Card",
          "Credit/Debit Card",
          "Mobile Payment App",
          "Credit/Debit Card",
          "Mobile Payment App",
          "Mobile Payment App",
          "Cash",
          "Cash",
          "Credit/Debit Card",
          "Mobile Payment App",
          "Cash",
          "Credit/Debit Card",
          "Credit/Debit Card",
          "Mobile Payment App",
          "Credit/Debit Card",
          "Cash",
          "Mobile Payment App",
          "Mobile Payment App",
          "Mobile Payment App",
          "Mobile Payment App",
          "Cash",
          "Cash",
          "Cash",
          "Cash",
          "Credit/Debit Card",
          "Mobile Payment App",
          "Credit/Debit Card",
          "Credit/Debit Card",
          "Mobile Payment App",
          "Credit/Debit Card",
          "Cash",
          "Cash",
          "Mobile Payment App",
          "Cash",
          "Cash",
          "Credit/Debit Card",
          "Mobile Payment App",
          "Mobile Payment App",
          "Mobile Payment App",
          "Credit/Debit Card",
          "Cash",
          "Cash",
          "Mobile Payment App",
          "Mobile Payment App",
          "Credit/Debit Card",
          "Credit/Debit Card",
          "Cash",
          "Cash",
          "Mobile Payment App",
          "Credit/Debit Card",
          "Credit/Debit Card",
          "Credit/Debit Card",
          "Mobile Payment App",
          "Credit/Debit Card",
          "Cash",
          "Mobile Payment App",
          "Credit/Debit Card",
          "Mobile Payment App",
          "Credit/Debit Card",
          "Cash",
          "Mobile Payment App",
          "Credit/Debit Card",
          "Mobile Payment App",
          "Mobile Payment App",
          "Cash",
          "Credit/Debit Card",
          "Mobile Payment App",
          "Mobile Payment App",
          "Credit/Debit Card",
          "Mobile Payment App",
          "Mobile Payment App",
          "Cash",
          "Cash",
          "Credit/Debit Card",
          "Credit/Debit Card",
          "Credit/Debit Card",
          "Cash",
          "Credit/Debit Card",
          "Mobile Payment App",
          "Mobile Payment App",
          "Mobile Payment App",
          "Cash",
          "Mobile Payment App",
          "Mobile Payment App",
          "Cash",
          "Mobile Payment App",
          "Cash",
          "Mobile Payment App",
          "Credit/Debit Card",
          "Cash",
          "Cash",
          "Cash",
          "Cash",
          "Mobile Payment App",
          "Credit/Debit Card",
          "Credit/Debit Card",
          "Cash",
          "Cash",
          "Mobile Payment App",
          "Credit/Debit Card",
          "Cash",
          "Cash",
          "Mobile Payment App",
          "Credit/Debit Card",
          "Credit/Debit Card",
          "Cash",
          "Credit/Debit Card",
          "Credit/Debit Card",
          "Cash",
          "Cash",
          "Cash",
          "Mobile Payment App",
          "Credit/Debit Card",
          "Credit/Debit Card",
          "Credit/Debit Card",
          "Credit/Debit Card",
          "Credit/Debit Card",
          "Credit/Debit Card",
          "Mobile Payment App",
          "Cash",
          "Mobile Payment App",
          "Cash",
          "Cash",
          "Credit/Debit Card",
          "Credit/Debit Card",
          "Credit/Debit Card",
          "Cash",
          "Mobile Payment App",
          "Mobile Payment App",
          "Credit/Debit Card",
          "Cash",
          "Mobile Payment App",
          "Cash",
          "Cash",
          "Mobile Payment App",
          "Credit/Debit Card",
          "Cash",
          "Credit/Debit Card",
          "Mobile Payment App",
          "Credit/Debit Card",
          "Credit/Debit Card",
          "Mobile Payment App",
          "Cash",
          "Mobile Payment App",
          "Mobile Payment App",
          "Cash",
          "Mobile Payment App",
          "Credit/Debit Card",
          "Credit/Debit Card",
          "Mobile Payment App",
          "Cash",
          "Credit/Debit Card",
          "Credit/Debit Card",
          "Cash",
          "Credit/Debit Card",
          "Cash",
          "Cash",
          "Credit/Debit Card",
          "Mobile Payment App",
          "Credit/Debit Card",
          "Cash",
          "Credit/Debit Card",
          "Mobile Payment App",
          "Credit/Debit Card",
          "Cash",
          "Mobile Payment App",
          "Cash",
          "Cash",
          "Mobile Payment App",
          "Mobile Payment App",
          "Mobile Payment App",
          "Credit/Debit Card",
          "Mobile Payment App",
          "Credit/Debit Card",
          "Credit/Debit Card",
          "Mobile Payment App",
          "Mobile Payment App",
          "Cash",
          "Mobile Payment App",
          "Credit/Debit Card",
          "Mobile Payment App",
          "Cash",
          "Credit/Debit Card",
          "Cash",
          "Credit/Debit Card",
          "Mobile Payment App",
          "Mobile Payment App",
          "Credit/Debit Card",
          "Cash",
          "Cash",
          "Credit/Debit Card",
          "Mobile Payment App",
          "Mobile Payment App",
          "Mobile Payment App",
          "Mobile Payment App",
          "Mobile Payment App",
          "Cash",
          "Credit/Debit Card",
          "Mobile Payment App",
          "Cash",
          "Cash",
          "Cash",
          "Cash",
          "Credit/Debit Card",
          "Mobile Payment App",
          "Credit/Debit Card",
          "Cash",
          "Mobile Payment App",
          "Credit/Debit Card",
          "Credit/Debit Card",
          "Cash",
          "Mobile Payment App",
          "Credit/Debit Card",
          "Credit/Debit Card",
          "Cash",
          "Cash",
          "Cash",
          "Credit/Debit Card",
          "Credit/Debit Card",
          "Cash",
          "Credit/Debit Card",
          "Cash",
          "Mobile Payment App",
          "Credit/Debit Card",
          "Mobile Payment App",
          "Credit/Debit Card",
          "Credit/Debit Card",
          "Cash",
          "Mobile Payment App",
          "Mobile Payment App",
          "Credit/Debit Card",
          "Credit/Debit Card",
          "Credit/Debit Card",
          "Mobile Payment App",
          "Cash",
          "Credit/Debit Card",
          "Cash",
          "Credit/Debit Card",
          "Mobile Payment App",
          "Mobile Payment App",
          "Credit/Debit Card",
          "Cash",
          "Credit/Debit Card",
          "Credit/Debit Card",
          "Mobile Payment App",
          "Credit/Debit Card",
          "Credit/Debit Card",
          "Credit/Debit Card",
          "Cash",
          "Cash",
          "Mobile Payment App",
          "Credit/Debit Card",
          "Credit/Debit Card",
          "Mobile Payment App",
          "Credit/Debit Card",
          "Cash",
          "Cash",
          "Credit/Debit Card",
          "Credit/Debit Card",
          "Credit/Debit Card",
          "Cash",
          "Credit/Debit Card",
          "Mobile Payment App",
          "Mobile Payment App",
          "Mobile Payment App",
          "Mobile Payment App",
          "Credit/Debit Card",
          "Credit/Debit Card",
          "Mobile Payment App",
          "Cash",
          "Cash",
          "Cash",
          "Cash",
          "Cash",
          "Mobile Payment App",
          "Cash",
          "Mobile Payment App",
          "Mobile Payment App",
          "Credit/Debit Card",
          "Mobile Payment App",
          "Cash",
          "Cash",
          "Cash",
          "Mobile Payment App",
          "Cash",
          "Mobile Payment App",
          "Credit/Debit Card",
          "Mobile Payment App",
          "Mobile Payment App",
          "Cash",
          "Credit/Debit Card",
          "Credit/Debit Card",
          "Credit/Debit Card",
          "Mobile Payment App",
          "Cash",
          "Mobile Payment App",
          "Cash",
          "Cash",
          "Mobile Payment App",
          "Mobile Payment App",
          "Credit/Debit Card",
          "Credit/Debit Card",
          "Cash",
          "Credit/Debit Card",
          "Mobile Payment App",
          "Cash",
          "Mobile Payment App",
          "Mobile Payment App",
          "Cash",
          "Credit/Debit Card",
          "Mobile Payment App",
          "Cash",
          "Credit/Debit Card",
          "Cash",
          "Cash",
          "Mobile Payment App",
          "Mobile Payment App",
          "Credit/Debit Card",
          "Mobile Payment App",
          "Cash",
          "Credit/Debit Card",
          "Credit/Debit Card",
          "Cash",
          "Mobile Payment App",
          "Cash",
          "Credit/Debit Card",
          "Mobile Payment App",
          "Cash",
          "Credit/Debit Card",
          "Credit/Debit Card",
          "Cash",
          "Cash",
          "Credit/Debit Card",
          "Mobile Payment App",
          "Credit/Debit Card",
          "Credit/Debit Card",
          "Credit/Debit Card",
          "Credit/Debit Card",
          "Cash",
          "Credit/Debit Card",
          "Cash",
          "Cash",
          "Credit/Debit Card",
          "Cash",
          "Credit/Debit Card",
          "Credit/Debit Card",
          "Mobile Payment App",
          "Credit/Debit Card",
          "Cash",
          "Credit/Debit Card",
          "Cash",
          "Cash",
          "Credit/Debit Card",
          "Cash",
          "Cash",
          "Credit/Debit Card",
          "Mobile Payment App",
          "Mobile Payment App",
          "Credit/Debit Card",
          "Credit/Debit Card",
          "Credit/Debit Card",
          "Mobile Payment App",
          "Credit/Debit Card",
          "Cash",
          "Credit/Debit Card",
          "Cash",
          "Credit/Debit Card",
          "Cash",
          "Mobile Payment App",
          "Mobile Payment App",
          "Credit/Debit Card",
          "Credit/Debit Card",
          "Credit/Debit Card",
          "Cash",
          "Credit/Debit Card",
          "Mobile Payment App",
          "Mobile Payment App",
          "Credit/Debit Card",
          "Credit/Debit Card",
          "Mobile Payment App",
          "Mobile Payment App",
          "Mobile Payment App",
          "Credit/Debit Card",
          "Mobile Payment App",
          "Cash",
          "Cash",
          "Credit/Debit Card",
          "Mobile Payment App",
          "Credit/Debit Card",
          "Cash",
          "Cash",
          "Mobile Payment App",
          "Cash",
          "Mobile Payment App",
          "Credit/Debit Card",
          "Mobile Payment App",
          "Mobile Payment App",
          "Cash",
          "Cash",
          "Mobile Payment App",
          "Cash",
          "Credit/Debit Card",
          "Cash",
          "Mobile Payment App",
          "Credit/Debit Card",
          "Mobile Payment App",
          "Credit/Debit Card",
          "Mobile Payment App",
          "Cash",
          "Mobile Payment App",
          "Credit/Debit Card",
          "Mobile Payment App",
          "Credit/Debit Card",
          "Mobile Payment App",
          "Cash",
          "Mobile Payment App",
          "Credit/Debit Card",
          "Mobile Payment App",
          "Credit/Debit Card",
          "Credit/Debit Card",
          "Credit/Debit Card",
          "Mobile Payment App",
          "Credit/Debit Card",
          "Mobile Payment App",
          "Mobile Payment App",
          "Mobile Payment App",
          "Mobile Payment App",
          "Mobile Payment App",
          "Cash",
          "Credit/Debit Card",
          "Mobile Payment App",
          "Credit/Debit Card",
          "Credit/Debit Card",
          "Credit/Debit Card",
          "Cash",
          "Credit/Debit Card",
          "Mobile Payment App",
          "Cash",
          "Credit/Debit Card",
          "Mobile Payment App",
          "Credit/Debit Card",
          "Cash",
          "Mobile Payment App",
          "Cash",
          "Mobile Payment App",
          "Mobile Payment App",
          "Mobile Payment App",
          "Mobile Payment App",
          "Cash",
          "Cash",
          "Cash",
          "Cash",
          "Cash",
          "Mobile Payment App",
          "Mobile Payment App",
          "Mobile Payment App",
          "Cash",
          "Cash",
          "Mobile Payment App",
          "Credit/Debit Card",
          "Credit/Debit Card",
          "Cash",
          "Cash",
          "Mobile Payment App",
          "Mobile Payment App",
          "Mobile Payment App",
          "Cash",
          "Cash",
          "Credit/Debit Card",
          "Cash",
          "Credit/Debit Card",
          "Credit/Debit Card",
          "Cash",
          "Cash",
          "Credit/Debit Card",
          "Cash",
          "Mobile Payment App",
          "Mobile Payment App",
          "Cash",
          "Mobile Payment App",
          "Cash",
          "Mobile Payment App",
          "Credit/Debit Card",
          "Mobile Payment App",
          "Cash",
          "Cash",
          "Cash",
          "Credit/Debit Card",
          "Mobile Payment App",
          "Credit/Debit Card",
          "Cash",
          "Credit/Debit Card",
          "Mobile Payment App",
          "Mobile Payment App",
          "Mobile Payment App",
          "Cash",
          "Cash",
          "Credit/Debit Card",
          "Mobile Payment App",
          "Credit/Debit Card",
          "Mobile Payment App",
          "Credit/Debit Card",
          "Mobile Payment App",
          "Cash",
          "Mobile Payment App",
          "Credit/Debit Card",
          "Credit/Debit Card",
          "Cash",
          "Credit/Debit Card",
          "Mobile Payment App",
          "Credit/Debit Card",
          "Mobile Payment App",
          "Credit/Debit Card",
          "Mobile Payment App",
          "Cash",
          "Credit/Debit Card",
          "Cash",
          "Mobile Payment App",
          "Mobile Payment App",
          "Credit/Debit Card",
          "Mobile Payment App",
          "Cash",
          "Cash",
          "Cash",
          "Mobile Payment App",
          "Credit/Debit Card",
          "Mobile Payment App",
          "Credit/Debit Card",
          "Credit/Debit Card",
          "Credit/Debit Card",
          "Credit/Debit Card",
          "Cash",
          "Mobile Payment App",
          "Mobile Payment App",
          "Credit/Debit Card",
          "Mobile Payment App",
          "Cash",
          "Credit/Debit Card",
          "Mobile Payment App",
          "Credit/Debit Card",
          "Cash",
          "Credit/Debit Card",
          "Cash",
          "Mobile Payment App",
          "Credit/Debit Card",
          "Cash",
          "Mobile Payment App",
          "Mobile Payment App",
          "Cash",
          "Credit/Debit Card",
          "Mobile Payment App",
          "Mobile Payment App",
          "Mobile Payment App",
          "Cash",
          "Mobile Payment App",
          "Mobile Payment App",
          "Cash",
          "Credit/Debit Card",
          "Mobile Payment App",
          "Credit/Debit Card",
          "Cash",
          "Cash",
          "Cash",
          "Credit/Debit Card",
          "Mobile Payment App",
          "Mobile Payment App",
          "Mobile Payment App",
          "Mobile Payment App",
          "Mobile Payment App",
          "Credit/Debit Card",
          "Mobile Payment App",
          "Cash",
          "Mobile Payment App",
          "Cash",
          "Cash",
          "Credit/Debit Card",
          "Cash",
          "Cash",
          "Mobile Payment App",
          "Cash",
          "Credit/Debit Card",
          "Mobile Payment App",
          "Mobile Payment App",
          "Cash",
          "Mobile Payment App",
          "Mobile Payment App",
          "Mobile Payment App",
          "Cash"
         ],
         "yaxis": "y"
        }
       ],
       "layout": {
        "legend": {
         "tracegroupgap": 0
        },
        "margin": {
         "t": 60
        },
        "template": {
         "data": {
          "bar": [
           {
            "error_x": {
             "color": "#2a3f5f"
            },
            "error_y": {
             "color": "#2a3f5f"
            },
            "marker": {
             "line": {
              "color": "#E5ECF6",
              "width": 0.5
             },
             "pattern": {
              "fillmode": "overlay",
              "size": 10,
              "solidity": 0.2
             }
            },
            "type": "bar"
           }
          ],
          "barpolar": [
           {
            "marker": {
             "line": {
              "color": "#E5ECF6",
              "width": 0.5
             },
             "pattern": {
              "fillmode": "overlay",
              "size": 10,
              "solidity": 0.2
             }
            },
            "type": "barpolar"
           }
          ],
          "carpet": [
           {
            "aaxis": {
             "endlinecolor": "#2a3f5f",
             "gridcolor": "white",
             "linecolor": "white",
             "minorgridcolor": "white",
             "startlinecolor": "#2a3f5f"
            },
            "baxis": {
             "endlinecolor": "#2a3f5f",
             "gridcolor": "white",
             "linecolor": "white",
             "minorgridcolor": "white",
             "startlinecolor": "#2a3f5f"
            },
            "type": "carpet"
           }
          ],
          "choropleth": [
           {
            "colorbar": {
             "outlinewidth": 0,
             "ticks": ""
            },
            "type": "choropleth"
           }
          ],
          "contour": [
           {
            "colorbar": {
             "outlinewidth": 0,
             "ticks": ""
            },
            "colorscale": [
             [
              0,
              "#0d0887"
             ],
             [
              0.1111111111111111,
              "#46039f"
             ],
             [
              0.2222222222222222,
              "#7201a8"
             ],
             [
              0.3333333333333333,
              "#9c179e"
             ],
             [
              0.4444444444444444,
              "#bd3786"
             ],
             [
              0.5555555555555556,
              "#d8576b"
             ],
             [
              0.6666666666666666,
              "#ed7953"
             ],
             [
              0.7777777777777778,
              "#fb9f3a"
             ],
             [
              0.8888888888888888,
              "#fdca26"
             ],
             [
              1,
              "#f0f921"
             ]
            ],
            "type": "contour"
           }
          ],
          "contourcarpet": [
           {
            "colorbar": {
             "outlinewidth": 0,
             "ticks": ""
            },
            "type": "contourcarpet"
           }
          ],
          "heatmap": [
           {
            "colorbar": {
             "outlinewidth": 0,
             "ticks": ""
            },
            "colorscale": [
             [
              0,
              "#0d0887"
             ],
             [
              0.1111111111111111,
              "#46039f"
             ],
             [
              0.2222222222222222,
              "#7201a8"
             ],
             [
              0.3333333333333333,
              "#9c179e"
             ],
             [
              0.4444444444444444,
              "#bd3786"
             ],
             [
              0.5555555555555556,
              "#d8576b"
             ],
             [
              0.6666666666666666,
              "#ed7953"
             ],
             [
              0.7777777777777778,
              "#fb9f3a"
             ],
             [
              0.8888888888888888,
              "#fdca26"
             ],
             [
              1,
              "#f0f921"
             ]
            ],
            "type": "heatmap"
           }
          ],
          "heatmapgl": [
           {
            "colorbar": {
             "outlinewidth": 0,
             "ticks": ""
            },
            "colorscale": [
             [
              0,
              "#0d0887"
             ],
             [
              0.1111111111111111,
              "#46039f"
             ],
             [
              0.2222222222222222,
              "#7201a8"
             ],
             [
              0.3333333333333333,
              "#9c179e"
             ],
             [
              0.4444444444444444,
              "#bd3786"
             ],
             [
              0.5555555555555556,
              "#d8576b"
             ],
             [
              0.6666666666666666,
              "#ed7953"
             ],
             [
              0.7777777777777778,
              "#fb9f3a"
             ],
             [
              0.8888888888888888,
              "#fdca26"
             ],
             [
              1,
              "#f0f921"
             ]
            ],
            "type": "heatmapgl"
           }
          ],
          "histogram": [
           {
            "marker": {
             "pattern": {
              "fillmode": "overlay",
              "size": 10,
              "solidity": 0.2
             }
            },
            "type": "histogram"
           }
          ],
          "histogram2d": [
           {
            "colorbar": {
             "outlinewidth": 0,
             "ticks": ""
            },
            "colorscale": [
             [
              0,
              "#0d0887"
             ],
             [
              0.1111111111111111,
              "#46039f"
             ],
             [
              0.2222222222222222,
              "#7201a8"
             ],
             [
              0.3333333333333333,
              "#9c179e"
             ],
             [
              0.4444444444444444,
              "#bd3786"
             ],
             [
              0.5555555555555556,
              "#d8576b"
             ],
             [
              0.6666666666666666,
              "#ed7953"
             ],
             [
              0.7777777777777778,
              "#fb9f3a"
             ],
             [
              0.8888888888888888,
              "#fdca26"
             ],
             [
              1,
              "#f0f921"
             ]
            ],
            "type": "histogram2d"
           }
          ],
          "histogram2dcontour": [
           {
            "colorbar": {
             "outlinewidth": 0,
             "ticks": ""
            },
            "colorscale": [
             [
              0,
              "#0d0887"
             ],
             [
              0.1111111111111111,
              "#46039f"
             ],
             [
              0.2222222222222222,
              "#7201a8"
             ],
             [
              0.3333333333333333,
              "#9c179e"
             ],
             [
              0.4444444444444444,
              "#bd3786"
             ],
             [
              0.5555555555555556,
              "#d8576b"
             ],
             [
              0.6666666666666666,
              "#ed7953"
             ],
             [
              0.7777777777777778,
              "#fb9f3a"
             ],
             [
              0.8888888888888888,
              "#fdca26"
             ],
             [
              1,
              "#f0f921"
             ]
            ],
            "type": "histogram2dcontour"
           }
          ],
          "mesh3d": [
           {
            "colorbar": {
             "outlinewidth": 0,
             "ticks": ""
            },
            "type": "mesh3d"
           }
          ],
          "parcoords": [
           {
            "line": {
             "colorbar": {
              "outlinewidth": 0,
              "ticks": ""
             }
            },
            "type": "parcoords"
           }
          ],
          "pie": [
           {
            "automargin": true,
            "type": "pie"
           }
          ],
          "scatter": [
           {
            "fillpattern": {
             "fillmode": "overlay",
             "size": 10,
             "solidity": 0.2
            },
            "type": "scatter"
           }
          ],
          "scatter3d": [
           {
            "line": {
             "colorbar": {
              "outlinewidth": 0,
              "ticks": ""
             }
            },
            "marker": {
             "colorbar": {
              "outlinewidth": 0,
              "ticks": ""
             }
            },
            "type": "scatter3d"
           }
          ],
          "scattercarpet": [
           {
            "marker": {
             "colorbar": {
              "outlinewidth": 0,
              "ticks": ""
             }
            },
            "type": "scattercarpet"
           }
          ],
          "scattergeo": [
           {
            "marker": {
             "colorbar": {
              "outlinewidth": 0,
              "ticks": ""
             }
            },
            "type": "scattergeo"
           }
          ],
          "scattergl": [
           {
            "marker": {
             "colorbar": {
              "outlinewidth": 0,
              "ticks": ""
             }
            },
            "type": "scattergl"
           }
          ],
          "scattermapbox": [
           {
            "marker": {
             "colorbar": {
              "outlinewidth": 0,
              "ticks": ""
             }
            },
            "type": "scattermapbox"
           }
          ],
          "scatterpolar": [
           {
            "marker": {
             "colorbar": {
              "outlinewidth": 0,
              "ticks": ""
             }
            },
            "type": "scatterpolar"
           }
          ],
          "scatterpolargl": [
           {
            "marker": {
             "colorbar": {
              "outlinewidth": 0,
              "ticks": ""
             }
            },
            "type": "scatterpolargl"
           }
          ],
          "scatterternary": [
           {
            "marker": {
             "colorbar": {
              "outlinewidth": 0,
              "ticks": ""
             }
            },
            "type": "scatterternary"
           }
          ],
          "surface": [
           {
            "colorbar": {
             "outlinewidth": 0,
             "ticks": ""
            },
            "colorscale": [
             [
              0,
              "#0d0887"
             ],
             [
              0.1111111111111111,
              "#46039f"
             ],
             [
              0.2222222222222222,
              "#7201a8"
             ],
             [
              0.3333333333333333,
              "#9c179e"
             ],
             [
              0.4444444444444444,
              "#bd3786"
             ],
             [
              0.5555555555555556,
              "#d8576b"
             ],
             [
              0.6666666666666666,
              "#ed7953"
             ],
             [
              0.7777777777777778,
              "#fb9f3a"
             ],
             [
              0.8888888888888888,
              "#fdca26"
             ],
             [
              1,
              "#f0f921"
             ]
            ],
            "type": "surface"
           }
          ],
          "table": [
           {
            "cells": {
             "fill": {
              "color": "#EBF0F8"
             },
             "line": {
              "color": "white"
             }
            },
            "header": {
             "fill": {
              "color": "#C8D4E3"
             },
             "line": {
              "color": "white"
             }
            },
            "type": "table"
           }
          ]
         },
         "layout": {
          "annotationdefaults": {
           "arrowcolor": "#2a3f5f",
           "arrowhead": 0,
           "arrowwidth": 1
          },
          "autotypenumbers": "strict",
          "coloraxis": {
           "colorbar": {
            "outlinewidth": 0,
            "ticks": ""
           }
          },
          "colorscale": {
           "diverging": [
            [
             0,
             "#8e0152"
            ],
            [
             0.1,
             "#c51b7d"
            ],
            [
             0.2,
             "#de77ae"
            ],
            [
             0.3,
             "#f1b6da"
            ],
            [
             0.4,
             "#fde0ef"
            ],
            [
             0.5,
             "#f7f7f7"
            ],
            [
             0.6,
             "#e6f5d0"
            ],
            [
             0.7,
             "#b8e186"
            ],
            [
             0.8,
             "#7fbc41"
            ],
            [
             0.9,
             "#4d9221"
            ],
            [
             1,
             "#276419"
            ]
           ],
           "sequential": [
            [
             0,
             "#0d0887"
            ],
            [
             0.1111111111111111,
             "#46039f"
            ],
            [
             0.2222222222222222,
             "#7201a8"
            ],
            [
             0.3333333333333333,
             "#9c179e"
            ],
            [
             0.4444444444444444,
             "#bd3786"
            ],
            [
             0.5555555555555556,
             "#d8576b"
            ],
            [
             0.6666666666666666,
             "#ed7953"
            ],
            [
             0.7777777777777778,
             "#fb9f3a"
            ],
            [
             0.8888888888888888,
             "#fdca26"
            ],
            [
             1,
             "#f0f921"
            ]
           ],
           "sequentialminus": [
            [
             0,
             "#0d0887"
            ],
            [
             0.1111111111111111,
             "#46039f"
            ],
            [
             0.2222222222222222,
             "#7201a8"
            ],
            [
             0.3333333333333333,
             "#9c179e"
            ],
            [
             0.4444444444444444,
             "#bd3786"
            ],
            [
             0.5555555555555556,
             "#d8576b"
            ],
            [
             0.6666666666666666,
             "#ed7953"
            ],
            [
             0.7777777777777778,
             "#fb9f3a"
            ],
            [
             0.8888888888888888,
             "#fdca26"
            ],
            [
             1,
             "#f0f921"
            ]
           ]
          },
          "colorway": [
           "#636efa",
           "#EF553B",
           "#00cc96",
           "#ab63fa",
           "#FFA15A",
           "#19d3f3",
           "#FF6692",
           "#B6E880",
           "#FF97FF",
           "#FECB52"
          ],
          "font": {
           "color": "#2a3f5f"
          },
          "geo": {
           "bgcolor": "white",
           "lakecolor": "white",
           "landcolor": "#E5ECF6",
           "showlakes": true,
           "showland": true,
           "subunitcolor": "white"
          },
          "hoverlabel": {
           "align": "left"
          },
          "hovermode": "closest",
          "mapbox": {
           "style": "light"
          },
          "paper_bgcolor": "white",
          "plot_bgcolor": "#E5ECF6",
          "polar": {
           "angularaxis": {
            "gridcolor": "white",
            "linecolor": "white",
            "ticks": ""
           },
           "bgcolor": "#E5ECF6",
           "radialaxis": {
            "gridcolor": "white",
            "linecolor": "white",
            "ticks": ""
           }
          },
          "scene": {
           "xaxis": {
            "backgroundcolor": "#E5ECF6",
            "gridcolor": "white",
            "gridwidth": 2,
            "linecolor": "white",
            "showbackground": true,
            "ticks": "",
            "zerolinecolor": "white"
           },
           "yaxis": {
            "backgroundcolor": "#E5ECF6",
            "gridcolor": "white",
            "gridwidth": 2,
            "linecolor": "white",
            "showbackground": true,
            "ticks": "",
            "zerolinecolor": "white"
           },
           "zaxis": {
            "backgroundcolor": "#E5ECF6",
            "gridcolor": "white",
            "gridwidth": 2,
            "linecolor": "white",
            "showbackground": true,
            "ticks": "",
            "zerolinecolor": "white"
           }
          },
          "shapedefaults": {
           "line": {
            "color": "#2a3f5f"
           }
          },
          "ternary": {
           "aaxis": {
            "gridcolor": "white",
            "linecolor": "white",
            "ticks": ""
           },
           "baxis": {
            "gridcolor": "white",
            "linecolor": "white",
            "ticks": ""
           },
           "bgcolor": "#E5ECF6",
           "caxis": {
            "gridcolor": "white",
            "linecolor": "white",
            "ticks": ""
           }
          },
          "title": {
           "x": 0.05
          },
          "xaxis": {
           "automargin": true,
           "gridcolor": "white",
           "linecolor": "white",
           "ticks": "",
           "title": {
            "standoff": 15
           },
           "zerolinecolor": "white",
           "zerolinewidth": 2
          },
          "yaxis": {
           "automargin": true,
           "gridcolor": "white",
           "linecolor": "white",
           "ticks": "",
           "title": {
            "standoff": 15
           },
           "zerolinecolor": "white",
           "zerolinewidth": 2
          }
         }
        },
        "xaxis": {
         "anchor": "y",
         "domain": [
          0,
          1
         ],
         "title": {
          "text": "monthly_income"
         }
        },
        "yaxis": {
         "anchor": "x",
         "domain": [
          0,
          1
         ],
         "title": {
          "text": "preferred_payment_method"
         }
        }
       }
      },
      "text/html": [
       "<div>                            <div id=\"b4d7a417-177d-4274-9d90-14374682a24e\" class=\"plotly-graph-div\" style=\"height:525px; width:100%;\"></div>            <script type=\"text/javascript\">                require([\"plotly\"], function(Plotly) {                    window.PLOTLYENV=window.PLOTLYENV || {};                                    if (document.getElementById(\"b4d7a417-177d-4274-9d90-14374682a24e\")) {                    Plotly.newPlot(                        \"b4d7a417-177d-4274-9d90-14374682a24e\",                        [{\"hovertemplate\":\"monthly_income=%{x}\\u003cbr\\u003epreferred_payment_method=%{y}\\u003cextra\\u003e\\u003c\\u002fextra\\u003e\",\"legendgroup\":\"\",\"marker\":{\"color\":\"#636efa\"},\"name\":\"\",\"orientation\":\"h\",\"showlegend\":false,\"x\":[958,1006,734,617,810,523,1354,631,1402,1423,762,1068,719,1176,1496,1227,1419,1454,1487,1157,1180,516,1225,582,1062,1054,667,796,905,531,1426,1465,522,1338,1363,1328,1350,1309,965,600,605,804,1274,509,1285,929,1163,1195,1036,588,1377,1451,669,1294,941,1131,854,1158,668,695,1375,1084,733,1061,1352,1092,963,1204,1184,562,1218,1235,1424,1176,1334,1442,983,914,898,1164,1484,1127,1105,1351,930,1346,1240,727,622,800,1199,1006,1295,1222,1384,1035,1395,767,933,803,1333,1115,920,780,882,959,748,810,965,784,970,1349,760,702,720,1286,1135,1030,1265,1175,1083,1487,1327,1095,1460,1354,836,1212,1483,998,885,726,1037,1456,676,571,1213,1112,1100,526,951,1301,1103,1083,860,1354,877,649,897,1147,1367,647,656,1131,1319,917,872,901,536,506,1201,1189,546,1181,810,855,1354,1056,620,1207,621,1033,722,1304,912,963,1286,1104,697,1230,1345,1411,1355,608,566,1310,1354,1020,1394,954,1448,968,1450,1316,904,1488,893,527,804,547,523,1040,918,504,1203,951,857,812,540,889,992,760,1199,578,994,552,1444,1203,1481,700,1087,672,825,1033,774,1365,810,856,985,919,637,894,874,850,879,811,809,596,856,886,1205,1353,1268,1112,1206,1159,1250,1120,1277,1442,776,800,1078,1404,1097,835,755,1087,931,983,639,527,744,1118,1276,880,1424,1276,697,1379,1466,1126,1126,618,785,770,1431,1338,1121,1245,748,1389,1122,1113,879,1489,869,1381,1325,581,694,615,1394,800,913,1243,655,667,1458,925,1105,737,1495,1298,1272,511,1161,1112,958,1176,727,1483,881,1347,725,1000,795,869,543,1470,734,669,1336,1436,1339,609,1036,1309,1471,658,684,907,846,1175,659,1488,1190,742,914,1485,582,1468,1021,760,969,990,1304,805,1179,573,843,1085,580,975,602,1103,816,1016,969,918,982,1021,521,1444,646,1296,1360,1123,1020,736,931,1443,730,561,1212,1282,1438,702,1433,1444,536,1260,701,1309,842,617,1134,992,1408,1368,716,1224,1349,802,973,736,571,833,713,1268,819,1268,1486,1005,1205,1356,817,706,1102,1279,1457,1306,1309,1482,1468,869,886,1443,766,1403,1372,1428,1303,572,558,1049,923,621,660,528,640,1427,527,1295,1219,959,1483,646,818,1268,563,1253,791,847,668,1022,725,733,684,604,1346,1464,1258,925,927,1230,1437,989,910,1323,668,1004,1415,948,1010,873,921,1459,672,1461,1492,627,961,954,1486,1331,551,1352,1437,1146,1341,1331,1195,1247,663,861,568,802,821,1009,526,502,860,1420,540,737,503,673,681,1356,1062,1399,1402,1184,743,1384,997,618,1320,959,950,1286,893,1126,679,803,664,1500,1005,883,1428,906,991,1246,1273,880,1356,916,1059,941,764,983,1295,1301,829,1296,1278,725,525,1006,872,549,885,1197,539,804,1109,1126,849,503,1293,903,1149,1363,1056,1245,1149,1226,965,1338,1414,1232,528,1377,1078,766,1289,887,1040,940,895,1113,982,1401,772,912,946,834,695,1479,994,843,1412,727,622,1392,1491,1038,854,1415,1136,971,1115,523,533,1129,739,1099,610,1305,1263,656,975,1459,1302,1115,816,1358,1054,1372,1101,1258,1399,1469,560,527,1165,996,630,542,648,639,729,1021,1229,660,1343,833,555,541,748,1477,1236,592,558,925,719,981,1381,929,1245,691,1326,1000,592,1227,575,1298,1141,703,929,1415,1359,1162,663,1432,663,1327,1045,619,815,728,941,1176,1092,1439,816,1413,1076,559,1144,1296,958,775,1483,1304,1400,1440,1460,1379,942,740,1186,731,1347,1085,665,1422,1366,714,1259,975,1420,604,1250,567,546,1169,834,1117,677,1433,889,670,645,1107,750,654,1141,811,1452,1255,737,1419,815,1034,1022,1341,999,1218,1332,903,932,634,553,547,867,863,603,1480,522,1376,1195,1223,613,844,620,983,996,1106,1032,1419,610,1449,1270,770,911,1303,1367,509,804,1268,1492,1402,673,1174,635,792,998,866,1408,732,1107,1165,1316,1471,536,1045,609,581,1106,1316,574,1115,1257,1069,757,794,1139,598,514,1479,633,1437,1135,1433,824,967,1126,885,525,1009,1478,547,549,1326,761,1344,895,1036,664,1403,1094,789,587,509,1382,1301,777,505,866,1329,1372,1004,1415,639,1397,935,882,1398,1461,1430,953,1456,892,539,1024,1405,691,1157,555,1245,1227,825,1359,556,1110,518,932,683,1397,1201,1402,844,1366,923,542,1130,848,1022,1189,771,1280,933,1257,1313,1034,669,728,569,960,1288,556,1413,957,1084,1270,845,1423,683,1309,888,1496,965,1329,1021,501,1223,1495,862,1037,505,1193,1452,1422,717,1333,978,1141,1399,1200,1053,1118,1094,1252,686,513,1174,1224,975,1435,894,1168,1482,1385,1476,812,1191,1440,1447,1030,1034,1406,1086,1334,507,1483,888,1204,1047,1279,613,1280,696,1191,1287,1391,1345,1344,779,1123,1038,595,1345,534,1176,836,1047,865,1148,696,778,1140,557,948,1249,1092,717,857,1021,1056,758,653,643,668,645,1020,1128,1186,528,774,1236,938,1169,1061,514,1015,743,913,1142,868,1464,1260,1326,1219,1038,1418,1385,553,1013,1019,669,933,1166,1197,973,1381,1082,1160,1011,1412,1391,1293,1380,764,1346,1407,957,1174,541],\"xaxis\":\"x\",\"y\":[\"Credit\\u002fDebit Card\",\"Credit\\u002fDebit Card\",\"Cash\",\"Mobile Payment App\",\"Credit\\u002fDebit Card\",\"Mobile Payment App\",\"Credit\\u002fDebit Card\",\"Mobile Payment App\",\"Credit\\u002fDebit Card\",\"Mobile Payment App\",\"Credit\\u002fDebit Card\",\"Credit\\u002fDebit Card\",\"Credit\\u002fDebit Card\",\"Mobile Payment App\",\"Cash\",\"Cash\",\"Cash\",\"Mobile Payment App\",\"Credit\\u002fDebit Card\",\"Mobile Payment App\",\"Credit\\u002fDebit Card\",\"Mobile Payment App\",\"Cash\",\"Credit\\u002fDebit Card\",\"Mobile Payment App\",\"Mobile Payment App\",\"Credit\\u002fDebit Card\",\"Credit\\u002fDebit Card\",\"Credit\\u002fDebit Card\",\"Mobile Payment App\",\"Mobile Payment App\",\"Mobile Payment App\",\"Credit\\u002fDebit Card\",\"Cash\",\"Mobile Payment App\",\"Cash\",\"Cash\",\"Cash\",\"Cash\",\"Mobile Payment App\",\"Mobile Payment App\",\"Cash\",\"Cash\",\"Credit\\u002fDebit Card\",\"Credit\\u002fDebit Card\",\"Credit\\u002fDebit Card\",\"Cash\",\"Mobile Payment App\",\"Cash\",\"Mobile Payment App\",\"Cash\",\"Credit\\u002fDebit Card\",\"Cash\",\"Mobile Payment App\",\"Mobile Payment App\",\"Cash\",\"Cash\",\"Mobile Payment App\",\"Mobile Payment App\",\"Mobile Payment App\",\"Mobile Payment App\",\"Mobile Payment App\",\"Cash\",\"Mobile Payment App\",\"Mobile Payment App\",\"Mobile Payment App\",\"Mobile Payment App\",\"Credit\\u002fDebit Card\",\"Mobile Payment App\",\"Mobile Payment App\",\"Mobile Payment App\",\"Cash\",\"Cash\",\"Mobile Payment App\",\"Credit\\u002fDebit Card\",\"Cash\",\"Cash\",\"Credit\\u002fDebit Card\",\"Cash\",\"Cash\",\"Mobile Payment App\",\"Mobile Payment App\",\"Cash\",\"Mobile Payment App\",\"Mobile Payment App\",\"Credit\\u002fDebit Card\",\"Credit\\u002fDebit Card\",\"Credit\\u002fDebit Card\",\"Mobile Payment App\",\"Credit\\u002fDebit Card\",\"Credit\\u002fDebit Card\",\"Cash\",\"Mobile Payment App\",\"Mobile Payment App\",\"Credit\\u002fDebit Card\",\"Credit\\u002fDebit Card\",\"Credit\\u002fDebit Card\",\"Credit\\u002fDebit Card\",\"Cash\",\"Mobile Payment App\",\"Cash\",\"Mobile Payment App\",\"Cash\",\"Cash\",\"Mobile Payment App\",\"Cash\",\"Mobile Payment App\",\"Mobile Payment App\",\"Mobile Payment App\",\"Credit\\u002fDebit Card\",\"Mobile Payment App\",\"Credit\\u002fDebit Card\",\"Credit\\u002fDebit Card\",\"Cash\",\"Mobile Payment App\",\"Mobile Payment App\",\"Cash\",\"Credit\\u002fDebit Card\",\"Credit\\u002fDebit Card\",\"Mobile Payment App\",\"Mobile Payment App\",\"Mobile Payment App\",\"Cash\",\"Credit\\u002fDebit Card\",\"Mobile Payment App\",\"Credit\\u002fDebit Card\",\"Cash\",\"Credit\\u002fDebit Card\",\"Credit\\u002fDebit Card\",\"Credit\\u002fDebit Card\",\"Credit\\u002fDebit Card\",\"Credit\\u002fDebit Card\",\"Mobile Payment App\",\"Mobile Payment App\",\"Mobile Payment App\",\"Mobile Payment App\",\"Mobile Payment App\",\"Cash\",\"Credit\\u002fDebit Card\",\"Cash\",\"Mobile Payment App\",\"Cash\",\"Mobile Payment App\",\"Cash\",\"Cash\",\"Cash\",\"Credit\\u002fDebit Card\",\"Credit\\u002fDebit Card\",\"Credit\\u002fDebit Card\",\"Mobile Payment App\",\"Credit\\u002fDebit Card\",\"Cash\",\"Credit\\u002fDebit Card\",\"Mobile Payment App\",\"Cash\",\"Credit\\u002fDebit Card\",\"Credit\\u002fDebit Card\",\"Mobile Payment App\",\"Credit\\u002fDebit Card\",\"Mobile Payment App\",\"Credit\\u002fDebit Card\",\"Cash\",\"Credit\\u002fDebit Card\",\"Cash\",\"Cash\",\"Cash\",\"Cash\",\"Cash\",\"Credit\\u002fDebit Card\",\"Cash\",\"Cash\",\"Mobile Payment App\",\"Mobile Payment App\",\"Mobile Payment App\",\"Credit\\u002fDebit Card\",\"Cash\",\"Mobile Payment App\",\"Credit\\u002fDebit Card\",\"Cash\",\"Cash\",\"Mobile Payment App\",\"Mobile Payment App\",\"Credit\\u002fDebit Card\",\"Mobile Payment App\",\"Credit\\u002fDebit Card\",\"Mobile Payment App\",\"Credit\\u002fDebit Card\",\"Cash\",\"Cash\",\"Credit\\u002fDebit Card\",\"Mobile Payment App\",\"Credit\\u002fDebit Card\",\"Credit\\u002fDebit Card\",\"Credit\\u002fDebit Card\",\"Cash\",\"Cash\",\"Cash\",\"Credit\\u002fDebit Card\",\"Credit\\u002fDebit Card\",\"Credit\\u002fDebit Card\",\"Cash\",\"Credit\\u002fDebit Card\",\"Credit\\u002fDebit Card\",\"Credit\\u002fDebit Card\",\"Cash\",\"Mobile Payment App\",\"Mobile Payment App\",\"Cash\",\"Credit\\u002fDebit Card\",\"Cash\",\"Credit\\u002fDebit Card\",\"Mobile Payment App\",\"Credit\\u002fDebit Card\",\"Credit\\u002fDebit Card\",\"Cash\",\"Mobile Payment App\",\"Credit\\u002fDebit Card\",\"Mobile Payment App\",\"Credit\\u002fDebit Card\",\"Credit\\u002fDebit Card\",\"Mobile Payment App\",\"Mobile Payment App\",\"Credit\\u002fDebit Card\",\"Cash\",\"Credit\\u002fDebit Card\",\"Credit\\u002fDebit Card\",\"Mobile Payment App\",\"Mobile Payment App\",\"Credit\\u002fDebit Card\",\"Credit\\u002fDebit Card\",\"Cash\",\"Credit\\u002fDebit Card\",\"Cash\",\"Credit\\u002fDebit Card\",\"Credit\\u002fDebit Card\",\"Credit\\u002fDebit Card\",\"Cash\",\"Credit\\u002fDebit Card\",\"Mobile Payment App\",\"Mobile Payment App\",\"Mobile Payment App\",\"Cash\",\"Cash\",\"Cash\",\"Cash\",\"Mobile Payment App\",\"Mobile Payment App\",\"Mobile Payment App\",\"Cash\",\"Mobile Payment App\",\"Cash\",\"Mobile Payment App\",\"Credit\\u002fDebit Card\",\"Mobile Payment App\",\"Credit\\u002fDebit Card\",\"Credit\\u002fDebit Card\",\"Credit\\u002fDebit Card\",\"Credit\\u002fDebit Card\",\"Cash\",\"Credit\\u002fDebit Card\",\"Mobile Payment App\",\"Mobile Payment App\",\"Mobile Payment App\",\"Mobile Payment App\",\"Credit\\u002fDebit Card\",\"Cash\",\"Mobile Payment App\",\"Mobile Payment App\",\"Mobile Payment App\",\"Mobile Payment App\",\"Credit\\u002fDebit Card\",\"Cash\",\"Cash\",\"Cash\",\"Mobile Payment App\",\"Cash\",\"Credit\\u002fDebit Card\",\"Credit\\u002fDebit Card\",\"Mobile Payment App\",\"Credit\\u002fDebit Card\",\"Mobile Payment App\",\"Credit\\u002fDebit Card\",\"Credit\\u002fDebit Card\",\"Cash\",\"Cash\",\"Mobile Payment App\",\"Cash\",\"Mobile Payment App\",\"Cash\",\"Cash\",\"Mobile Payment App\",\"Mobile Payment App\",\"Credit\\u002fDebit Card\",\"Credit\\u002fDebit Card\",\"Cash\",\"Mobile Payment App\",\"Credit\\u002fDebit Card\",\"Credit\\u002fDebit Card\",\"Credit\\u002fDebit Card\",\"Mobile Payment App\",\"Credit\\u002fDebit Card\",\"Cash\",\"Mobile Payment App\",\"Mobile Payment App\",\"Credit\\u002fDebit Card\",\"Credit\\u002fDebit Card\",\"Credit\\u002fDebit Card\",\"Mobile Payment App\",\"Cash\",\"Credit\\u002fDebit Card\",\"Cash\",\"Credit\\u002fDebit Card\",\"Credit\\u002fDebit Card\",\"Mobile Payment App\",\"Mobile Payment App\",\"Credit\\u002fDebit Card\",\"Credit\\u002fDebit Card\",\"Mobile Payment App\",\"Credit\\u002fDebit Card\",\"Credit\\u002fDebit Card\",\"Cash\",\"Mobile Payment App\",\"Cash\",\"Mobile Payment App\",\"Mobile Payment App\",\"Credit\\u002fDebit Card\",\"Mobile Payment App\",\"Mobile Payment App\",\"Cash\",\"Mobile Payment App\",\"Mobile Payment App\",\"Credit\\u002fDebit Card\",\"Mobile Payment App\",\"Cash\",\"Credit\\u002fDebit Card\",\"Cash\",\"Cash\",\"Credit\\u002fDebit Card\",\"Credit\\u002fDebit Card\",\"Cash\",\"Credit\\u002fDebit Card\",\"Credit\\u002fDebit Card\",\"Cash\",\"Mobile Payment App\",\"Cash\",\"Mobile Payment App\",\"Cash\",\"Credit\\u002fDebit Card\",\"Credit\\u002fDebit Card\",\"Mobile Payment App\",\"Mobile Payment App\",\"Mobile Payment App\",\"Credit\\u002fDebit Card\",\"Cash\",\"Credit\\u002fDebit Card\",\"Cash\",\"Mobile Payment App\",\"Cash\",\"Cash\",\"Credit\\u002fDebit Card\",\"Mobile Payment App\",\"Cash\",\"Mobile Payment App\",\"Mobile Payment App\",\"Credit\\u002fDebit Card\",\"Mobile Payment App\",\"Mobile Payment App\",\"Cash\",\"Mobile Payment App\",\"Credit\\u002fDebit Card\",\"Cash\",\"Mobile Payment App\",\"Cash\",\"Mobile Payment App\",\"Cash\",\"Cash\",\"Mobile Payment App\",\"Credit\\u002fDebit Card\",\"Credit\\u002fDebit Card\",\"Cash\",\"Cash\",\"Credit\\u002fDebit Card\",\"Cash\",\"Cash\",\"Credit\\u002fDebit Card\",\"Credit\\u002fDebit Card\",\"Cash\",\"Mobile Payment App\",\"Mobile Payment App\",\"Mobile Payment App\",\"Cash\",\"Credit\\u002fDebit Card\",\"Cash\",\"Cash\",\"Cash\",\"Mobile Payment App\",\"Mobile Payment App\",\"Cash\",\"Credit\\u002fDebit Card\",\"Cash\",\"Mobile Payment App\",\"Credit\\u002fDebit Card\",\"Mobile Payment App\",\"Cash\",\"Credit\\u002fDebit Card\",\"Mobile Payment App\",\"Mobile Payment App\",\"Cash\",\"Cash\",\"Credit\\u002fDebit Card\",\"Credit\\u002fDebit Card\",\"Cash\",\"Credit\\u002fDebit Card\",\"Credit\\u002fDebit Card\",\"Mobile Payment App\",\"Credit\\u002fDebit Card\",\"Mobile Payment App\",\"Mobile Payment App\",\"Cash\",\"Cash\",\"Credit\\u002fDebit Card\",\"Mobile Payment App\",\"Cash\",\"Credit\\u002fDebit Card\",\"Credit\\u002fDebit Card\",\"Mobile Payment App\",\"Credit\\u002fDebit Card\",\"Cash\",\"Mobile Payment App\",\"Mobile Payment App\",\"Mobile Payment App\",\"Mobile Payment App\",\"Cash\",\"Cash\",\"Cash\",\"Cash\",\"Credit\\u002fDebit Card\",\"Mobile Payment App\",\"Credit\\u002fDebit Card\",\"Credit\\u002fDebit Card\",\"Mobile Payment App\",\"Credit\\u002fDebit Card\",\"Cash\",\"Cash\",\"Mobile Payment App\",\"Cash\",\"Cash\",\"Credit\\u002fDebit Card\",\"Mobile Payment App\",\"Mobile Payment App\",\"Mobile Payment App\",\"Credit\\u002fDebit Card\",\"Cash\",\"Cash\",\"Mobile Payment App\",\"Mobile Payment App\",\"Credit\\u002fDebit Card\",\"Credit\\u002fDebit Card\",\"Cash\",\"Cash\",\"Mobile Payment App\",\"Credit\\u002fDebit Card\",\"Credit\\u002fDebit Card\",\"Credit\\u002fDebit Card\",\"Mobile Payment App\",\"Credit\\u002fDebit Card\",\"Cash\",\"Mobile Payment App\",\"Credit\\u002fDebit Card\",\"Mobile Payment App\",\"Credit\\u002fDebit Card\",\"Cash\",\"Mobile Payment App\",\"Credit\\u002fDebit Card\",\"Mobile Payment App\",\"Mobile Payment App\",\"Cash\",\"Credit\\u002fDebit Card\",\"Mobile Payment App\",\"Mobile Payment App\",\"Credit\\u002fDebit Card\",\"Mobile Payment App\",\"Mobile Payment App\",\"Cash\",\"Cash\",\"Credit\\u002fDebit Card\",\"Credit\\u002fDebit Card\",\"Credit\\u002fDebit Card\",\"Cash\",\"Credit\\u002fDebit Card\",\"Mobile Payment App\",\"Mobile Payment App\",\"Mobile Payment App\",\"Cash\",\"Mobile Payment App\",\"Mobile Payment App\",\"Cash\",\"Mobile Payment App\",\"Cash\",\"Mobile Payment App\",\"Credit\\u002fDebit Card\",\"Cash\",\"Cash\",\"Cash\",\"Cash\",\"Mobile Payment App\",\"Credit\\u002fDebit Card\",\"Credit\\u002fDebit Card\",\"Cash\",\"Cash\",\"Mobile Payment App\",\"Credit\\u002fDebit Card\",\"Cash\",\"Cash\",\"Mobile Payment App\",\"Credit\\u002fDebit Card\",\"Credit\\u002fDebit Card\",\"Cash\",\"Credit\\u002fDebit Card\",\"Credit\\u002fDebit Card\",\"Cash\",\"Cash\",\"Cash\",\"Mobile Payment App\",\"Credit\\u002fDebit Card\",\"Credit\\u002fDebit Card\",\"Credit\\u002fDebit Card\",\"Credit\\u002fDebit Card\",\"Credit\\u002fDebit Card\",\"Credit\\u002fDebit Card\",\"Mobile Payment App\",\"Cash\",\"Mobile Payment App\",\"Cash\",\"Cash\",\"Credit\\u002fDebit Card\",\"Credit\\u002fDebit Card\",\"Credit\\u002fDebit Card\",\"Cash\",\"Mobile Payment App\",\"Mobile Payment App\",\"Credit\\u002fDebit Card\",\"Cash\",\"Mobile Payment App\",\"Cash\",\"Cash\",\"Mobile Payment App\",\"Credit\\u002fDebit Card\",\"Cash\",\"Credit\\u002fDebit Card\",\"Mobile Payment App\",\"Credit\\u002fDebit Card\",\"Credit\\u002fDebit Card\",\"Mobile Payment App\",\"Cash\",\"Mobile Payment App\",\"Mobile Payment App\",\"Cash\",\"Mobile Payment App\",\"Credit\\u002fDebit Card\",\"Credit\\u002fDebit Card\",\"Mobile Payment App\",\"Cash\",\"Credit\\u002fDebit Card\",\"Credit\\u002fDebit Card\",\"Cash\",\"Credit\\u002fDebit Card\",\"Cash\",\"Cash\",\"Credit\\u002fDebit Card\",\"Mobile Payment App\",\"Credit\\u002fDebit Card\",\"Cash\",\"Credit\\u002fDebit Card\",\"Mobile Payment App\",\"Credit\\u002fDebit Card\",\"Cash\",\"Mobile Payment App\",\"Cash\",\"Cash\",\"Mobile Payment App\",\"Mobile Payment App\",\"Mobile Payment App\",\"Credit\\u002fDebit Card\",\"Mobile Payment App\",\"Credit\\u002fDebit Card\",\"Credit\\u002fDebit Card\",\"Mobile Payment App\",\"Mobile Payment App\",\"Cash\",\"Mobile Payment App\",\"Credit\\u002fDebit Card\",\"Mobile Payment App\",\"Cash\",\"Credit\\u002fDebit Card\",\"Cash\",\"Credit\\u002fDebit Card\",\"Mobile Payment App\",\"Mobile Payment App\",\"Credit\\u002fDebit Card\",\"Cash\",\"Cash\",\"Credit\\u002fDebit Card\",\"Mobile Payment App\",\"Mobile Payment App\",\"Mobile Payment App\",\"Mobile Payment App\",\"Mobile Payment App\",\"Cash\",\"Credit\\u002fDebit Card\",\"Mobile Payment App\",\"Cash\",\"Cash\",\"Cash\",\"Cash\",\"Credit\\u002fDebit Card\",\"Mobile Payment App\",\"Credit\\u002fDebit Card\",\"Cash\",\"Mobile Payment App\",\"Credit\\u002fDebit Card\",\"Credit\\u002fDebit Card\",\"Cash\",\"Mobile Payment App\",\"Credit\\u002fDebit Card\",\"Credit\\u002fDebit Card\",\"Cash\",\"Cash\",\"Cash\",\"Credit\\u002fDebit Card\",\"Credit\\u002fDebit Card\",\"Cash\",\"Credit\\u002fDebit Card\",\"Cash\",\"Mobile Payment App\",\"Credit\\u002fDebit Card\",\"Mobile Payment App\",\"Credit\\u002fDebit Card\",\"Credit\\u002fDebit Card\",\"Cash\",\"Mobile Payment App\",\"Mobile Payment App\",\"Credit\\u002fDebit Card\",\"Credit\\u002fDebit Card\",\"Credit\\u002fDebit Card\",\"Mobile Payment App\",\"Cash\",\"Credit\\u002fDebit Card\",\"Cash\",\"Credit\\u002fDebit Card\",\"Mobile Payment App\",\"Mobile Payment App\",\"Credit\\u002fDebit Card\",\"Cash\",\"Credit\\u002fDebit Card\",\"Credit\\u002fDebit Card\",\"Mobile Payment App\",\"Credit\\u002fDebit Card\",\"Credit\\u002fDebit Card\",\"Credit\\u002fDebit Card\",\"Cash\",\"Cash\",\"Mobile Payment App\",\"Credit\\u002fDebit Card\",\"Credit\\u002fDebit Card\",\"Mobile Payment App\",\"Credit\\u002fDebit Card\",\"Cash\",\"Cash\",\"Credit\\u002fDebit Card\",\"Credit\\u002fDebit Card\",\"Credit\\u002fDebit Card\",\"Cash\",\"Credit\\u002fDebit Card\",\"Mobile Payment App\",\"Mobile Payment App\",\"Mobile Payment App\",\"Mobile Payment App\",\"Credit\\u002fDebit Card\",\"Credit\\u002fDebit Card\",\"Mobile Payment App\",\"Cash\",\"Cash\",\"Cash\",\"Cash\",\"Cash\",\"Mobile Payment App\",\"Cash\",\"Mobile Payment App\",\"Mobile Payment App\",\"Credit\\u002fDebit Card\",\"Mobile Payment App\",\"Cash\",\"Cash\",\"Cash\",\"Mobile Payment App\",\"Cash\",\"Mobile Payment App\",\"Credit\\u002fDebit Card\",\"Mobile Payment App\",\"Mobile Payment App\",\"Cash\",\"Credit\\u002fDebit Card\",\"Credit\\u002fDebit Card\",\"Credit\\u002fDebit Card\",\"Mobile Payment App\",\"Cash\",\"Mobile Payment App\",\"Cash\",\"Cash\",\"Mobile Payment App\",\"Mobile Payment App\",\"Credit\\u002fDebit Card\",\"Credit\\u002fDebit Card\",\"Cash\",\"Credit\\u002fDebit Card\",\"Mobile Payment App\",\"Cash\",\"Mobile Payment App\",\"Mobile Payment App\",\"Cash\",\"Credit\\u002fDebit Card\",\"Mobile Payment App\",\"Cash\",\"Credit\\u002fDebit Card\",\"Cash\",\"Cash\",\"Mobile Payment App\",\"Mobile Payment App\",\"Credit\\u002fDebit Card\",\"Mobile Payment App\",\"Cash\",\"Credit\\u002fDebit Card\",\"Credit\\u002fDebit Card\",\"Cash\",\"Mobile Payment App\",\"Cash\",\"Credit\\u002fDebit Card\",\"Mobile Payment App\",\"Cash\",\"Credit\\u002fDebit Card\",\"Credit\\u002fDebit Card\",\"Cash\",\"Cash\",\"Credit\\u002fDebit Card\",\"Mobile Payment App\",\"Credit\\u002fDebit Card\",\"Credit\\u002fDebit Card\",\"Credit\\u002fDebit Card\",\"Credit\\u002fDebit Card\",\"Cash\",\"Credit\\u002fDebit Card\",\"Cash\",\"Cash\",\"Credit\\u002fDebit Card\",\"Cash\",\"Credit\\u002fDebit Card\",\"Credit\\u002fDebit Card\",\"Mobile Payment App\",\"Credit\\u002fDebit Card\",\"Cash\",\"Credit\\u002fDebit Card\",\"Cash\",\"Cash\",\"Credit\\u002fDebit Card\",\"Cash\",\"Cash\",\"Credit\\u002fDebit Card\",\"Mobile Payment App\",\"Mobile Payment App\",\"Credit\\u002fDebit Card\",\"Credit\\u002fDebit Card\",\"Credit\\u002fDebit Card\",\"Mobile Payment App\",\"Credit\\u002fDebit Card\",\"Cash\",\"Credit\\u002fDebit Card\",\"Cash\",\"Credit\\u002fDebit Card\",\"Cash\",\"Mobile Payment App\",\"Mobile Payment App\",\"Credit\\u002fDebit Card\",\"Credit\\u002fDebit Card\",\"Credit\\u002fDebit Card\",\"Cash\",\"Credit\\u002fDebit Card\",\"Mobile Payment App\",\"Mobile Payment App\",\"Credit\\u002fDebit Card\",\"Credit\\u002fDebit Card\",\"Mobile Payment App\",\"Mobile Payment App\",\"Mobile Payment App\",\"Credit\\u002fDebit Card\",\"Mobile Payment App\",\"Cash\",\"Cash\",\"Credit\\u002fDebit Card\",\"Mobile Payment App\",\"Credit\\u002fDebit Card\",\"Cash\",\"Cash\",\"Mobile Payment App\",\"Cash\",\"Mobile Payment App\",\"Credit\\u002fDebit Card\",\"Mobile Payment App\",\"Mobile Payment App\",\"Cash\",\"Cash\",\"Mobile Payment App\",\"Cash\",\"Credit\\u002fDebit Card\",\"Cash\",\"Mobile Payment App\",\"Credit\\u002fDebit Card\",\"Mobile Payment App\",\"Credit\\u002fDebit Card\",\"Mobile Payment App\",\"Cash\",\"Mobile Payment App\",\"Credit\\u002fDebit Card\",\"Mobile Payment App\",\"Credit\\u002fDebit Card\",\"Mobile Payment App\",\"Cash\",\"Mobile Payment App\",\"Credit\\u002fDebit Card\",\"Mobile Payment App\",\"Credit\\u002fDebit Card\",\"Credit\\u002fDebit Card\",\"Credit\\u002fDebit Card\",\"Mobile Payment App\",\"Credit\\u002fDebit Card\",\"Mobile Payment App\",\"Mobile Payment App\",\"Mobile Payment App\",\"Mobile Payment App\",\"Mobile Payment App\",\"Cash\",\"Credit\\u002fDebit Card\",\"Mobile Payment App\",\"Credit\\u002fDebit Card\",\"Credit\\u002fDebit Card\",\"Credit\\u002fDebit Card\",\"Cash\",\"Credit\\u002fDebit Card\",\"Mobile Payment App\",\"Cash\",\"Credit\\u002fDebit Card\",\"Mobile Payment App\",\"Credit\\u002fDebit Card\",\"Cash\",\"Mobile Payment App\",\"Cash\",\"Mobile Payment App\",\"Mobile Payment App\",\"Mobile Payment App\",\"Mobile Payment App\",\"Cash\",\"Cash\",\"Cash\",\"Cash\",\"Cash\",\"Mobile Payment App\",\"Mobile Payment App\",\"Mobile Payment App\",\"Cash\",\"Cash\",\"Mobile Payment App\",\"Credit\\u002fDebit Card\",\"Credit\\u002fDebit Card\",\"Cash\",\"Cash\",\"Mobile Payment App\",\"Mobile Payment App\",\"Mobile Payment App\",\"Cash\",\"Cash\",\"Credit\\u002fDebit Card\",\"Cash\",\"Credit\\u002fDebit Card\",\"Credit\\u002fDebit Card\",\"Cash\",\"Cash\",\"Credit\\u002fDebit Card\",\"Cash\",\"Mobile Payment App\",\"Mobile Payment App\",\"Cash\",\"Mobile Payment App\",\"Cash\",\"Mobile Payment App\",\"Credit\\u002fDebit Card\",\"Mobile Payment App\",\"Cash\",\"Cash\",\"Cash\",\"Credit\\u002fDebit Card\",\"Mobile Payment App\",\"Credit\\u002fDebit Card\",\"Cash\",\"Credit\\u002fDebit Card\",\"Mobile Payment App\",\"Mobile Payment App\",\"Mobile Payment App\",\"Cash\",\"Cash\",\"Credit\\u002fDebit Card\",\"Mobile Payment App\",\"Credit\\u002fDebit Card\",\"Mobile Payment App\",\"Credit\\u002fDebit Card\",\"Mobile Payment App\",\"Cash\",\"Mobile Payment App\",\"Credit\\u002fDebit Card\",\"Credit\\u002fDebit Card\",\"Cash\",\"Credit\\u002fDebit Card\",\"Mobile Payment App\",\"Credit\\u002fDebit Card\",\"Mobile Payment App\",\"Credit\\u002fDebit Card\",\"Mobile Payment App\",\"Cash\",\"Credit\\u002fDebit Card\",\"Cash\",\"Mobile Payment App\",\"Mobile Payment App\",\"Credit\\u002fDebit Card\",\"Mobile Payment App\",\"Cash\",\"Cash\",\"Cash\",\"Mobile Payment App\",\"Credit\\u002fDebit Card\",\"Mobile Payment App\",\"Credit\\u002fDebit Card\",\"Credit\\u002fDebit Card\",\"Credit\\u002fDebit Card\",\"Credit\\u002fDebit Card\",\"Cash\",\"Mobile Payment App\",\"Mobile Payment App\",\"Credit\\u002fDebit Card\",\"Mobile Payment App\",\"Cash\",\"Credit\\u002fDebit Card\",\"Mobile Payment App\",\"Credit\\u002fDebit Card\",\"Cash\",\"Credit\\u002fDebit Card\",\"Cash\",\"Mobile Payment App\",\"Credit\\u002fDebit Card\",\"Cash\",\"Mobile Payment App\",\"Mobile Payment App\",\"Cash\",\"Credit\\u002fDebit Card\",\"Mobile Payment App\",\"Mobile Payment App\",\"Mobile Payment App\",\"Cash\",\"Mobile Payment App\",\"Mobile Payment App\",\"Cash\",\"Credit\\u002fDebit Card\",\"Mobile Payment App\",\"Credit\\u002fDebit Card\",\"Cash\",\"Cash\",\"Cash\",\"Credit\\u002fDebit Card\",\"Mobile Payment App\",\"Mobile Payment App\",\"Mobile Payment App\",\"Mobile Payment App\",\"Mobile Payment App\",\"Credit\\u002fDebit Card\",\"Mobile Payment App\",\"Cash\",\"Mobile Payment App\",\"Cash\",\"Cash\",\"Credit\\u002fDebit Card\",\"Cash\",\"Cash\",\"Mobile Payment App\",\"Cash\",\"Credit\\u002fDebit Card\",\"Mobile Payment App\",\"Mobile Payment App\",\"Cash\",\"Mobile Payment App\",\"Mobile Payment App\",\"Mobile Payment App\",\"Cash\"],\"yaxis\":\"y\",\"type\":\"funnel\"}],                        {\"template\":{\"data\":{\"histogram2dcontour\":[{\"type\":\"histogram2dcontour\",\"colorbar\":{\"outlinewidth\":0,\"ticks\":\"\"},\"colorscale\":[[0.0,\"#0d0887\"],[0.1111111111111111,\"#46039f\"],[0.2222222222222222,\"#7201a8\"],[0.3333333333333333,\"#9c179e\"],[0.4444444444444444,\"#bd3786\"],[0.5555555555555556,\"#d8576b\"],[0.6666666666666666,\"#ed7953\"],[0.7777777777777778,\"#fb9f3a\"],[0.8888888888888888,\"#fdca26\"],[1.0,\"#f0f921\"]]}],\"choropleth\":[{\"type\":\"choropleth\",\"colorbar\":{\"outlinewidth\":0,\"ticks\":\"\"}}],\"histogram2d\":[{\"type\":\"histogram2d\",\"colorbar\":{\"outlinewidth\":0,\"ticks\":\"\"},\"colorscale\":[[0.0,\"#0d0887\"],[0.1111111111111111,\"#46039f\"],[0.2222222222222222,\"#7201a8\"],[0.3333333333333333,\"#9c179e\"],[0.4444444444444444,\"#bd3786\"],[0.5555555555555556,\"#d8576b\"],[0.6666666666666666,\"#ed7953\"],[0.7777777777777778,\"#fb9f3a\"],[0.8888888888888888,\"#fdca26\"],[1.0,\"#f0f921\"]]}],\"heatmap\":[{\"type\":\"heatmap\",\"colorbar\":{\"outlinewidth\":0,\"ticks\":\"\"},\"colorscale\":[[0.0,\"#0d0887\"],[0.1111111111111111,\"#46039f\"],[0.2222222222222222,\"#7201a8\"],[0.3333333333333333,\"#9c179e\"],[0.4444444444444444,\"#bd3786\"],[0.5555555555555556,\"#d8576b\"],[0.6666666666666666,\"#ed7953\"],[0.7777777777777778,\"#fb9f3a\"],[0.8888888888888888,\"#fdca26\"],[1.0,\"#f0f921\"]]}],\"heatmapgl\":[{\"type\":\"heatmapgl\",\"colorbar\":{\"outlinewidth\":0,\"ticks\":\"\"},\"colorscale\":[[0.0,\"#0d0887\"],[0.1111111111111111,\"#46039f\"],[0.2222222222222222,\"#7201a8\"],[0.3333333333333333,\"#9c179e\"],[0.4444444444444444,\"#bd3786\"],[0.5555555555555556,\"#d8576b\"],[0.6666666666666666,\"#ed7953\"],[0.7777777777777778,\"#fb9f3a\"],[0.8888888888888888,\"#fdca26\"],[1.0,\"#f0f921\"]]}],\"contourcarpet\":[{\"type\":\"contourcarpet\",\"colorbar\":{\"outlinewidth\":0,\"ticks\":\"\"}}],\"contour\":[{\"type\":\"contour\",\"colorbar\":{\"outlinewidth\":0,\"ticks\":\"\"},\"colorscale\":[[0.0,\"#0d0887\"],[0.1111111111111111,\"#46039f\"],[0.2222222222222222,\"#7201a8\"],[0.3333333333333333,\"#9c179e\"],[0.4444444444444444,\"#bd3786\"],[0.5555555555555556,\"#d8576b\"],[0.6666666666666666,\"#ed7953\"],[0.7777777777777778,\"#fb9f3a\"],[0.8888888888888888,\"#fdca26\"],[1.0,\"#f0f921\"]]}],\"surface\":[{\"type\":\"surface\",\"colorbar\":{\"outlinewidth\":0,\"ticks\":\"\"},\"colorscale\":[[0.0,\"#0d0887\"],[0.1111111111111111,\"#46039f\"],[0.2222222222222222,\"#7201a8\"],[0.3333333333333333,\"#9c179e\"],[0.4444444444444444,\"#bd3786\"],[0.5555555555555556,\"#d8576b\"],[0.6666666666666666,\"#ed7953\"],[0.7777777777777778,\"#fb9f3a\"],[0.8888888888888888,\"#fdca26\"],[1.0,\"#f0f921\"]]}],\"mesh3d\":[{\"type\":\"mesh3d\",\"colorbar\":{\"outlinewidth\":0,\"ticks\":\"\"}}],\"scatter\":[{\"fillpattern\":{\"fillmode\":\"overlay\",\"size\":10,\"solidity\":0.2},\"type\":\"scatter\"}],\"parcoords\":[{\"type\":\"parcoords\",\"line\":{\"colorbar\":{\"outlinewidth\":0,\"ticks\":\"\"}}}],\"scatterpolargl\":[{\"type\":\"scatterpolargl\",\"marker\":{\"colorbar\":{\"outlinewidth\":0,\"ticks\":\"\"}}}],\"bar\":[{\"error_x\":{\"color\":\"#2a3f5f\"},\"error_y\":{\"color\":\"#2a3f5f\"},\"marker\":{\"line\":{\"color\":\"#E5ECF6\",\"width\":0.5},\"pattern\":{\"fillmode\":\"overlay\",\"size\":10,\"solidity\":0.2}},\"type\":\"bar\"}],\"scattergeo\":[{\"type\":\"scattergeo\",\"marker\":{\"colorbar\":{\"outlinewidth\":0,\"ticks\":\"\"}}}],\"scatterpolar\":[{\"type\":\"scatterpolar\",\"marker\":{\"colorbar\":{\"outlinewidth\":0,\"ticks\":\"\"}}}],\"histogram\":[{\"marker\":{\"pattern\":{\"fillmode\":\"overlay\",\"size\":10,\"solidity\":0.2}},\"type\":\"histogram\"}],\"scattergl\":[{\"type\":\"scattergl\",\"marker\":{\"colorbar\":{\"outlinewidth\":0,\"ticks\":\"\"}}}],\"scatter3d\":[{\"type\":\"scatter3d\",\"line\":{\"colorbar\":{\"outlinewidth\":0,\"ticks\":\"\"}},\"marker\":{\"colorbar\":{\"outlinewidth\":0,\"ticks\":\"\"}}}],\"scattermapbox\":[{\"type\":\"scattermapbox\",\"marker\":{\"colorbar\":{\"outlinewidth\":0,\"ticks\":\"\"}}}],\"scatterternary\":[{\"type\":\"scatterternary\",\"marker\":{\"colorbar\":{\"outlinewidth\":0,\"ticks\":\"\"}}}],\"scattercarpet\":[{\"type\":\"scattercarpet\",\"marker\":{\"colorbar\":{\"outlinewidth\":0,\"ticks\":\"\"}}}],\"carpet\":[{\"aaxis\":{\"endlinecolor\":\"#2a3f5f\",\"gridcolor\":\"white\",\"linecolor\":\"white\",\"minorgridcolor\":\"white\",\"startlinecolor\":\"#2a3f5f\"},\"baxis\":{\"endlinecolor\":\"#2a3f5f\",\"gridcolor\":\"white\",\"linecolor\":\"white\",\"minorgridcolor\":\"white\",\"startlinecolor\":\"#2a3f5f\"},\"type\":\"carpet\"}],\"table\":[{\"cells\":{\"fill\":{\"color\":\"#EBF0F8\"},\"line\":{\"color\":\"white\"}},\"header\":{\"fill\":{\"color\":\"#C8D4E3\"},\"line\":{\"color\":\"white\"}},\"type\":\"table\"}],\"barpolar\":[{\"marker\":{\"line\":{\"color\":\"#E5ECF6\",\"width\":0.5},\"pattern\":{\"fillmode\":\"overlay\",\"size\":10,\"solidity\":0.2}},\"type\":\"barpolar\"}],\"pie\":[{\"automargin\":true,\"type\":\"pie\"}]},\"layout\":{\"autotypenumbers\":\"strict\",\"colorway\":[\"#636efa\",\"#EF553B\",\"#00cc96\",\"#ab63fa\",\"#FFA15A\",\"#19d3f3\",\"#FF6692\",\"#B6E880\",\"#FF97FF\",\"#FECB52\"],\"font\":{\"color\":\"#2a3f5f\"},\"hovermode\":\"closest\",\"hoverlabel\":{\"align\":\"left\"},\"paper_bgcolor\":\"white\",\"plot_bgcolor\":\"#E5ECF6\",\"polar\":{\"bgcolor\":\"#E5ECF6\",\"angularaxis\":{\"gridcolor\":\"white\",\"linecolor\":\"white\",\"ticks\":\"\"},\"radialaxis\":{\"gridcolor\":\"white\",\"linecolor\":\"white\",\"ticks\":\"\"}},\"ternary\":{\"bgcolor\":\"#E5ECF6\",\"aaxis\":{\"gridcolor\":\"white\",\"linecolor\":\"white\",\"ticks\":\"\"},\"baxis\":{\"gridcolor\":\"white\",\"linecolor\":\"white\",\"ticks\":\"\"},\"caxis\":{\"gridcolor\":\"white\",\"linecolor\":\"white\",\"ticks\":\"\"}},\"coloraxis\":{\"colorbar\":{\"outlinewidth\":0,\"ticks\":\"\"}},\"colorscale\":{\"sequential\":[[0.0,\"#0d0887\"],[0.1111111111111111,\"#46039f\"],[0.2222222222222222,\"#7201a8\"],[0.3333333333333333,\"#9c179e\"],[0.4444444444444444,\"#bd3786\"],[0.5555555555555556,\"#d8576b\"],[0.6666666666666666,\"#ed7953\"],[0.7777777777777778,\"#fb9f3a\"],[0.8888888888888888,\"#fdca26\"],[1.0,\"#f0f921\"]],\"sequentialminus\":[[0.0,\"#0d0887\"],[0.1111111111111111,\"#46039f\"],[0.2222222222222222,\"#7201a8\"],[0.3333333333333333,\"#9c179e\"],[0.4444444444444444,\"#bd3786\"],[0.5555555555555556,\"#d8576b\"],[0.6666666666666666,\"#ed7953\"],[0.7777777777777778,\"#fb9f3a\"],[0.8888888888888888,\"#fdca26\"],[1.0,\"#f0f921\"]],\"diverging\":[[0,\"#8e0152\"],[0.1,\"#c51b7d\"],[0.2,\"#de77ae\"],[0.3,\"#f1b6da\"],[0.4,\"#fde0ef\"],[0.5,\"#f7f7f7\"],[0.6,\"#e6f5d0\"],[0.7,\"#b8e186\"],[0.8,\"#7fbc41\"],[0.9,\"#4d9221\"],[1,\"#276419\"]]},\"xaxis\":{\"gridcolor\":\"white\",\"linecolor\":\"white\",\"ticks\":\"\",\"title\":{\"standoff\":15},\"zerolinecolor\":\"white\",\"automargin\":true,\"zerolinewidth\":2},\"yaxis\":{\"gridcolor\":\"white\",\"linecolor\":\"white\",\"ticks\":\"\",\"title\":{\"standoff\":15},\"zerolinecolor\":\"white\",\"automargin\":true,\"zerolinewidth\":2},\"scene\":{\"xaxis\":{\"backgroundcolor\":\"#E5ECF6\",\"gridcolor\":\"white\",\"linecolor\":\"white\",\"showbackground\":true,\"ticks\":\"\",\"zerolinecolor\":\"white\",\"gridwidth\":2},\"yaxis\":{\"backgroundcolor\":\"#E5ECF6\",\"gridcolor\":\"white\",\"linecolor\":\"white\",\"showbackground\":true,\"ticks\":\"\",\"zerolinecolor\":\"white\",\"gridwidth\":2},\"zaxis\":{\"backgroundcolor\":\"#E5ECF6\",\"gridcolor\":\"white\",\"linecolor\":\"white\",\"showbackground\":true,\"ticks\":\"\",\"zerolinecolor\":\"white\",\"gridwidth\":2}},\"shapedefaults\":{\"line\":{\"color\":\"#2a3f5f\"}},\"annotationdefaults\":{\"arrowcolor\":\"#2a3f5f\",\"arrowhead\":0,\"arrowwidth\":1},\"geo\":{\"bgcolor\":\"white\",\"landcolor\":\"#E5ECF6\",\"subunitcolor\":\"white\",\"showland\":true,\"showlakes\":true,\"lakecolor\":\"white\"},\"title\":{\"x\":0.05},\"mapbox\":{\"style\":\"light\"}}},\"xaxis\":{\"anchor\":\"y\",\"domain\":[0.0,1.0],\"title\":{\"text\":\"monthly_income\"}},\"yaxis\":{\"anchor\":\"x\",\"domain\":[0.0,1.0],\"title\":{\"text\":\"preferred_payment_method\"}},\"legend\":{\"tracegroupgap\":0},\"margin\":{\"t\":60}},                        {\"responsive\": true}                    ).then(function(){\n",
       "                            \n",
       "var gd = document.getElementById('b4d7a417-177d-4274-9d90-14374682a24e');\n",
       "var x = new MutationObserver(function (mutations, observer) {{\n",
       "        var display = window.getComputedStyle(gd).display;\n",
       "        if (!display || display === 'none') {{\n",
       "            console.log([gd, 'removed!']);\n",
       "            Plotly.purge(gd);\n",
       "            observer.disconnect();\n",
       "        }}\n",
       "}});\n",
       "\n",
       "// Listen for the removal of the full notebook cells\n",
       "var notebookContainer = gd.closest('#notebook-container');\n",
       "if (notebookContainer) {{\n",
       "    x.observe(notebookContainer, {childList: true});\n",
       "}}\n",
       "\n",
       "// Listen for the clearing of the current output cell\n",
       "var outputEl = gd.closest('.output');\n",
       "if (outputEl) {{\n",
       "    x.observe(outputEl, {childList: true});\n",
       "}}\n",
       "\n",
       "                        })                };                });            </script>        </div>"
      ]
     },
     "metadata": {},
     "output_type": "display_data"
    }
   ],
   "source": [
    "import plotly.express as px\n",
    "\n",
    "# Utilisation de Plotly Express pour créer le diagramme en entonnoir à partir du DataFrame df\n",
    "fig = px.funnel(df, x='monthly_income', y='preferred_payment_method')\n",
    "\n",
    "# Afficher le diagramme en entonnoir\n",
    "fig.show()\n"
   ]
  },
  {
   "cell_type": "code",
   "execution_count": 42,
   "id": "9a524817",
   "metadata": {},
   "outputs": [
    {
     "data": {
      "text/html": [
       "<div>\n",
       "<style scoped>\n",
       "    .dataframe tbody tr th:only-of-type {\n",
       "        vertical-align: middle;\n",
       "    }\n",
       "\n",
       "    .dataframe tbody tr th {\n",
       "        vertical-align: top;\n",
       "    }\n",
       "\n",
       "    .dataframe thead th {\n",
       "        text-align: right;\n",
       "    }\n",
       "</style>\n",
       "<table border=\"1\" class=\"dataframe\">\n",
       "  <thead>\n",
       "    <tr style=\"text-align: right;\">\n",
       "      <th></th>\n",
       "      <th>Unnamed: 0</th>\n",
       "      <th>age</th>\n",
       "      <th>gender</th>\n",
       "      <th>year_in_school</th>\n",
       "      <th>major</th>\n",
       "      <th>monthly_income</th>\n",
       "      <th>financial_aid</th>\n",
       "      <th>tuition</th>\n",
       "      <th>housing</th>\n",
       "      <th>food</th>\n",
       "      <th>...</th>\n",
       "      <th>entertainment</th>\n",
       "      <th>personal_care</th>\n",
       "      <th>technology</th>\n",
       "      <th>health_wellness</th>\n",
       "      <th>miscellaneous</th>\n",
       "      <th>preferred_payment_method</th>\n",
       "      <th>total</th>\n",
       "      <th>total_spend</th>\n",
       "      <th>total_income</th>\n",
       "      <th>money_saved</th>\n",
       "    </tr>\n",
       "  </thead>\n",
       "  <tbody>\n",
       "    <tr>\n",
       "      <th>0</th>\n",
       "      <td>0</td>\n",
       "      <td>19</td>\n",
       "      <td>Non-binary</td>\n",
       "      <td>Freshman</td>\n",
       "      <td>Psychology</td>\n",
       "      <td>958</td>\n",
       "      <td>270</td>\n",
       "      <td>5939</td>\n",
       "      <td>709</td>\n",
       "      <td>296</td>\n",
       "      <td>...</td>\n",
       "      <td>41</td>\n",
       "      <td>78</td>\n",
       "      <td>134</td>\n",
       "      <td>127</td>\n",
       "      <td>72</td>\n",
       "      <td>Credit/Debit Card</td>\n",
       "      <td>7707</td>\n",
       "      <td>1768</td>\n",
       "      <td>1228</td>\n",
       "      <td>-540</td>\n",
       "    </tr>\n",
       "    <tr>\n",
       "      <th>1</th>\n",
       "      <td>1</td>\n",
       "      <td>24</td>\n",
       "      <td>Female</td>\n",
       "      <td>Junior</td>\n",
       "      <td>Economics</td>\n",
       "      <td>1006</td>\n",
       "      <td>875</td>\n",
       "      <td>4908</td>\n",
       "      <td>557</td>\n",
       "      <td>365</td>\n",
       "      <td>...</td>\n",
       "      <td>74</td>\n",
       "      <td>92</td>\n",
       "      <td>226</td>\n",
       "      <td>129</td>\n",
       "      <td>68</td>\n",
       "      <td>Credit/Debit Card</td>\n",
       "      <td>6756</td>\n",
       "      <td>1848</td>\n",
       "      <td>1881</td>\n",
       "      <td>33</td>\n",
       "    </tr>\n",
       "    <tr>\n",
       "      <th>2</th>\n",
       "      <td>2</td>\n",
       "      <td>24</td>\n",
       "      <td>Non-binary</td>\n",
       "      <td>Junior</td>\n",
       "      <td>Economics</td>\n",
       "      <td>734</td>\n",
       "      <td>928</td>\n",
       "      <td>3051</td>\n",
       "      <td>666</td>\n",
       "      <td>220</td>\n",
       "      <td>...</td>\n",
       "      <td>130</td>\n",
       "      <td>23</td>\n",
       "      <td>239</td>\n",
       "      <td>112</td>\n",
       "      <td>133</td>\n",
       "      <td>Cash</td>\n",
       "      <td>4810</td>\n",
       "      <td>1759</td>\n",
       "      <td>1662</td>\n",
       "      <td>-97</td>\n",
       "    </tr>\n",
       "    <tr>\n",
       "      <th>3</th>\n",
       "      <td>3</td>\n",
       "      <td>23</td>\n",
       "      <td>Female</td>\n",
       "      <td>Senior</td>\n",
       "      <td>Computer Science</td>\n",
       "      <td>617</td>\n",
       "      <td>265</td>\n",
       "      <td>4935</td>\n",
       "      <td>652</td>\n",
       "      <td>289</td>\n",
       "      <td>...</td>\n",
       "      <td>99</td>\n",
       "      <td>30</td>\n",
       "      <td>163</td>\n",
       "      <td>105</td>\n",
       "      <td>55</td>\n",
       "      <td>Mobile Payment App</td>\n",
       "      <td>6665</td>\n",
       "      <td>1730</td>\n",
       "      <td>882</td>\n",
       "      <td>-848</td>\n",
       "    </tr>\n",
       "    <tr>\n",
       "      <th>4</th>\n",
       "      <td>4</td>\n",
       "      <td>20</td>\n",
       "      <td>Female</td>\n",
       "      <td>Senior</td>\n",
       "      <td>Computer Science</td>\n",
       "      <td>810</td>\n",
       "      <td>522</td>\n",
       "      <td>3887</td>\n",
       "      <td>825</td>\n",
       "      <td>372</td>\n",
       "      <td>...</td>\n",
       "      <td>48</td>\n",
       "      <td>71</td>\n",
       "      <td>88</td>\n",
       "      <td>71</td>\n",
       "      <td>104</td>\n",
       "      <td>Credit/Debit Card</td>\n",
       "      <td>5828</td>\n",
       "      <td>1941</td>\n",
       "      <td>1332</td>\n",
       "      <td>-609</td>\n",
       "    </tr>\n",
       "    <tr>\n",
       "      <th>...</th>\n",
       "      <td>...</td>\n",
       "      <td>...</td>\n",
       "      <td>...</td>\n",
       "      <td>...</td>\n",
       "      <td>...</td>\n",
       "      <td>...</td>\n",
       "      <td>...</td>\n",
       "      <td>...</td>\n",
       "      <td>...</td>\n",
       "      <td>...</td>\n",
       "      <td>...</td>\n",
       "      <td>...</td>\n",
       "      <td>...</td>\n",
       "      <td>...</td>\n",
       "      <td>...</td>\n",
       "      <td>...</td>\n",
       "      <td>...</td>\n",
       "      <td>...</td>\n",
       "      <td>...</td>\n",
       "      <td>...</td>\n",
       "      <td>...</td>\n",
       "    </tr>\n",
       "    <tr>\n",
       "      <th>995</th>\n",
       "      <td>995</td>\n",
       "      <td>22</td>\n",
       "      <td>Female</td>\n",
       "      <td>Senior</td>\n",
       "      <td>Biology</td>\n",
       "      <td>1346</td>\n",
       "      <td>520</td>\n",
       "      <td>3688</td>\n",
       "      <td>969</td>\n",
       "      <td>152</td>\n",
       "      <td>...</td>\n",
       "      <td>42</td>\n",
       "      <td>38</td>\n",
       "      <td>252</td>\n",
       "      <td>65</td>\n",
       "      <td>163</td>\n",
       "      <td>Cash</td>\n",
       "      <td>5714</td>\n",
       "      <td>2026</td>\n",
       "      <td>1866</td>\n",
       "      <td>-160</td>\n",
       "    </tr>\n",
       "    <tr>\n",
       "      <th>996</th>\n",
       "      <td>996</td>\n",
       "      <td>19</td>\n",
       "      <td>Female</td>\n",
       "      <td>Senior</td>\n",
       "      <td>Biology</td>\n",
       "      <td>1407</td>\n",
       "      <td>560</td>\n",
       "      <td>3380</td>\n",
       "      <td>508</td>\n",
       "      <td>265</td>\n",
       "      <td>...</td>\n",
       "      <td>40</td>\n",
       "      <td>98</td>\n",
       "      <td>274</td>\n",
       "      <td>84</td>\n",
       "      <td>135</td>\n",
       "      <td>Mobile Payment App</td>\n",
       "      <td>5042</td>\n",
       "      <td>1662</td>\n",
       "      <td>1967</td>\n",
       "      <td>305</td>\n",
       "    </tr>\n",
       "    <tr>\n",
       "      <th>997</th>\n",
       "      <td>997</td>\n",
       "      <td>20</td>\n",
       "      <td>Male</td>\n",
       "      <td>Junior</td>\n",
       "      <td>Economics</td>\n",
       "      <td>957</td>\n",
       "      <td>393</td>\n",
       "      <td>3497</td>\n",
       "      <td>723</td>\n",
       "      <td>339</td>\n",
       "      <td>...</td>\n",
       "      <td>112</td>\n",
       "      <td>46</td>\n",
       "      <td>284</td>\n",
       "      <td>57</td>\n",
       "      <td>28</td>\n",
       "      <td>Mobile Payment App</td>\n",
       "      <td>5294</td>\n",
       "      <td>1797</td>\n",
       "      <td>1350</td>\n",
       "      <td>-447</td>\n",
       "    </tr>\n",
       "    <tr>\n",
       "      <th>998</th>\n",
       "      <td>998</td>\n",
       "      <td>22</td>\n",
       "      <td>Non-binary</td>\n",
       "      <td>Senior</td>\n",
       "      <td>Economics</td>\n",
       "      <td>1174</td>\n",
       "      <td>612</td>\n",
       "      <td>3649</td>\n",
       "      <td>543</td>\n",
       "      <td>237</td>\n",
       "      <td>...</td>\n",
       "      <td>129</td>\n",
       "      <td>90</td>\n",
       "      <td>190</td>\n",
       "      <td>101</td>\n",
       "      <td>65</td>\n",
       "      <td>Mobile Payment App</td>\n",
       "      <td>5327</td>\n",
       "      <td>1678</td>\n",
       "      <td>1786</td>\n",
       "      <td>108</td>\n",
       "    </tr>\n",
       "    <tr>\n",
       "      <th>999</th>\n",
       "      <td>999</td>\n",
       "      <td>24</td>\n",
       "      <td>Non-binary</td>\n",
       "      <td>Sophomore</td>\n",
       "      <td>Computer Science</td>\n",
       "      <td>541</td>\n",
       "      <td>640</td>\n",
       "      <td>5965</td>\n",
       "      <td>609</td>\n",
       "      <td>270</td>\n",
       "      <td>...</td>\n",
       "      <td>139</td>\n",
       "      <td>43</td>\n",
       "      <td>281</td>\n",
       "      <td>88</td>\n",
       "      <td>145</td>\n",
       "      <td>Cash</td>\n",
       "      <td>7946</td>\n",
       "      <td>1981</td>\n",
       "      <td>1181</td>\n",
       "      <td>-800</td>\n",
       "    </tr>\n",
       "  </tbody>\n",
       "</table>\n",
       "<p>1000 rows × 22 columns</p>\n",
       "</div>"
      ],
      "text/plain": [
       "     Unnamed: 0  age      gender year_in_school             major  \\\n",
       "0             0   19  Non-binary       Freshman        Psychology   \n",
       "1             1   24      Female         Junior         Economics   \n",
       "2             2   24  Non-binary         Junior         Economics   \n",
       "3             3   23      Female         Senior  Computer Science   \n",
       "4             4   20      Female         Senior  Computer Science   \n",
       "..          ...  ...         ...            ...               ...   \n",
       "995         995   22      Female         Senior           Biology   \n",
       "996         996   19      Female         Senior           Biology   \n",
       "997         997   20        Male         Junior         Economics   \n",
       "998         998   22  Non-binary         Senior         Economics   \n",
       "999         999   24  Non-binary      Sophomore  Computer Science   \n",
       "\n",
       "     monthly_income  financial_aid  tuition  housing  food  ...  \\\n",
       "0               958            270     5939      709   296  ...   \n",
       "1              1006            875     4908      557   365  ...   \n",
       "2               734            928     3051      666   220  ...   \n",
       "3               617            265     4935      652   289  ...   \n",
       "4               810            522     3887      825   372  ...   \n",
       "..              ...            ...      ...      ...   ...  ...   \n",
       "995            1346            520     3688      969   152  ...   \n",
       "996            1407            560     3380      508   265  ...   \n",
       "997             957            393     3497      723   339  ...   \n",
       "998            1174            612     3649      543   237  ...   \n",
       "999             541            640     5965      609   270  ...   \n",
       "\n",
       "     entertainment  personal_care  technology  health_wellness  miscellaneous  \\\n",
       "0               41             78         134              127             72   \n",
       "1               74             92         226              129             68   \n",
       "2              130             23         239              112            133   \n",
       "3               99             30         163              105             55   \n",
       "4               48             71          88               71            104   \n",
       "..             ...            ...         ...              ...            ...   \n",
       "995             42             38         252               65            163   \n",
       "996             40             98         274               84            135   \n",
       "997            112             46         284               57             28   \n",
       "998            129             90         190              101             65   \n",
       "999            139             43         281               88            145   \n",
       "\n",
       "     preferred_payment_method  total total_spend  total_income  money_saved  \n",
       "0           Credit/Debit Card   7707        1768          1228         -540  \n",
       "1           Credit/Debit Card   6756        1848          1881           33  \n",
       "2                        Cash   4810        1759          1662          -97  \n",
       "3          Mobile Payment App   6665        1730           882         -848  \n",
       "4           Credit/Debit Card   5828        1941          1332         -609  \n",
       "..                        ...    ...         ...           ...          ...  \n",
       "995                      Cash   5714        2026          1866         -160  \n",
       "996        Mobile Payment App   5042        1662          1967          305  \n",
       "997        Mobile Payment App   5294        1797          1350         -447  \n",
       "998        Mobile Payment App   5327        1678          1786          108  \n",
       "999                      Cash   7946        1981          1181         -800  \n",
       "\n",
       "[1000 rows x 22 columns]"
      ]
     },
     "execution_count": 42,
     "metadata": {},
     "output_type": "execute_result"
    }
   ],
   "source": [
    "df"
   ]
  },
  {
   "cell_type": "code",
   "execution_count": null,
   "id": "339d24bd",
   "metadata": {},
   "outputs": [],
   "source": []
  }
 ],
 "metadata": {
  "kernelspec": {
   "display_name": "Python 3 (ipykernel)",
   "language": "python",
   "name": "python3"
  },
  "language_info": {
   "codemirror_mode": {
    "name": "ipython",
    "version": 3
   },
   "file_extension": ".py",
   "mimetype": "text/x-python",
   "name": "python",
   "nbconvert_exporter": "python",
   "pygments_lexer": "ipython3",
   "version": "3.10.5"
  }
 },
 "nbformat": 4,
 "nbformat_minor": 5
}
